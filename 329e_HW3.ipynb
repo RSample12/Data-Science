{
  "cells": [
    {
      "cell_type": "markdown",
      "metadata": {
        "id": "nwwtXDk8mhXn"
      },
      "source": [
        "# Homework 3\n",
        "\n",
        "## Your Name Here (or your names here if you are pair programming)\n",
        "Riley Sample\n",
        "rcs3396\n",
        "\n",
        "## Normal and t distributions\n",
        "## t-test\n"
      ]
    },
    {
      "cell_type": "markdown",
      "metadata": {
        "id": "P6qme0uxmhXq"
      },
      "source": [
        "An experiment was conducted to determine the effect of children participating in a given meal preparation on calorie intake for that meal. Data are recorded below. \n",
        "\n",
        "Save the data to a format that can be read into python. Read the data in for analysis. Data is provided in two separted CSV files. \n",
        "\n",
        "* Use python to calculate the quantities and generate the visual summaries requested below. You will lose points if you are not utilizing python.\n",
        "\n",
        "* You can use scipy libary or other libraries to do your tests or you can implement them from scratch in python \n",
        "\n"
      ]
    },
    {
      "cell_type": "code",
      "execution_count": null,
      "metadata": {
        "id": "ssLUkrHumhXr"
      },
      "outputs": [],
      "source": [
        "# Standard Headers\n",
        "# You are welcome to add additional headers here if you wish\n",
        "import pandas as pd\n",
        "import numpy as np\n",
        "import matplotlib.pyplot as plt\n",
        "import scipy.stats as sp\n",
        "\n",
        "# Enable inline mode for matplotlib so that Jupyter displays graphs\n",
        "%matplotlib inline"
      ]
    },
    {
      "cell_type": "markdown",
      "metadata": {
        "id": "CZMpWPvmmhXt"
      },
      "source": [
        "# Question - 1\n",
        "Summarize the data by whether children participated in the meal preparation or not. Use an appropriately labelled table to show the results. Also include a graphical presentation that shows the distribution of calories for participants vs. non-participants. Describe the shape of each distribution and comment on the similarity (or lack thereof) between the distributions in each population. **(2 points)**\n",
        "\n",
        "Be aware that there is not one specific way the graph needs to look. Experiment with different types of graphs, and different parameters for the graph type. Your goal is to present the data as readable as possible. "
      ]
    },
    {
      "cell_type": "code",
      "execution_count": null,
      "metadata": {
        "id": "oKzYHsyEmhXv",
        "colab": {
          "base_uri": "https://localhost:8080/",
          "height": 729
        },
        "outputId": "71e6dbf8-2467-4ad8-fae3-3640e79300d6"
      },
      "outputs": [
        {
          "output_type": "stream",
          "name": "stdout",
          "text": [
            "                participants       nonparticipants\n",
            "mean                410.0796            374.071818\n",
            "median                424.94                374.74\n",
            "count                   25.0                  22.0\n",
            "std               121.513786            133.139285\n",
            "var             14765.600229          17726.069149\n",
            "IQR     [157.92000000000002]  [149.16500000000002]\n",
            "\n"
          ]
        },
        {
          "output_type": "execute_result",
          "data": {
            "text/plain": [
              "Text(0, 0.5, 'Children')"
            ]
          },
          "metadata": {},
          "execution_count": 142
        },
        {
          "output_type": "display_data",
          "data": {
            "text/plain": [
              "<Figure size 432x288 with 1 Axes>"
            ],
            "image/png": "[encoded data removed]"
          },
          "metadata": {
            "needs_background": "light"
          }
        },
        {
          "output_type": "display_data",
          "data": {
            "text/plain": [
              "<Figure size 432x288 with 1 Axes>"
            ],
            "image/png": "[encoded data removed]"
          },
          "metadata": {
            "needs_background": "light"
          }
        }
      ],
      "source": [
        "# Add your code or descriptions here \n",
        "participants = pd.read_csv('participants.csv')\n",
        "non_participants = pd.read_csv('nonparticipants.csv')\n",
        "\n",
        "# create df of desc. stats\n",
        "data = participants.join(non_participants)\n",
        "table = data.agg({'participants': ['mean', 'median', 'count', 'std', 'var'], \n",
        "           'nonparticipants': ['mean', 'median', 'count', 'std', 'var']})\n",
        "\n",
        "# add IQR\n",
        "IQR1 = participants.quantile(.75) - participants.quantile(.25)\n",
        "IQR2 = non_participants.quantile(.75) - non_participants.quantile(.25)\n",
        "table.loc['IQR'] = [IQR1.values, IQR2.values] \n",
        "print(table)\n",
        "print()\n",
        "\n",
        "# chart 1\n",
        "plt.figure()\n",
        "plt.hist(data['participants'], 10)\n",
        "plt.title('Participants Frequency')\n",
        "plt.xlabel('Calories')\n",
        "plt.ylabel('Children')\n",
        "\n",
        "# chart 2\n",
        "plt.figure()\n",
        "plt.hist(data['nonparticipants'], 10)\n",
        "plt.title('Non-Participants Frequency')\n",
        "plt.xlabel('Calories')\n",
        "plt.ylabel('Children')\n",
        "\n"
      ]
    },
    {
      "cell_type": "code",
      "source": [
        "# Both histograms seem to have a similar distribution with the non-participants \n",
        "# having slightly more to support lower calorie intake indicated by the mean \n",
        "# and median. With more data points these graphs would likely align to a \n",
        "# normal distribution with very similar shape."
      ],
      "metadata": {
        "id": "sArlP_2hd99J"
      },
      "execution_count": null,
      "outputs": []
    },
    {
      "cell_type": "markdown",
      "metadata": {
        "id": "EvlyqMjMmhXw"
      },
      "source": [
        "# Question - 2 \n",
        "\n",
        "Does the mean calorie consumption for those who participated in the meal preparation differ from **425**? Formally test at the $\\alpha = 0.05$ level using the 5 steps outlined in the module. **(6 points)**\n"
      ]
    },
    {
      "cell_type": "code",
      "execution_count": null,
      "metadata": {
        "id": "7Q7gBomjmhXw",
        "colab": {
          "base_uri": "https://localhost:8080/"
        },
        "outputId": "0b5a1cd8-94d6-48e1-9670-686e975100fa"
      },
      "outputs": [
        {
          "output_type": "stream",
          "name": "stdout",
          "text": [
            "tstat: [0.61393857]\n",
            "tcrit: [1.31783593]\n",
            "Absolute Value of t is less than the t critical: [ True]\n",
            "p value is less than alpha: [False]\n"
          ]
        }
      ],
      "source": [
        "# Add your code or descriptions here \n",
        "# null = mean = 425\n",
        "# alt = mean != 425\n",
        "\n",
        "tcrit = sp.t.ppf(.90, participants.count()-1)\n",
        "t, pvalue = sp.ttest_1samp(participants, 425)\n",
        "t = abs(t)\n",
        "\n",
        "print(\"tstat:\", t)\n",
        "print('tcrit:', tcrit)\n",
        "print('Absolute Value of t is less than the t critical:', t < tcrit)\n",
        "print('p value is less than alpha:', pvalue < .05)\n",
        "\n",
        "# t stat < t critical, fail to reject the null\n",
        "# Mean calorie consumption does not differ from 425\n",
        "# We can also verify this because the pvalue is also greater than\n",
        "# the alpha of .05, further supporting the null hypothesis."
      ]
    },
    {
      "cell_type": "markdown",
      "source": [],
      "metadata": {
        "id": "dNoIwMH17xYN"
      }
    },
    {
      "cell_type": "markdown",
      "metadata": {
        "id": "i9lGVBmrmhXx"
      },
      "source": [
        "# Question -3 \n",
        "Calculate a **90%** confidence interval for the mean calorie intake for participants in the meal preparation. Interpret the confidence interval. **(6 points)**"
      ]
    },
    {
      "cell_type": "code",
      "execution_count": null,
      "metadata": {
        "id": "relz7F_OmhXy",
        "colab": {
          "base_uri": "https://localhost:8080/"
        },
        "outputId": "592b5c98-4b07-4dd5-efe6-1587b7c4ed01"
      },
      "outputs": [
        {
          "output_type": "execute_result",
          "data": {
            "text/plain": [
              "(array([368.50044816]), array([451.65875184]))"
            ]
          },
          "metadata": {},
          "execution_count": 140
        }
      ],
      "source": [
        "# Add your code or descriptions here \n",
        "# mean +- z * (stdev / np.sqrt(n))\n",
        "n = participants.count()\n",
        "mean = participants.mean()\n",
        "stdev = participants.std()\n",
        "\n",
        "sp.t.interval(alpha=.90, df=n-1, loc=mean, scale=stdev/np.sqrt(n))\n",
        "\n"
      ]
    },
    {
      "cell_type": "code",
      "execution_count": null,
      "metadata": {
        "id": "LnMC_YfqmhXz"
      },
      "outputs": [],
      "source": [
        "# There is 90% confidence that the population mean(calorie intake)\n",
        "# is between 368.50 and 451.66"
      ]
    },
    {
      "cell_type": "markdown",
      "metadata": {
        "id": "9PoXdA6-mhXz"
      },
      "source": [
        "# Question 4 \n",
        "Formally test whether or not participants consumed \n",
        "more calories than non-participants at the $\\alpha = 0.05$ level using the 5 steps procedure for hypothesis tests. **(6 points )**"
      ]
    },
    {
      "cell_type": "code",
      "execution_count": null,
      "metadata": {
        "id": "iid1pDFVmhX0",
        "colab": {
          "base_uri": "https://localhost:8080/"
        },
        "outputId": "9d8949c3-5321-4805-bf77-b14b507cd0b5"
      },
      "outputs": [
        {
          "output_type": "stream",
          "name": "stdout",
          "text": [
            "participants sample size: participants    25\n",
            "dtype: int64\n",
            "non-participants sample size: nonparticipants    22\n",
            "dtype: int64\n",
            "tstat: [0.96935044]\n",
            "tcrit: [1.7207429]\n",
            "Absolute Value of t is less than the t critical: [ True]\n",
            "p value is less than alpha: [False]\n"
          ]
        }
      ],
      "source": [
        "# Add your code or descriptions here \n",
        "# null = mean1 = mean2\n",
        "# alt = mean1 != mean2\n",
        "n1 = participants.count()\n",
        "n2 = non_participants.count()\n",
        "print('participants sample size:', n1)\n",
        "print('non-participants sample size:', n2)\n",
        "\n",
        "# use the lesser sample size to calculate df\n",
        "tcrit = sp.t.ppf(1-.05, n2 - 1) \n",
        "t, pvalue = sp.ttest_ind(participants, non_participants) \n",
        "t = abs(t)\n",
        "\n",
        "print(\"tstat:\", t)\n",
        "print('tcrit:', tcrit)\n",
        "print('Absolute Value of t is less than the t critical:', t < tcrit)\n",
        "print('p value is less than alpha:', pvalue < .05)\n"
      ]
    },
    {
      "cell_type": "code",
      "source": [
        "# The tstat is less than the tcrit in this case\n",
        "# this indicates that we should fail to reject the null hypothesis.\n",
        "# the p value also supports this as it is greater than the alpha of .05\n",
        "# Therefore, there is not significant evidence that participants consume\n",
        "# more calories than non-participants"
      ],
      "metadata": {
        "id": "wSfu6pHjh4-g"
      },
      "execution_count": null,
      "outputs": []
    },
    {
      "cell_type": "code",
      "execution_count": null,
      "metadata": {
        "id": "WmqGxMWNmhX0"
      },
      "outputs": [],
      "source": []
    }
  ],
  "metadata": {
    "kernelspec": {
      "display_name": "Python 3 (ipykernel)",
      "language": "python",
      "name": "python3"
    },
    "language_info": {
      "codemirror_mode": {
        "name": "ipython",
        "version": 3
      },
      "file_extension": ".py",
      "mimetype": "text/x-python",
      "name": "python",
      "nbconvert_exporter": "python",
      "pygments_lexer": "ipython3",
      "version": "3.9.7"
    },
    "colab": {
      "provenance": []
    }
  },
  "nbformat": 4,
  "nbformat_minor": 0
}
