{
  "cells": [
    {
      "cell_type": "markdown",
      "metadata": {
        "id": "xZ-1UKivgvca"
      },
      "source": [
        "## C S 329E HW7\n",
        "\n",
        "# Ensemble Methods and Skewed Data\n",
        "\n",
        "## Your name here (and your partner's name if you are working in a pair)\n",
        "Riley Sample\n",
        "rcs3396\n",
        "\n",
        "For this week's homework we are going explore two ensemble methods:\n",
        "\n",
        "  - AdaBoost, and\n",
        "  - Random Forests\n",
        "  \n",
        "Along with applying different KPIs (key performance indicators) that are more appropriate to highly skewed data sets. \n",
        "\n",
        "The dataset contains transactions made by credit cards in September 2013 by european cardholders.\n",
        "This dataset presents transactions that occurred in two days, where we have 237 frauds out of 142,167 transactions. The dataset is highly unbalanced, the positive class (frauds) account for 0.17% of all transactions.\n",
        "\n",
        "It contains only numerical input variables which are the result of a [PCA transformation](https://en.wikipedia.org/wiki/Principal_component_analysis). Unfortunately, due to confidentiality issues, we cannot provide the original features and more background information about the data. Features V1, V2, … V28 are the principal components obtained with PCA, the only features which have not been transformed with PCA are 'Time' and 'Amount'. Feature 'Time' contains the seconds elapsed between each transaction and the first transaction in the dataset. The feature 'Amount' is the transaction Amount in Euros. Feature 'Class' is the response variable and it takes value 1 in case of fraud and 0 otherwise.\n",
        "\n",
        "At the end of this homework, I expect you to understand how to train and use ensemble classifiers, how to characterize model performance with ROC curves, and be familiar with the difference between accuracy, true positive rate, and positive predictive value. "
      ]
    },
    {
      "cell_type": "code",
      "execution_count": null,
      "metadata": {
        "colab": {
          "base_uri": "https://localhost:8080/",
          "height": 488
        },
        "id": "20iEtWkkgvcj",
        "outputId": "71911d83-be1c-4554-d5e7-66c8cf7451a7"
      },
      "outputs": [
        {
          "output_type": "execute_result",
          "data": {
            "text/plain": [
              "            Time        V1        V2        V3        V4        V5        V6  \\\n",
              "0        72222.0  1.190580 -0.188208  0.323583 -0.017402 -0.758874 -1.132340   \n",
              "1        65707.0  1.282559  0.270023  0.134166  0.618716 -0.291346 -0.893310   \n",
              "2        47048.0 -0.777343  0.081844  1.910231  1.194221  1.018604  0.438980   \n",
              "3       127379.0 -0.887548  1.417217  0.753405  2.257167  1.392043  0.680374   \n",
              "4       151137.0  1.819262 -0.445540 -0.186929  1.268411 -0.483948  0.164878   \n",
              "...          ...       ...       ...       ...       ...       ...       ...   \n",
              "142399   65324.0 -0.559946  0.103121  0.319922 -0.973168  1.226528 -1.277010   \n",
              "142400  135695.0  1.833353 -0.450252 -0.469224  0.831620  0.415326  2.161855   \n",
              "142401   62620.0 -3.324328 -2.771390  1.883730  0.154892  0.142827 -1.327852   \n",
              "142402   39607.0 -2.457284 -6.208370 -1.997703  1.251932 -2.132900  0.456995   \n",
              "142403  147608.0  1.871051  0.221899 -0.042586  3.531304  0.248165  1.285607   \n",
              "\n",
              "              V7        V8        V9  ...       V21       V22       V23  \\\n",
              "0      -0.021169 -0.201165  0.364626  ... -0.103901 -0.442050  0.024706   \n",
              "1       0.005146 -0.119655  0.219620  ... -0.324119 -0.983490  0.098567   \n",
              "2       0.183102  0.017511 -0.193956  ...  0.072843  0.361164 -0.159239   \n",
              "3       0.531104  0.609270 -1.725432  ... -0.345603 -1.323231  0.219222   \n",
              "4      -0.572012  0.022557  1.071776  ...  0.065024  0.222817  0.099592   \n",
              "...          ...       ...       ...  ...       ...       ...       ...   \n",
              "142399  1.106265 -0.394966 -0.566084  ...  0.160310  0.518538  0.152764   \n",
              "142400 -1.088867  0.775843  0.984546  ...  0.037067  0.266594  0.349396   \n",
              "142401 -1.089896  0.762312 -1.578990  ...  0.165352 -0.626969  0.314974   \n",
              "142402  2.335032 -0.384962 -0.115378  ...  0.974168 -1.585880 -1.585928   \n",
              "142403 -0.675794  0.367247 -0.541569  ...  0.186848  0.601374  0.142002   \n",
              "\n",
              "             V24       V25       V26       V27       V28   Amount  Class  \n",
              "0       0.438578  0.164461  0.930956 -0.096429  0.012989    57.00      0  \n",
              "1      -0.044337  0.228126  0.120401 -0.030385  0.024717     0.89      0  \n",
              "2      -0.743651  0.092543 -0.165719 -0.022370 -0.093903    40.00      0  \n",
              "3      -0.080944 -0.791587 -0.773272  0.040113  0.099547     9.08      0  \n",
              "4      -0.728832 -0.236169 -0.722497  0.068185 -0.010816    90.00      0  \n",
              "...          ...       ...       ...       ...       ...      ...    ...  \n",
              "142399  0.102517 -0.821350  0.710368  0.148434  0.049325    57.81      0  \n",
              "142400 -1.025944 -0.514426 -0.739087  0.106196 -0.045159     1.00      0  \n",
              "142401  0.442229  0.227412 -0.591151 -0.054984 -0.393804   205.77      0  \n",
              "142402 -0.181570 -0.622555  0.678623 -0.442699  0.318217  1915.01      0  \n",
              "142403  0.178048 -0.165776  0.006957  0.009314 -0.038850     4.95      0  \n",
              "\n",
              "[142404 rows x 31 columns]"
            ],
            "text/html": [
              "\n",
              "  <div id=\"df-4113b62e-88fc-4a4e-99c4-1de3445989ce\">\n",
              "    <div class=\"colab-df-container\">\n",
              "      <div>\n",
              "<style scoped>\n",
              "    .dataframe tbody tr th:only-of-type {\n",
              "        vertical-align: middle;\n",
              "    }\n",
              "\n",
              "    .dataframe tbody tr th {\n",
              "        vertical-align: top;\n",
              "    }\n",
              "\n",
              "    .dataframe thead th {\n",
              "        text-align: right;\n",
              "    }\n",
              "</style>\n",
              "<table border=\"1\" class=\"dataframe\">\n",
              "  <thead>\n",
              "    <tr style=\"text-align: right;\">\n",
              "      <th></th>\n",
              "      <th>Time</th>\n",
              "      <th>V1</th>\n",
              "      <th>V2</th>\n",
              "      <th>V3</th>\n",
              "      <th>V4</th>\n",
              "      <th>V5</th>\n",
              "      <th>V6</th>\n",
              "      <th>V7</th>\n",
              "      <th>V8</th>\n",
              "      <th>V9</th>\n",
              "      <th>...</th>\n",
              "      <th>V21</th>\n",
              "      <th>V22</th>\n",
              "      <th>V23</th>\n",
              "      <th>V24</th>\n",
              "      <th>V25</th>\n",
              "      <th>V26</th>\n",
              "      <th>V27</th>\n",
              "      <th>V28</th>\n",
              "      <th>Amount</th>\n",
              "      <th>Class</th>\n",
              "    </tr>\n",
              "  </thead>\n",
              "  <tbody>\n",
              "    <tr>\n",
              "      <th>0</th>\n",
              "      <td>72222.0</td>\n",
              "      <td>1.190580</td>\n",
              "      <td>-0.188208</td>\n",
              "      <td>0.323583</td>\n",
              "      <td>-0.017402</td>\n",
              "      <td>-0.758874</td>\n",
              "      <td>-1.132340</td>\n",
              "      <td>-0.021169</td>\n",
              "      <td>-0.201165</td>\n",
              "      <td>0.364626</td>\n",
              "      <td>...</td>\n",
              "      <td>-0.103901</td>\n",
              "      <td>-0.442050</td>\n",
              "      <td>0.024706</td>\n",
              "      <td>0.438578</td>\n",
              "      <td>0.164461</td>\n",
              "      <td>0.930956</td>\n",
              "      <td>-0.096429</td>\n",
              "      <td>0.012989</td>\n",
              "      <td>57.00</td>\n",
              "      <td>0</td>\n",
              "    </tr>\n",
              "    <tr>\n",
              "      <th>1</th>\n",
              "      <td>65707.0</td>\n",
              "      <td>1.282559</td>\n",
              "      <td>0.270023</td>\n",
              "      <td>0.134166</td>\n",
              "      <td>0.618716</td>\n",
              "      <td>-0.291346</td>\n",
              "      <td>-0.893310</td>\n",
              "      <td>0.005146</td>\n",
              "      <td>-0.119655</td>\n",
              "      <td>0.219620</td>\n",
              "      <td>...</td>\n",
              "      <td>-0.324119</td>\n",
              "      <td>-0.983490</td>\n",
              "      <td>0.098567</td>\n",
              "      <td>-0.044337</td>\n",
              "      <td>0.228126</td>\n",
              "      <td>0.120401</td>\n",
              "      <td>-0.030385</td>\n",
              "      <td>0.024717</td>\n",
              "      <td>0.89</td>\n",
              "      <td>0</td>\n",
              "    </tr>\n",
              "    <tr>\n",
              "      <th>2</th>\n",
              "      <td>47048.0</td>\n",
              "      <td>-0.777343</td>\n",
              "      <td>0.081844</td>\n",
              "      <td>1.910231</td>\n",
              "      <td>1.194221</td>\n",
              "      <td>1.018604</td>\n",
              "      <td>0.438980</td>\n",
              "      <td>0.183102</td>\n",
              "      <td>0.017511</td>\n",
              "      <td>-0.193956</td>\n",
              "      <td>...</td>\n",
              "      <td>0.072843</td>\n",
              "      <td>0.361164</td>\n",
              "      <td>-0.159239</td>\n",
              "      <td>-0.743651</td>\n",
              "      <td>0.092543</td>\n",
              "      <td>-0.165719</td>\n",
              "      <td>-0.022370</td>\n",
              "      <td>-0.093903</td>\n",
              "      <td>40.00</td>\n",
              "      <td>0</td>\n",
              "    </tr>\n",
              "    <tr>\n",
              "      <th>3</th>\n",
              "      <td>127379.0</td>\n",
              "      <td>-0.887548</td>\n",
              "      <td>1.417217</td>\n",
              "      <td>0.753405</td>\n",
              "      <td>2.257167</td>\n",
              "      <td>1.392043</td>\n",
              "      <td>0.680374</td>\n",
              "      <td>0.531104</td>\n",
              "      <td>0.609270</td>\n",
              "      <td>-1.725432</td>\n",
              "      <td>...</td>\n",
              "      <td>-0.345603</td>\n",
              "      <td>-1.323231</td>\n",
              "      <td>0.219222</td>\n",
              "      <td>-0.080944</td>\n",
              "      <td>-0.791587</td>\n",
              "      <td>-0.773272</td>\n",
              "      <td>0.040113</td>\n",
              "      <td>0.099547</td>\n",
              "      <td>9.08</td>\n",
              "      <td>0</td>\n",
              "    </tr>\n",
              "    <tr>\n",
              "      <th>4</th>\n",
              "      <td>151137.0</td>\n",
              "      <td>1.819262</td>\n",
              "      <td>-0.445540</td>\n",
              "      <td>-0.186929</td>\n",
              "      <td>1.268411</td>\n",
              "      <td>-0.483948</td>\n",
              "      <td>0.164878</td>\n",
              "      <td>-0.572012</td>\n",
              "      <td>0.022557</td>\n",
              "      <td>1.071776</td>\n",
              "      <td>...</td>\n",
              "      <td>0.065024</td>\n",
              "      <td>0.222817</td>\n",
              "      <td>0.099592</td>\n",
              "      <td>-0.728832</td>\n",
              "      <td>-0.236169</td>\n",
              "      <td>-0.722497</td>\n",
              "      <td>0.068185</td>\n",
              "      <td>-0.010816</td>\n",
              "      <td>90.00</td>\n",
              "      <td>0</td>\n",
              "    </tr>\n",
              "    <tr>\n",
              "      <th>...</th>\n",
              "      <td>...</td>\n",
              "      <td>...</td>\n",
              "      <td>...</td>\n",
              "      <td>...</td>\n",
              "      <td>...</td>\n",
              "      <td>...</td>\n",
              "      <td>...</td>\n",
              "      <td>...</td>\n",
              "      <td>...</td>\n",
              "      <td>...</td>\n",
              "      <td>...</td>\n",
              "      <td>...</td>\n",
              "      <td>...</td>\n",
              "      <td>...</td>\n",
              "      <td>...</td>\n",
              "      <td>...</td>\n",
              "      <td>...</td>\n",
              "      <td>...</td>\n",
              "      <td>...</td>\n",
              "      <td>...</td>\n",
              "      <td>...</td>\n",
              "    </tr>\n",
              "    <tr>\n",
              "      <th>142399</th>\n",
              "      <td>65324.0</td>\n",
              "      <td>-0.559946</td>\n",
              "      <td>0.103121</td>\n",
              "      <td>0.319922</td>\n",
              "      <td>-0.973168</td>\n",
              "      <td>1.226528</td>\n",
              "      <td>-1.277010</td>\n",
              "      <td>1.106265</td>\n",
              "      <td>-0.394966</td>\n",
              "      <td>-0.566084</td>\n",
              "      <td>...</td>\n",
              "      <td>0.160310</td>\n",
              "      <td>0.518538</td>\n",
              "      <td>0.152764</td>\n",
              "      <td>0.102517</td>\n",
              "      <td>-0.821350</td>\n",
              "      <td>0.710368</td>\n",
              "      <td>0.148434</td>\n",
              "      <td>0.049325</td>\n",
              "      <td>57.81</td>\n",
              "      <td>0</td>\n",
              "    </tr>\n",
              "    <tr>\n",
              "      <th>142400</th>\n",
              "      <td>135695.0</td>\n",
              "      <td>1.833353</td>\n",
              "      <td>-0.450252</td>\n",
              "      <td>-0.469224</td>\n",
              "      <td>0.831620</td>\n",
              "      <td>0.415326</td>\n",
              "      <td>2.161855</td>\n",
              "      <td>-1.088867</td>\n",
              "      <td>0.775843</td>\n",
              "      <td>0.984546</td>\n",
              "      <td>...</td>\n",
              "      <td>0.037067</td>\n",
              "      <td>0.266594</td>\n",
              "      <td>0.349396</td>\n",
              "      <td>-1.025944</td>\n",
              "      <td>-0.514426</td>\n",
              "      <td>-0.739087</td>\n",
              "      <td>0.106196</td>\n",
              "      <td>-0.045159</td>\n",
              "      <td>1.00</td>\n",
              "      <td>0</td>\n",
              "    </tr>\n",
              "    <tr>\n",
              "      <th>142401</th>\n",
              "      <td>62620.0</td>\n",
              "      <td>-3.324328</td>\n",
              "      <td>-2.771390</td>\n",
              "      <td>1.883730</td>\n",
              "      <td>0.154892</td>\n",
              "      <td>0.142827</td>\n",
              "      <td>-1.327852</td>\n",
              "      <td>-1.089896</td>\n",
              "      <td>0.762312</td>\n",
              "      <td>-1.578990</td>\n",
              "      <td>...</td>\n",
              "      <td>0.165352</td>\n",
              "      <td>-0.626969</td>\n",
              "      <td>0.314974</td>\n",
              "      <td>0.442229</td>\n",
              "      <td>0.227412</td>\n",
              "      <td>-0.591151</td>\n",
              "      <td>-0.054984</td>\n",
              "      <td>-0.393804</td>\n",
              "      <td>205.77</td>\n",
              "      <td>0</td>\n",
              "    </tr>\n",
              "    <tr>\n",
              "      <th>142402</th>\n",
              "      <td>39607.0</td>\n",
              "      <td>-2.457284</td>\n",
              "      <td>-6.208370</td>\n",
              "      <td>-1.997703</td>\n",
              "      <td>1.251932</td>\n",
              "      <td>-2.132900</td>\n",
              "      <td>0.456995</td>\n",
              "      <td>2.335032</td>\n",
              "      <td>-0.384962</td>\n",
              "      <td>-0.115378</td>\n",
              "      <td>...</td>\n",
              "      <td>0.974168</td>\n",
              "      <td>-1.585880</td>\n",
              "      <td>-1.585928</td>\n",
              "      <td>-0.181570</td>\n",
              "      <td>-0.622555</td>\n",
              "      <td>0.678623</td>\n",
              "      <td>-0.442699</td>\n",
              "      <td>0.318217</td>\n",
              "      <td>1915.01</td>\n",
              "      <td>0</td>\n",
              "    </tr>\n",
              "    <tr>\n",
              "      <th>142403</th>\n",
              "      <td>147608.0</td>\n",
              "      <td>1.871051</td>\n",
              "      <td>0.221899</td>\n",
              "      <td>-0.042586</td>\n",
              "      <td>3.531304</td>\n",
              "      <td>0.248165</td>\n",
              "      <td>1.285607</td>\n",
              "      <td>-0.675794</td>\n",
              "      <td>0.367247</td>\n",
              "      <td>-0.541569</td>\n",
              "      <td>...</td>\n",
              "      <td>0.186848</td>\n",
              "      <td>0.601374</td>\n",
              "      <td>0.142002</td>\n",
              "      <td>0.178048</td>\n",
              "      <td>-0.165776</td>\n",
              "      <td>0.006957</td>\n",
              "      <td>0.009314</td>\n",
              "      <td>-0.038850</td>\n",
              "      <td>4.95</td>\n",
              "      <td>0</td>\n",
              "    </tr>\n",
              "  </tbody>\n",
              "</table>\n",
              "<p>142404 rows × 31 columns</p>\n",
              "</div>\n",
              "      <button class=\"colab-df-convert\" onclick=\"convertToInteractive('df-4113b62e-88fc-4a4e-99c4-1de3445989ce')\"\n",
              "              title=\"Convert this dataframe to an interactive table.\"\n",
              "              style=\"display:none;\">\n",
              "        \n",
              "  <svg xmlns=\"http://www.w3.org/2000/svg\" height=\"24px\"viewBox=\"0 0 24 24\"\n",
              "       width=\"24px\">\n",
              "    <path d=\"M0 0h24v24H0V0z\" fill=\"none\"/>\n",
              "    <path d=\"M18.56 5.44l.94 2.06.94-2.06 2.06-.94-2.06-.94-.94-2.06-.94 2.06-2.06.94zm-11 1L8.5 8.5l.94-2.06 2.06-.94-2.06-.94L8.5 2.5l-.94 2.06-2.06.94zm10 10l.94 2.06.94-2.06 2.06-.94-2.06-.94-.94-2.06-.94 2.06-2.06.94z\"/><path d=\"M17.41 7.96l-1.37-1.37c-.4-.4-.92-.59-1.43-.59-.52 0-1.04.2-1.43.59L10.3 9.45l-7.72 7.72c-.78.78-.78 2.05 0 2.83L4 21.41c.39.39.9.59 1.41.59.51 0 1.02-.2 1.41-.59l7.78-7.78 2.81-2.81c.8-.78.8-2.07 0-2.86zM5.41 20L4 18.59l7.72-7.72 1.47 1.35L5.41 20z\"/>\n",
              "  </svg>\n",
              "      </button>\n",
              "      \n",
              "  <style>\n",
              "    .colab-df-container {\n",
              "      display:flex;\n",
              "      flex-wrap:wrap;\n",
              "      gap: 12px;\n",
              "    }\n",
              "\n",
              "    .colab-df-convert {\n",
              "      background-color: #E8F0FE;\n",
              "      border: none;\n",
              "      border-radius: 50%;\n",
              "      cursor: pointer;\n",
              "      display: none;\n",
              "      fill: #1967D2;\n",
              "      height: 32px;\n",
              "      padding: 0 0 0 0;\n",
              "      width: 32px;\n",
              "    }\n",
              "\n",
              "    .colab-df-convert:hover {\n",
              "      background-color: #E2EBFA;\n",
              "      box-shadow: 0px 1px 2px rgba(60, 64, 67, 0.3), 0px 1px 3px 1px rgba(60, 64, 67, 0.15);\n",
              "      fill: #174EA6;\n",
              "    }\n",
              "\n",
              "    [theme=dark] .colab-df-convert {\n",
              "      background-color: #3B4455;\n",
              "      fill: #D2E3FC;\n",
              "    }\n",
              "\n",
              "    [theme=dark] .colab-df-convert:hover {\n",
              "      background-color: #434B5C;\n",
              "      box-shadow: 0px 1px 3px 1px rgba(0, 0, 0, 0.15);\n",
              "      filter: drop-shadow(0px 1px 2px rgba(0, 0, 0, 0.3));\n",
              "      fill: #FFFFFF;\n",
              "    }\n",
              "  </style>\n",
              "\n",
              "      <script>\n",
              "        const buttonEl =\n",
              "          document.querySelector('#df-4113b62e-88fc-4a4e-99c4-1de3445989ce button.colab-df-convert');\n",
              "        buttonEl.style.display =\n",
              "          google.colab.kernel.accessAllowed ? 'block' : 'none';\n",
              "\n",
              "        async function convertToInteractive(key) {\n",
              "          const element = document.querySelector('#df-4113b62e-88fc-4a4e-99c4-1de3445989ce');\n",
              "          const dataTable =\n",
              "            await google.colab.kernel.invokeFunction('convertToInteractive',\n",
              "                                                     [key], {});\n",
              "          if (!dataTable) return;\n",
              "\n",
              "          const docLinkHtml = 'Like what you see? Visit the ' +\n",
              "            '<a target=\"_blank\" href=https://colab.research.google.com/notebooks/data_table.ipynb>data table notebook</a>'\n",
              "            + ' to learn more about interactive tables.';\n",
              "          element.innerHTML = '';\n",
              "          dataTable['output_type'] = 'display_data';\n",
              "          await google.colab.output.renderOutput(dataTable, element);\n",
              "          const docLink = document.createElement('div');\n",
              "          docLink.innerHTML = docLinkHtml;\n",
              "          element.appendChild(docLink);\n",
              "        }\n",
              "      </script>\n",
              "    </div>\n",
              "  </div>\n",
              "  "
            ]
          },
          "metadata": {},
          "execution_count": 1
        }
      ],
      "source": [
        "# These are the libraries you will use for this assignment, you may not import anything else\n",
        "import pandas as pd\n",
        "import numpy as np\n",
        "import matplotlib.pyplot as plt\n",
        "%matplotlib inline\n",
        "from sklearn.ensemble import AdaBoostClassifier\n",
        "from sklearn.ensemble import RandomForestClassifier\n",
        "from sklearn.model_selection import StratifiedKFold\n",
        "from sklearn.metrics import plot_roc_curve\n",
        "\n",
        "# This is the credit card data provided, we'll use sklearn methods to do cross validation\n",
        "# to estimate error\n",
        "df_cc = pd.read_csv('cc.csv')\n",
        "df_cc"
      ]
    },
    {
      "cell_type": "markdown",
      "metadata": {
        "id": "HkQzTN22gvcm"
      },
      "source": [
        "## Q1 Parition the data for cross validation\n",
        "\n",
        "Load the data, and split the data set into $X$ (the feature dataframe, `df_X`) and $y$ (the target series `s_y`). Define our partitions.  \n",
        "\n",
        "We know this is a _super_ skewed data set, so we worry about our target class being underrepresented in a random k-fold selection. With this in mind, we use a [stratifed k-fold](https://scikit-learn.org/stable/modules/generated/sklearn.model_selection.StratifiedKFold.html), since it will preserve our class balance in our experiements. Use $k=3$, . Instantiate an instance of the `StratifiedKFold` class, and use the generator `split` to populate the test and train dictonaries:\n",
        "   - `d_train_df_X` : key is the fold number, value is the attribute training dataframe at that fold\n",
        "   - `d_test_df_X`  : key is the fold number, value is the attribute test dataframe at that fold\n",
        "   - `d_train_s_y`  : key is the fold number, value is the target training series at that fold\n",
        "   - `d_train_s_y`  : key is the fold number, value is the target test series at that fold"
      ]
    },
    {
      "cell_type": "code",
      "execution_count": null,
      "metadata": {
        "id": "0dFEMA7Lgvcn"
      },
      "outputs": [],
      "source": [
        "df_x = df_cc.drop(columns=['Class'])\n",
        "s_y = df_cc['Class']"
      ]
    },
    {
      "cell_type": "code",
      "execution_count": null,
      "metadata": {
        "id": "zL1wAqWngvco"
      },
      "outputs": [],
      "source": [
        "skf = StratifiedKFold(n_splits=3,shuffle=True,random_state=23)"
      ]
    },
    {
      "cell_type": "code",
      "execution_count": null,
      "metadata": {
        "colab": {
          "base_uri": "https://localhost:8080/"
        },
        "id": "x8-Jcb1ogvcq",
        "outputId": "6189c22c-d3e4-41f0-9ba8-10509e2b252e"
      },
      "outputs": [
        {
          "output_type": "stream",
          "name": "stdout",
          "text": [
            "[     2      3      4 ... 142400 142402 142403] [     0      1      8 ... 142397 142399 142401]\n",
            "[     0      1      2 ... 142401 142402 142403] [     5      6      7 ... 142389 142398 142400]\n",
            "[     0      1      5 ... 142399 142400 142401] [     2      3      4 ... 142396 142402 142403]\n"
          ]
        }
      ],
      "source": [
        "d_train_df_x = dict()\n",
        "d_test_df_x = dict()\n",
        "d_train_s_y = dict()\n",
        "d_test_s_y = dict()\n",
        "\n",
        "cntr = 1\n",
        "for train_index, test_index in skf.split(df_x, s_y):\n",
        "    print(train_index, test_index)\n",
        "    d_train_df_x[cntr] = df_x.take(train_index)\n",
        "    d_test_df_x[cntr] = df_x.take(test_index)\n",
        "    d_train_s_y[cntr] = s_y.take(train_index)\n",
        "    d_test_s_y[cntr] = s_y.take(test_index)\n",
        "    cntr += 1"
      ]
    },
    {
      "cell_type": "code",
      "execution_count": null,
      "metadata": {
        "scrolled": true,
        "colab": {
          "base_uri": "https://localhost:8080/"
        },
        "id": "mcXIXV2vgvcr",
        "outputId": "add34451-a2bd-4379-c7f4-4ab2fbe61484"
      },
      "outputs": [
        {
          "output_type": "stream",
          "name": "stdout",
          "text": [
            "0    47389\n",
            "1       79\n",
            "Name: Class, dtype: int64\n",
            "0    47389\n",
            "1       79\n",
            "Name: Class, dtype: int64\n",
            "0    47389\n",
            "1       79\n",
            "Name: Class, dtype: int64\n"
          ]
        }
      ],
      "source": [
        "# Look at the test data and verify that the target training is equally distributed as possible\n",
        "for key in d_test_s_y.keys():\n",
        "    print(d_test_s_y[key].value_counts())"
      ]
    },
    {
      "cell_type": "markdown",
      "metadata": {
        "id": "1vImCbJ7gvct"
      },
      "source": [
        "## Section 1 - AdaBoost"
      ]
    },
    {
      "cell_type": "markdown",
      "metadata": {
        "id": "fjSGuxQKgvcv"
      },
      "source": [
        "# Q2 Test the Performance of AdaBoost\n",
        "\n",
        "When we talked about AdaBoost in class, we used a collection of \"Decision Stumps\". In this assignment, we will use the implementation of [AdaBoost in Scikit-learn](https://scikit-learn.org/stable/modules/generated/sklearn.ensemble.AdaBoostClassifier.html).  As you browse the documentation, you will notice that the default base esimator in this implentation is a `DecisionTreeClassifier(max_depth=1)` (our friend the decision stump). \n",
        "\n",
        "After you fit an AdaBoost model, you can call the method `predict` to get a class prediction, or you can call `predict_proba` to get the probability of being in the class `0` or the class `1`. These probabilities are used when creating ROC curves. \n",
        "\n",
        "Loop over the $k$ folds using the dictionaries from the first problem, and for each fold calculate the accuracy, TPR, the PPV, and the FPR.  Plot the ROC curve for each fold. You may use the [plot roc curve](https://scikit-learn.org/stable/modules/generated/sklearn.metrics.plot_roc_curve.html) from Scikit-learn.  There is a great example in the documentation [on plotting ROC curves in cross validation](https://scikit-learn.org/stable/auto_examples/model_selection/plot_roc_crossval.html) that is helpful.  \n",
        "\n",
        "When creating your AdaBoost classifier, please use the following parameters: \n",
        "`AdaBoostClassifier(n_estimators=25, random_state=23)`\n",
        "\n",
        "Save the predictions from the 3rd fold into a variable called `y_hat_ab` for use in a future problem.\n"
      ]
    },
    {
      "cell_type": "code",
      "execution_count": null,
      "metadata": {
        "id": "Hokt2C9Kgvcx"
      },
      "outputs": [],
      "source": [
        "k = 3\n",
        "acc_ab = np.zeros(k)\n",
        "tpr_ab = np.zeros(k)\n",
        "ppv_ab = np.zeros(k)\n",
        "fpr_ab = np.zeros(k)"
      ]
    },
    {
      "cell_type": "code",
      "source": [
        "def get_metrics(y_pred, y_true):\n",
        "    fp = np.sum((y_pred == 1) & (y_true == 0))\n",
        "    tp = np.sum((y_pred == 1) & (y_true == 1))\n",
        "\n",
        "    fn = np.sum((y_pred == 0) & (y_true == 1))\n",
        "    tn = np.sum((y_pred == 0) & (y_true == 0))\n",
        "\n",
        "    tpr = tp / (fn + tp)\n",
        "    fpr = fp / (tn + fp)\n",
        "    ppv = tp / (tp + fp)\n",
        "\n",
        "    return tpr, fpr, ppv"
      ],
      "metadata": {
        "id": "237Re5T_key8"
      },
      "execution_count": null,
      "outputs": []
    },
    {
      "cell_type": "code",
      "execution_count": null,
      "metadata": {
        "colab": {
          "base_uri": "https://localhost:8080/",
          "height": 975
        },
        "id": "CHwYpVfSgvcz",
        "outputId": "8439ec19-13e4-4ed6-84af-31b651951a63"
      },
      "outputs": [
        {
          "output_type": "stream",
          "name": "stderr",
          "text": [
            "/usr/local/lib/python3.7/dist-packages/sklearn/utils/deprecation.py:87: FutureWarning: Function plot_roc_curve is deprecated; Function :func:`plot_roc_curve` is deprecated in 1.0 and will be removed in 1.2. Use one of the class methods: :meth:`sklearn.metric.RocCurveDisplay.from_predictions` or :meth:`sklearn.metric.RocCurveDisplay.from_estimator`.\n",
            "  warnings.warn(msg, category=FutureWarning)\n"
          ]
        },
        {
          "output_type": "display_data",
          "data": {
            "text/plain": [
              "<Figure size 432x288 with 1 Axes>"
            ],
            "image/png": "[encoded data removed]"
          },
          "metadata": {
            "needs_background": "light"
          }
        },
        {
          "output_type": "stream",
          "name": "stderr",
          "text": [
            "/usr/local/lib/python3.7/dist-packages/sklearn/utils/deprecation.py:87: FutureWarning: Function plot_roc_curve is deprecated; Function :func:`plot_roc_curve` is deprecated in 1.0 and will be removed in 1.2. Use one of the class methods: :meth:`sklearn.metric.RocCurveDisplay.from_predictions` or :meth:`sklearn.metric.RocCurveDisplay.from_estimator`.\n",
            "  warnings.warn(msg, category=FutureWarning)\n"
          ]
        },
        {
          "output_type": "display_data",
          "data": {
            "text/plain": [
              "<Figure size 432x288 with 1 Axes>"
            ],
            "image/png": "[encoded data removed]"
          },
          "metadata": {
            "needs_background": "light"
          }
        },
        {
          "output_type": "stream",
          "name": "stderr",
          "text": [
            "/usr/local/lib/python3.7/dist-packages/sklearn/utils/deprecation.py:87: FutureWarning: Function plot_roc_curve is deprecated; Function :func:`plot_roc_curve` is deprecated in 1.0 and will be removed in 1.2. Use one of the class methods: :meth:`sklearn.metric.RocCurveDisplay.from_predictions` or :meth:`sklearn.metric.RocCurveDisplay.from_estimator`.\n",
            "  warnings.warn(msg, category=FutureWarning)\n"
          ]
        },
        {
          "output_type": "display_data",
          "data": {
            "text/plain": [
              "<Figure size 432x288 with 1 Axes>"
            ],
            "image/png": "[encoded data removed]"
          },
          "metadata": {
            "needs_background": "light"
          }
        }
      ],
      "source": [
        "for i in d_train_df_x.keys():\n",
        "    # model\n",
        "    ada = AdaBoostClassifier(n_estimators=25, random_state=23)\n",
        "    ada.fit(d_train_df_x[i], d_train_s_y[i])\n",
        "\n",
        "    # get accuracy\n",
        "    acc = ada.score(d_test_df_x[i], d_test_s_y[i])\n",
        "    acc_ab[i - 1] = acc\n",
        "\n",
        "    # get tpr and fpr\n",
        "    y_pred = ada.predict(d_test_df_x[i])\n",
        "    tpr, fpr, ppv = get_metrics(y_pred, d_test_s_y[i])\n",
        "    tpr_ab[i - 1] = tpr\n",
        "    fpr_ab[i - 1] = fpr\n",
        "    ppv_ab[i - 1] = ppv\n",
        "\n",
        "    # save 3rd fold y_pred\n",
        "    if i == 3:\n",
        "        y_hat_ab = y_pred\n",
        "\n",
        "    # plot curve\n",
        "    plot_roc_curve(ada, d_test_df_x[i], d_test_s_y[i]) \n",
        "    plt.title('Fold {}'.format(i))\n",
        "    plt.show()\n"
      ]
    },
    {
      "cell_type": "code",
      "execution_count": null,
      "metadata": {
        "colab": {
          "base_uri": "https://localhost:8080/"
        },
        "id": "mWThHuTUgvc0",
        "outputId": "585637a0-809e-4cf9-acd0-bd434299a468"
      },
      "outputs": [
        {
          "output_type": "stream",
          "name": "stdout",
          "text": [
            "The min, mean, and max TPR are: 0.62, 0.65, and 0.71\n",
            "The min, mean, and max PPV are: 0.75, 0.79, and 0.82\n",
            "The min, mean, and max ACC are: 1.00, 1.00, and 1.00\n"
          ]
        }
      ],
      "source": [
        "print('The min, mean, and max TPR are: {:.2f}, {:.2f}, and {:.2f}'.format(tpr_ab.min(), tpr_ab.mean(), tpr_ab.max()))\n",
        "print('The min, mean, and max PPV are: {:.2f}, {:.2f}, and {:.2f}'.format(ppv_ab.min(), ppv_ab.mean(), ppv_ab.max()))\n",
        "print('The min, mean, and max ACC are: {:.2f}, {:.2f}, and {:.2f}'.format(acc_ab.min(), acc_ab.mean(), acc_ab.max()))"
      ]
    },
    {
      "cell_type": "markdown",
      "metadata": {
        "id": "eKU5thWpgvc3"
      },
      "source": [
        "## Q3 Test the Performance of Random Forests\n",
        "\n",
        "Now, let's try another ensemble method: Random Forests, again using the [Scikit-learn implementation](https://scikit-learn.org/stable/modules/generated/sklearn.ensemble.RandomForestClassifier.html). \n",
        "\n",
        "Following our book, we will build complete trees, with no pruning.  That means every leaf in the tree will be completelely pure, and if you exam an individual Decision Tree it would be overtrained to our training set.  While building the decision trees, at every internal node, we select $p$ attributes at random, and then find the best split that minimizes impurtity.  The value, $p$, is a hyperparamter of the Random Forest and corresponds to the `max_features` parameter in the Random Forest Class. \n",
        "\n",
        "After you fit an RandomForest model, you can call the method `predict` to get a class prediction, or you can call `predict_proba` to get the probability of being in the class `0` or the class `1`. These probabilities are used when creating ROC curves. \n",
        "\n",
        "Loop over the $k$ folds using the dictionaries from the first problem, and for each fold calculate the accuracy, TPR, the PPV, and the FPR.  Plot the ROC curve for each fold. You may use the [plot roc curve](https://scikit-learn.org/stable/modules/generated/sklearn.metrics.plot_roc_curve.html) from Scikit-learn. There is a great example in the documentation [on plotting ROC curves in cross validation](https://scikit-learn.org/stable/auto_examples/model_selection/plot_roc_crossval.html) that is helpful.  \n",
        "\n",
        "When creating your Random Forest classifier, please use the following parameters: \n",
        "`RandomForestClassifier(criterion=\"entropy\", max_features=\"sqrt\", random_state=23)`\n",
        "\n",
        "Save the predictions from the 3rd fold into a variable called `y_hat_rf` for use in a future problem."
      ]
    },
    {
      "cell_type": "code",
      "execution_count": null,
      "metadata": {
        "id": "zkGGabzkgvc6"
      },
      "outputs": [],
      "source": [
        "k = 3\n",
        "acc_rf = np.zeros(k)\n",
        "tpr_rf = np.zeros(k)\n",
        "ppv_rf = np.zeros(k)\n",
        "fpr_rf = np.zeros(k)"
      ]
    },
    {
      "cell_type": "code",
      "execution_count": null,
      "metadata": {
        "colab": {
          "base_uri": "https://localhost:8080/",
          "height": 975
        },
        "id": "TDegLP4Ggvc7",
        "outputId": "03a68cca-29f6-4284-ece6-b60547eba7d8"
      },
      "outputs": [
        {
          "output_type": "stream",
          "name": "stderr",
          "text": [
            "/usr/local/lib/python3.7/dist-packages/sklearn/utils/deprecation.py:87: FutureWarning: Function plot_roc_curve is deprecated; Function :func:`plot_roc_curve` is deprecated in 1.0 and will be removed in 1.2. Use one of the class methods: :meth:`sklearn.metric.RocCurveDisplay.from_predictions` or :meth:`sklearn.metric.RocCurveDisplay.from_estimator`.\n",
            "  warnings.warn(msg, category=FutureWarning)\n"
          ]
        },
        {
          "output_type": "display_data",
          "data": {
            "text/plain": [
              "<Figure size 432x288 with 1 Axes>"
            ],
            "image/png": "[encoded data removed]"
          },
          "metadata": {
            "needs_background": "light"
          }
        },
        {
          "output_type": "stream",
          "name": "stderr",
          "text": [
            "/usr/local/lib/python3.7/dist-packages/sklearn/utils/deprecation.py:87: FutureWarning: Function plot_roc_curve is deprecated; Function :func:`plot_roc_curve` is deprecated in 1.0 and will be removed in 1.2. Use one of the class methods: :meth:`sklearn.metric.RocCurveDisplay.from_predictions` or :meth:`sklearn.metric.RocCurveDisplay.from_estimator`.\n",
            "  warnings.warn(msg, category=FutureWarning)\n"
          ]
        },
        {
          "output_type": "display_data",
          "data": {
            "text/plain": [
              "<Figure size 432x288 with 1 Axes>"
            ],
            "image/png": "[encoded data removed]"
          },
          "metadata": {
            "needs_background": "light"
          }
        },
        {
          "output_type": "stream",
          "name": "stderr",
          "text": [
            "/usr/local/lib/python3.7/dist-packages/sklearn/utils/deprecation.py:87: FutureWarning: Function plot_roc_curve is deprecated; Function :func:`plot_roc_curve` is deprecated in 1.0 and will be removed in 1.2. Use one of the class methods: :meth:`sklearn.metric.RocCurveDisplay.from_predictions` or :meth:`sklearn.metric.RocCurveDisplay.from_estimator`.\n",
            "  warnings.warn(msg, category=FutureWarning)\n"
          ]
        },
        {
          "output_type": "display_data",
          "data": {
            "text/plain": [
              "<Figure size 432x288 with 1 Axes>"
            ],
            "image/png": "[encoded data removed]"
          },
          "metadata": {
            "needs_background": "light"
          }
        }
      ],
      "source": [
        "for i in d_train_df_x.keys():\n",
        "    # model\n",
        "    model = RandomForestClassifier(criterion=\"entropy\", max_features=\"sqrt\", random_state=23)\n",
        "    model.fit(d_train_df_x[i], d_train_s_y[i])\n",
        "\n",
        "    # get accuracy\n",
        "    acc = model.score(d_test_df_x[i], d_test_s_y[i])\n",
        "    acc_rf[i - 1] = acc\n",
        "\n",
        "    # get tpr and fpr\n",
        "    y_pred = model.predict(d_test_df_x[i])\n",
        "    tpr, fpr, ppv = get_metrics(y_pred, d_test_s_y[i])\n",
        "    tpr_rf[i - 1] = tpr\n",
        "    fpr_rf[i - 1] = fpr\n",
        "    ppv_rf[i - 1] = ppv\n",
        "\n",
        "    # save 3rd fold y_pred\n",
        "    if i == 3:\n",
        "        y_hat_rf = y_pred\n",
        "\n",
        "    # plot curve\n",
        "    plot_roc_curve(model, d_test_df_x[i], d_test_s_y[i]) \n",
        "    plt.title('Fold {}'.format(i))\n",
        "    plt.show()\n"
      ]
    },
    {
      "cell_type": "code",
      "execution_count": null,
      "metadata": {
        "colab": {
          "base_uri": "https://localhost:8080/"
        },
        "id": "ss2y4Dufgvc8",
        "outputId": "8eb3267a-c24a-4670-d629-7a6e800e9096"
      },
      "outputs": [
        {
          "output_type": "stream",
          "name": "stdout",
          "text": [
            "The min, mean, and max TPR are: 0.75, 0.78, and 0.80\n",
            "The min, mean, and max PPV are: 0.92, 0.93, and 0.95\n",
            "The min, mean, and max ACC are: 1.00, 1.00, and 1.00\n"
          ]
        }
      ],
      "source": [
        "print('The min, mean, and max TPR are: {:.2f}, {:.2f}, and {:.2f}'.format(tpr_rf.min(), tpr_rf.mean(), tpr_rf.max()))\n",
        "print('The min, mean, and max PPV are: {:.2f}, {:.2f}, and {:.2f}'.format(ppv_rf.min(), ppv_rf.mean(), ppv_rf.max()))\n",
        "print('The min, mean, and max ACC are: {:.2f}, {:.2f}, and {:.2f}'.format(acc_rf.min(), acc_rf.mean(), acc_rf.max()))"
      ]
    },
    {
      "cell_type": "markdown",
      "metadata": {
        "id": "6Oy2sCHLgvc9"
      },
      "source": [
        "# Q4 Calculate the Cost of Fraud \n",
        "\n",
        "In the above problems, we saved the predictions of the 3rd fold into the variables `y_hat_ab` and `y_hat_rf` for the AdaBoost and RandomForest models respectively. \n",
        "\n",
        "Now, Mr. Bank Man wants you to tell him how much money he is going to save if he deploys either of these fraud algorithms to the real-time payment processing system.  Assume that there is not a currently deployed fraud detection algorithm.  \n",
        "\n",
        "For every fraudulent transaction that is not predicted as fraudulent the bank looses twice that much money.  So, a fradulent charge for €10 is undectected, it costs the bank €20.  Also, if a charge is predicted as fradulent, but wasn't, it costs the bank a flat fee of €3 in customer service support to communicate with the customer, and mark the possible fraud as a normal transaction. \n",
        "\n",
        "Using the 3rd fold test sample, calculate how much money Mr Bank Man will save with each algorithm, and make a recommendation of which algorithm to deploy to production."
      ]
    },
    {
      "cell_type": "code",
      "execution_count": null,
      "metadata": {
        "id": "X441Ch_Dgvc_"
      },
      "outputs": [],
      "source": [
        "def calc_fraud(y_pred, y_true, amount):\n",
        "    cost = 0\n",
        "    for i in range(len(amount)):\n",
        "        if y_pred[i] == 1 and y_true[i] == 0:\n",
        "            cost += 3\n",
        "        elif y_pred[i] == 1 and y_true[i] == 1:\n",
        "            cost += amount[i]\n",
        "        elif y_pred[i] == 0 and y_true[i] == 1:\n",
        "            cost += (amount[i] * 2)\n",
        "\n",
        "    return cost"
      ]
    },
    {
      "cell_type": "code",
      "source": [
        "x_test = d_test_df_x[3]\n",
        "amount = np.asarray(x_test['Amount'])\n",
        "amount = amount.tolist()\n",
        "y_true = d_test_s_y[3]\n",
        "\n",
        "ab_fraud = calc_fraud(y_hat_ab.tolist(), y_true.tolist(), amount)\n",
        "rf_fraud = calc_fraud(y_hat_rf.tolist(), y_true.tolist(), amount)\n",
        "\n",
        "print('Using the AdaBoost algorithm, the bank would lose approx. ${:.2f}'.format(ab_fraud))\n",
        "print('Using the Random Forests algorithm, the bank would lose approx. ${:.2f}'.format(rf_fraud))\n",
        "print('This means the Random Forests algorithm would save the bank approx. ${:.2f}'.format(ab_fraud - rf_fraud))"
      ],
      "metadata": {
        "colab": {
          "base_uri": "https://localhost:8080/"
        },
        "id": "0zr6eaXFz4fH",
        "outputId": "7430efe1-74df-4c78-feb0-65438f8a3593"
      },
      "execution_count": null,
      "outputs": [
        {
          "output_type": "stream",
          "name": "stdout",
          "text": [
            "Using the AdaBoost algorithm, the bank would lose approx. $15532.53\n",
            "Using the Random Forests algorithm, the bank would lose approx. $13428.56\n",
            "This means the Random Forests algorithm would save the bank approx. $2103.97\n"
          ]
        }
      ]
    },
    {
      "cell_type": "markdown",
      "metadata": {
        "id": "9pi8hCoPgvdA"
      },
      "source": [
        ":Mr Bank man will save more money, if we deploy the Random Forests algorithm! "
      ]
    }
  ],
  "metadata": {
    "kernelspec": {
      "display_name": "Python 3",
      "language": "python",
      "name": "python3"
    },
    "language_info": {
      "codemirror_mode": {
        "name": "ipython",
        "version": 3
      },
      "file_extension": ".py",
      "mimetype": "text/x-python",
      "name": "python",
      "nbconvert_exporter": "python",
      "pygments_lexer": "ipython3",
      "version": "3.8.3"
    },
    "colab": {
      "provenance": []
    }
  },
  "nbformat": 4,
  "nbformat_minor": 0
}
