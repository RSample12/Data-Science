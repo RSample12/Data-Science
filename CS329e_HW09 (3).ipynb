{
  "cells": [
    {
      "cell_type": "markdown",
      "metadata": {
        "id": "iVEZ95_RVMoQ"
      },
      "source": [
        "## C S 329E HW 9\n",
        "\n",
        "# Crossvalidation and hyperparameter selection\n",
        "\n",
        "## Your name here (and your partner's name if you are working in a pair)\n",
        "Riley Sample\n",
        "rcs3396\n",
        "\n",
        "For this week's homework we are going to explore the cross validation testing methodology and applying that to get error estimates on the two algorithms we've used so far:\n",
        "  - Linear Regression\n",
        "  - Decision Tree classification\n",
        "  "
      ]
    },
    {
      "cell_type": "code",
      "execution_count": null,
      "metadata": {
        "id": "-kSFoYBGVMoU"
      },
      "outputs": [],
      "source": [
        "# import the libraries! If you want to add things here for visualization, please do, \n",
        "# but only use sklearn when prompted\n",
        "import pandas as pd\n",
        "import numpy as np\n",
        "from sklearn import tree \n",
        "from sklearn.datasets import load_iris\n",
        "from sklearn.datasets import load_diabetes"
      ]
    },
    {
      "cell_type": "markdown",
      "metadata": {
        "id": "u8tt9dqoVMoW"
      },
      "source": [
        "# Part 1 - Calculate Generalized Error on Linear Regression with k-fold Cross Validation"
      ]
    },
    {
      "cell_type": "markdown",
      "metadata": {
        "id": "HJhacC19VMoW"
      },
      "source": [
        "## Q1.1 Load in the diabetes data set as a pandas dataframe and series.  \n",
        "Documentation is [here](https://scikit-learn.org/stable/modules/generated/sklearn.datasets.load_diabetes.html).  Name your features dataframe (the independent variables) `df_X` and your target (the dependent variable) series `s_y`"
      ]
    },
    {
      "cell_type": "code",
      "execution_count": null,
      "metadata": {
        "colab": {
          "base_uri": "https://localhost:8080/"
        },
        "id": "NIhxQE8qVMoX",
        "outputId": "4dfac763-5524-4ebd-bb7d-f78465a6abbc"
      },
      "outputs": [
        {
          "output_type": "stream",
          "name": "stdout",
          "text": [
            "442\n",
            "442\n"
          ]
        }
      ],
      "source": [
        "df_x, s_y = load_diabetes(return_X_y=True)\n",
        "df_x = pd.DataFrame(df_x)\n",
        "s_y = pd.DataFrame(s_y)\n",
        "print(len(df_x))\n",
        "print(len(s_y))"
      ]
    },
    {
      "cell_type": "markdown",
      "metadata": {
        "id": "eUg679t7VMoX"
      },
      "source": [
        "## Q1.2 Define a function that creates a linear least squares regression model \n",
        "This function should take in two parameters, `df_X`, and `s_y` and return the least squares regression model, $\\hat{\\beta}$ (using the notation from the ESLII book chapter 3 and HW2).  You can not use any libraries outside of pandas and numpy. "
      ]
    },
    {
      "cell_type": "code",
      "execution_count": null,
      "metadata": {
        "id": "l9OGwxkDVMoX"
      },
      "outputs": [],
      "source": [
        "def get_linear_regression_model(df_x, s_y):\n",
        "    temp = df_x.copy()\n",
        "    temp[10] = 1\n",
        "    # print(temp.shape, s_y.shape)\n",
        "    x, residuals, rank, s = np.linalg.lstsq(temp, s_y)\n",
        "    return x\n"
      ]
    },
    {
      "cell_type": "code",
      "source": [
        "get_linear_regression_model(df_x, s_y)"
      ],
      "metadata": {
        "colab": {
          "base_uri": "https://localhost:8080/"
        },
        "id": "wMm9cipgymex",
        "outputId": "1464504e-a071-464e-c68d-f3d0d86c549a"
      },
      "execution_count": null,
      "outputs": [
        {
          "output_type": "stream",
          "name": "stderr",
          "text": [
            "/usr/local/lib/python3.7/dist-packages/ipykernel_launcher.py:5: FutureWarning: `rcond` parameter will change to the default of machine precision times ``max(M, N)`` where M and N are the input matrix dimensions.\n",
            "To use the future default and silence this warning we advise to pass `rcond=None`, to keep using the old, explicitly pass `rcond=-1`.\n",
            "  \"\"\"\n"
          ]
        },
        {
          "output_type": "execute_result",
          "data": {
            "text/plain": [
              "array([[ -10.01219782],\n",
              "       [-239.81908937],\n",
              "       [ 519.83978679],\n",
              "       [ 324.39042769],\n",
              "       [-792.18416163],\n",
              "       [ 476.74583782],\n",
              "       [ 101.04457032],\n",
              "       [ 177.06417623],\n",
              "       [ 751.27932109],\n",
              "       [  67.62538639],\n",
              "       [ 152.13348416]])"
            ]
          },
          "metadata": {},
          "execution_count": 4
        }
      ]
    },
    {
      "cell_type": "markdown",
      "metadata": {
        "id": "aVXrCpgMVMoY"
      },
      "source": [
        "## Q1.3 Define a function that partitions the dataframe and series data into dictionaries\n",
        "This function should take in three parameters, `df_X`, `s_y`, and `k`, and returns a tuple of two dictionaries.\n",
        "In both dictionaries the key is the `k` value (an integer from one to `k` inclusive).\n",
        "The first dictionary will have the dataframe of the training data that contains approximately $\\frac{1}{k}$ of the data (variation due to randomness is acceptable).\n",
        "The second dictionary will have the series of the target data that contains approximately $\\frac{1}{k}$ of the data (variation due to randomness is acceptable). Please note the targets _must match_ the same rows as the dataframe at this index, e.g, the length of the kth partition is the same for the dataframe and series.\n",
        "\n",
        "Call that function with $k=5$ and create the dictionaries `dict_k_df_X` and `dict_k_s_y`. Print out the number of rows in each fold.  Check that the number of data points in each partition totals the number of data points in the entire dataset. "
      ]
    },
    {
      "cell_type": "code",
      "source": [
        "df_x"
      ],
      "metadata": {
        "colab": {
          "base_uri": "https://localhost:8080/",
          "height": 424
        },
        "id": "RrkeSpQGqKGc",
        "outputId": "8d2082c5-bfec-4651-e785-d84f5624232b"
      },
      "execution_count": null,
      "outputs": [
        {
          "output_type": "execute_result",
          "data": {
            "text/plain": [
              "            0         1         2         3         4         5         6  \\\n",
              "0    0.038076  0.050680  0.061696  0.021872 -0.044223 -0.034821 -0.043401   \n",
              "1   -0.001882 -0.044642 -0.051474 -0.026328 -0.008449 -0.019163  0.074412   \n",
              "2    0.085299  0.050680  0.044451 -0.005671 -0.045599 -0.034194 -0.032356   \n",
              "3   -0.089063 -0.044642 -0.011595 -0.036656  0.012191  0.024991 -0.036038   \n",
              "4    0.005383 -0.044642 -0.036385  0.021872  0.003935  0.015596  0.008142   \n",
              "..        ...       ...       ...       ...       ...       ...       ...   \n",
              "437  0.041708  0.050680  0.019662  0.059744 -0.005697 -0.002566 -0.028674   \n",
              "438 -0.005515  0.050680 -0.015906 -0.067642  0.049341  0.079165 -0.028674   \n",
              "439  0.041708  0.050680 -0.015906  0.017282 -0.037344 -0.013840 -0.024993   \n",
              "440 -0.045472 -0.044642  0.039062  0.001215  0.016318  0.015283 -0.028674   \n",
              "441 -0.045472 -0.044642 -0.073030 -0.081414  0.083740  0.027809  0.173816   \n",
              "\n",
              "            7         8         9  \n",
              "0   -0.002592  0.019908 -0.017646  \n",
              "1   -0.039493 -0.068330 -0.092204  \n",
              "2   -0.002592  0.002864 -0.025930  \n",
              "3    0.034309  0.022692 -0.009362  \n",
              "4   -0.002592 -0.031991 -0.046641  \n",
              "..        ...       ...       ...  \n",
              "437 -0.002592  0.031193  0.007207  \n",
              "438  0.034309 -0.018118  0.044485  \n",
              "439 -0.011080 -0.046879  0.015491  \n",
              "440  0.026560  0.044528 -0.025930  \n",
              "441 -0.039493 -0.004220  0.003064  \n",
              "\n",
              "[442 rows x 10 columns]"
            ],
            "text/html": [
              "\n",
              "  <div id=\"df-a15bc7fd-e7b5-4d3a-b847-0de1ccd9de54\">\n",
              "    <div class=\"colab-df-container\">\n",
              "      <div>\n",
              "<style scoped>\n",
              "    .dataframe tbody tr th:only-of-type {\n",
              "        vertical-align: middle;\n",
              "    }\n",
              "\n",
              "    .dataframe tbody tr th {\n",
              "        vertical-align: top;\n",
              "    }\n",
              "\n",
              "    .dataframe thead th {\n",
              "        text-align: right;\n",
              "    }\n",
              "</style>\n",
              "<table border=\"1\" class=\"dataframe\">\n",
              "  <thead>\n",
              "    <tr style=\"text-align: right;\">\n",
              "      <th></th>\n",
              "      <th>0</th>\n",
              "      <th>1</th>\n",
              "      <th>2</th>\n",
              "      <th>3</th>\n",
              "      <th>4</th>\n",
              "      <th>5</th>\n",
              "      <th>6</th>\n",
              "      <th>7</th>\n",
              "      <th>8</th>\n",
              "      <th>9</th>\n",
              "    </tr>\n",
              "  </thead>\n",
              "  <tbody>\n",
              "    <tr>\n",
              "      <th>0</th>\n",
              "      <td>0.038076</td>\n",
              "      <td>0.050680</td>\n",
              "      <td>0.061696</td>\n",
              "      <td>0.021872</td>\n",
              "      <td>-0.044223</td>\n",
              "      <td>-0.034821</td>\n",
              "      <td>-0.043401</td>\n",
              "      <td>-0.002592</td>\n",
              "      <td>0.019908</td>\n",
              "      <td>-0.017646</td>\n",
              "    </tr>\n",
              "    <tr>\n",
              "      <th>1</th>\n",
              "      <td>-0.001882</td>\n",
              "      <td>-0.044642</td>\n",
              "      <td>-0.051474</td>\n",
              "      <td>-0.026328</td>\n",
              "      <td>-0.008449</td>\n",
              "      <td>-0.019163</td>\n",
              "      <td>0.074412</td>\n",
              "      <td>-0.039493</td>\n",
              "      <td>-0.068330</td>\n",
              "      <td>-0.092204</td>\n",
              "    </tr>\n",
              "    <tr>\n",
              "      <th>2</th>\n",
              "      <td>0.085299</td>\n",
              "      <td>0.050680</td>\n",
              "      <td>0.044451</td>\n",
              "      <td>-0.005671</td>\n",
              "      <td>-0.045599</td>\n",
              "      <td>-0.034194</td>\n",
              "      <td>-0.032356</td>\n",
              "      <td>-0.002592</td>\n",
              "      <td>0.002864</td>\n",
              "      <td>-0.025930</td>\n",
              "    </tr>\n",
              "    <tr>\n",
              "      <th>3</th>\n",
              "      <td>-0.089063</td>\n",
              "      <td>-0.044642</td>\n",
              "      <td>-0.011595</td>\n",
              "      <td>-0.036656</td>\n",
              "      <td>0.012191</td>\n",
              "      <td>0.024991</td>\n",
              "      <td>-0.036038</td>\n",
              "      <td>0.034309</td>\n",
              "      <td>0.022692</td>\n",
              "      <td>-0.009362</td>\n",
              "    </tr>\n",
              "    <tr>\n",
              "      <th>4</th>\n",
              "      <td>0.005383</td>\n",
              "      <td>-0.044642</td>\n",
              "      <td>-0.036385</td>\n",
              "      <td>0.021872</td>\n",
              "      <td>0.003935</td>\n",
              "      <td>0.015596</td>\n",
              "      <td>0.008142</td>\n",
              "      <td>-0.002592</td>\n",
              "      <td>-0.031991</td>\n",
              "      <td>-0.046641</td>\n",
              "    </tr>\n",
              "    <tr>\n",
              "      <th>...</th>\n",
              "      <td>...</td>\n",
              "      <td>...</td>\n",
              "      <td>...</td>\n",
              "      <td>...</td>\n",
              "      <td>...</td>\n",
              "      <td>...</td>\n",
              "      <td>...</td>\n",
              "      <td>...</td>\n",
              "      <td>...</td>\n",
              "      <td>...</td>\n",
              "    </tr>\n",
              "    <tr>\n",
              "      <th>437</th>\n",
              "      <td>0.041708</td>\n",
              "      <td>0.050680</td>\n",
              "      <td>0.019662</td>\n",
              "      <td>0.059744</td>\n",
              "      <td>-0.005697</td>\n",
              "      <td>-0.002566</td>\n",
              "      <td>-0.028674</td>\n",
              "      <td>-0.002592</td>\n",
              "      <td>0.031193</td>\n",
              "      <td>0.007207</td>\n",
              "    </tr>\n",
              "    <tr>\n",
              "      <th>438</th>\n",
              "      <td>-0.005515</td>\n",
              "      <td>0.050680</td>\n",
              "      <td>-0.015906</td>\n",
              "      <td>-0.067642</td>\n",
              "      <td>0.049341</td>\n",
              "      <td>0.079165</td>\n",
              "      <td>-0.028674</td>\n",
              "      <td>0.034309</td>\n",
              "      <td>-0.018118</td>\n",
              "      <td>0.044485</td>\n",
              "    </tr>\n",
              "    <tr>\n",
              "      <th>439</th>\n",
              "      <td>0.041708</td>\n",
              "      <td>0.050680</td>\n",
              "      <td>-0.015906</td>\n",
              "      <td>0.017282</td>\n",
              "      <td>-0.037344</td>\n",
              "      <td>-0.013840</td>\n",
              "      <td>-0.024993</td>\n",
              "      <td>-0.011080</td>\n",
              "      <td>-0.046879</td>\n",
              "      <td>0.015491</td>\n",
              "    </tr>\n",
              "    <tr>\n",
              "      <th>440</th>\n",
              "      <td>-0.045472</td>\n",
              "      <td>-0.044642</td>\n",
              "      <td>0.039062</td>\n",
              "      <td>0.001215</td>\n",
              "      <td>0.016318</td>\n",
              "      <td>0.015283</td>\n",
              "      <td>-0.028674</td>\n",
              "      <td>0.026560</td>\n",
              "      <td>0.044528</td>\n",
              "      <td>-0.025930</td>\n",
              "    </tr>\n",
              "    <tr>\n",
              "      <th>441</th>\n",
              "      <td>-0.045472</td>\n",
              "      <td>-0.044642</td>\n",
              "      <td>-0.073030</td>\n",
              "      <td>-0.081414</td>\n",
              "      <td>0.083740</td>\n",
              "      <td>0.027809</td>\n",
              "      <td>0.173816</td>\n",
              "      <td>-0.039493</td>\n",
              "      <td>-0.004220</td>\n",
              "      <td>0.003064</td>\n",
              "    </tr>\n",
              "  </tbody>\n",
              "</table>\n",
              "<p>442 rows × 10 columns</p>\n",
              "</div>\n",
              "      <button class=\"colab-df-convert\" onclick=\"convertToInteractive('df-a15bc7fd-e7b5-4d3a-b847-0de1ccd9de54')\"\n",
              "              title=\"Convert this dataframe to an interactive table.\"\n",
              "              style=\"display:none;\">\n",
              "        \n",
              "  <svg xmlns=\"http://www.w3.org/2000/svg\" height=\"24px\"viewBox=\"0 0 24 24\"\n",
              "       width=\"24px\">\n",
              "    <path d=\"M0 0h24v24H0V0z\" fill=\"none\"/>\n",
              "    <path d=\"M18.56 5.44l.94 2.06.94-2.06 2.06-.94-2.06-.94-.94-2.06-.94 2.06-2.06.94zm-11 1L8.5 8.5l.94-2.06 2.06-.94-2.06-.94L8.5 2.5l-.94 2.06-2.06.94zm10 10l.94 2.06.94-2.06 2.06-.94-2.06-.94-.94-2.06-.94 2.06-2.06.94z\"/><path d=\"M17.41 7.96l-1.37-1.37c-.4-.4-.92-.59-1.43-.59-.52 0-1.04.2-1.43.59L10.3 9.45l-7.72 7.72c-.78.78-.78 2.05 0 2.83L4 21.41c.39.39.9.59 1.41.59.51 0 1.02-.2 1.41-.59l7.78-7.78 2.81-2.81c.8-.78.8-2.07 0-2.86zM5.41 20L4 18.59l7.72-7.72 1.47 1.35L5.41 20z\"/>\n",
              "  </svg>\n",
              "      </button>\n",
              "      \n",
              "  <style>\n",
              "    .colab-df-container {\n",
              "      display:flex;\n",
              "      flex-wrap:wrap;\n",
              "      gap: 12px;\n",
              "    }\n",
              "\n",
              "    .colab-df-convert {\n",
              "      background-color: #E8F0FE;\n",
              "      border: none;\n",
              "      border-radius: 50%;\n",
              "      cursor: pointer;\n",
              "      display: none;\n",
              "      fill: #1967D2;\n",
              "      height: 32px;\n",
              "      padding: 0 0 0 0;\n",
              "      width: 32px;\n",
              "    }\n",
              "\n",
              "    .colab-df-convert:hover {\n",
              "      background-color: #E2EBFA;\n",
              "      box-shadow: 0px 1px 2px rgba(60, 64, 67, 0.3), 0px 1px 3px 1px rgba(60, 64, 67, 0.15);\n",
              "      fill: #174EA6;\n",
              "    }\n",
              "\n",
              "    [theme=dark] .colab-df-convert {\n",
              "      background-color: #3B4455;\n",
              "      fill: #D2E3FC;\n",
              "    }\n",
              "\n",
              "    [theme=dark] .colab-df-convert:hover {\n",
              "      background-color: #434B5C;\n",
              "      box-shadow: 0px 1px 3px 1px rgba(0, 0, 0, 0.15);\n",
              "      filter: drop-shadow(0px 1px 2px rgba(0, 0, 0, 0.3));\n",
              "      fill: #FFFFFF;\n",
              "    }\n",
              "  </style>\n",
              "\n",
              "      <script>\n",
              "        const buttonEl =\n",
              "          document.querySelector('#df-a15bc7fd-e7b5-4d3a-b847-0de1ccd9de54 button.colab-df-convert');\n",
              "        buttonEl.style.display =\n",
              "          google.colab.kernel.accessAllowed ? 'block' : 'none';\n",
              "\n",
              "        async function convertToInteractive(key) {\n",
              "          const element = document.querySelector('#df-a15bc7fd-e7b5-4d3a-b847-0de1ccd9de54');\n",
              "          const dataTable =\n",
              "            await google.colab.kernel.invokeFunction('convertToInteractive',\n",
              "                                                     [key], {});\n",
              "          if (!dataTable) return;\n",
              "\n",
              "          const docLinkHtml = 'Like what you see? Visit the ' +\n",
              "            '<a target=\"_blank\" href=https://colab.research.google.com/notebooks/data_table.ipynb>data table notebook</a>'\n",
              "            + ' to learn more about interactive tables.';\n",
              "          element.innerHTML = '';\n",
              "          dataTable['output_type'] = 'display_data';\n",
              "          await google.colab.output.renderOutput(dataTable, element);\n",
              "          const docLink = document.createElement('div');\n",
              "          docLink.innerHTML = docLinkHtml;\n",
              "          element.appendChild(docLink);\n",
              "        }\n",
              "      </script>\n",
              "    </div>\n",
              "  </div>\n",
              "  "
            ]
          },
          "metadata": {},
          "execution_count": 5
        }
      ]
    },
    {
      "cell_type": "code",
      "execution_count": null,
      "metadata": {
        "id": "6Q4Eb0nmVMoZ"
      },
      "outputs": [],
      "source": [
        "def partition_data( df_x, s_y, k ):\n",
        "    y_dict = {}\n",
        "    x_dict = {}\n",
        "\n",
        "    for i in range(1, k + 1):\n",
        "        y_dict[i] = np.array([])\n",
        "        x_dict[i] = np.array([[]])\n",
        "\n",
        "    size = round(len(df_x) / k)\n",
        "    for i in range(1, k + 1):\n",
        "        if i != k:\n",
        "            sample_x = df_x.sample(n=size)\n",
        "            sample_y = s_y.sample(n=size)\n",
        "        else:\n",
        "            sample_x = df_x.sample(frac=1)\n",
        "            sample_y = s_y.sample(frac=1)\n",
        "\n",
        "        print(sample_x)\n",
        "\n",
        "        df_x = df_x.drop(sample_x.index)\n",
        "        s_y = s_y.drop(sample_y.index)\n",
        "\n",
        "        x_dict[i] = sample_x\n",
        "        y_dict[i] = sample_y\n",
        "\n",
        "    return x_dict, y_dict"
      ]
    },
    {
      "cell_type": "code",
      "execution_count": null,
      "metadata": {
        "colab": {
          "base_uri": "https://localhost:8080/"
        },
        "id": "_N6a_0U3VMoZ",
        "outputId": "bc47a878-a03e-4ce0-ffb4-2a8c5d0976aa"
      },
      "outputs": [
        {
          "output_type": "stream",
          "name": "stdout",
          "text": [
            "            0         1         2         3         4         5         6  \\\n",
            "274  0.016281 -0.044642 -0.024529  0.035644 -0.007073 -0.003193 -0.013948   \n",
            "345  0.081666  0.050680 -0.002973 -0.033214  0.042462  0.057871 -0.010266   \n",
            "436 -0.056370 -0.044642 -0.074108 -0.050428 -0.024960 -0.047034  0.092820   \n",
            "69   0.016281 -0.044642 -0.046085 -0.005671 -0.075870 -0.061438 -0.013948   \n",
            "94  -0.078165 -0.044642 -0.016984 -0.012556 -0.000193 -0.013527  0.070730   \n",
            "..        ...       ...       ...       ...       ...       ...       ...   \n",
            "330  0.009016  0.050680  0.030440  0.042530 -0.002945  0.036890 -0.065491   \n",
            "212  0.067136 -0.044642  0.003494  0.035644  0.049341  0.031254  0.070730   \n",
            "409 -0.052738  0.050680 -0.011595  0.056301  0.056221  0.072902 -0.039719   \n",
            "186 -0.081798  0.050680  0.042296 -0.019442  0.039710  0.057558 -0.069172   \n",
            "235  0.067136  0.050680 -0.014828  0.058596 -0.059359 -0.034508 -0.061809   \n",
            "\n",
            "            7         8         9  \n",
            "274 -0.002592  0.015567  0.015491  \n",
            "345  0.034309 -0.000609 -0.001078  \n",
            "436 -0.076395 -0.061177 -0.046641  \n",
            "69  -0.039493 -0.051401  0.019633  \n",
            "94  -0.039493 -0.041180 -0.092204  \n",
            "..        ...       ...       ...  \n",
            "330  0.071210 -0.023645  0.015491  \n",
            "212 -0.039493 -0.000609  0.019633  \n",
            "409  0.071210  0.030566 -0.005220  \n",
            "186  0.108111  0.047186 -0.038357  \n",
            "235  0.012906 -0.005145  0.048628  \n",
            "\n",
            "[88 rows x 10 columns]\n",
            "            0         1         2         3         4         5         6  \\\n",
            "287  0.045341 -0.044642 -0.006206 -0.015999  0.125019  0.125198  0.019187   \n",
            "68   0.038076  0.050680 -0.029918 -0.040099 -0.033216 -0.024174 -0.010266   \n",
            "326  0.045341  0.050680 -0.008362 -0.033214 -0.007073  0.001191 -0.039719   \n",
            "421  0.038076  0.050680  0.016428  0.021872  0.039710  0.045032 -0.043401   \n",
            "428  0.048974  0.050680  0.088642  0.087287  0.035582  0.021546 -0.024993   \n",
            "..        ...       ...       ...       ...       ...       ...       ...   \n",
            "432  0.009016 -0.044642  0.055229 -0.005671  0.057597  0.044719 -0.002903   \n",
            "226 -0.103593  0.050680 -0.046085 -0.026328 -0.024960 -0.024800  0.030232   \n",
            "5   -0.092695 -0.044642 -0.040696 -0.019442 -0.068991 -0.079288  0.041277   \n",
            "105  0.023546  0.050680 -0.032073 -0.040099 -0.031840 -0.021669 -0.013948   \n",
            "55  -0.041840 -0.044642 -0.049318 -0.036656 -0.007073 -0.022608  0.085456   \n",
            "\n",
            "            7         8         9  \n",
            "287  0.034309  0.032433 -0.005220  \n",
            "68  -0.002592 -0.012908  0.003064  \n",
            "326  0.034309  0.029936  0.027917  \n",
            "421  0.071210  0.049769  0.015491  \n",
            "428  0.034309  0.066048  0.131470  \n",
            "..        ...       ...       ...  \n",
            "432  0.023239  0.055684  0.106617  \n",
            "226 -0.039493 -0.039810 -0.054925  \n",
            "5   -0.076395 -0.041180 -0.096346  \n",
            "105 -0.002592 -0.010904  0.019633  \n",
            "55  -0.039493 -0.066488  0.007207  \n",
            "\n",
            "[88 rows x 10 columns]\n",
            "            0         1         2         3         4         5         6  \\\n",
            "283 -0.016412 -0.044642 -0.052552 -0.033214 -0.044223 -0.036387  0.019187   \n",
            "118 -0.056370  0.050680 -0.010517  0.025315  0.023198  0.040022 -0.039719   \n",
            "206  0.001751  0.050680  0.026128 -0.009113  0.024574  0.038456 -0.021311   \n",
            "87   0.045341 -0.044642 -0.006206  0.011544  0.063101  0.016222  0.096501   \n",
            "260  0.041708 -0.044642 -0.008362 -0.057314  0.008063 -0.031376  0.151726   \n",
            "..        ...       ...       ...       ...       ...       ...       ...   \n",
            "126 -0.089063 -0.044642 -0.061174 -0.026328 -0.055231 -0.054549  0.041277   \n",
            "65  -0.045472  0.050680 -0.024529  0.059744  0.005311  0.014970 -0.054446   \n",
            "278  0.067136  0.050680 -0.036385 -0.084857 -0.007073  0.019667 -0.054446   \n",
            "401  0.016281 -0.044642 -0.045007 -0.057314 -0.034592 -0.053923  0.074412   \n",
            "440 -0.045472 -0.044642  0.039062  0.001215  0.016318  0.015283 -0.028674   \n",
            "\n",
            "            7         8         9  \n",
            "283 -0.039493 -0.068330 -0.030072  \n",
            "118  0.034309  0.020612  0.056912  \n",
            "206  0.034309  0.009436  0.003064  \n",
            "87  -0.039493  0.042896 -0.038357  \n",
            "260 -0.076395 -0.080237 -0.017646  \n",
            "..        ...       ...       ...  \n",
            "126 -0.076395 -0.093936 -0.054925  \n",
            "65   0.071210  0.042345  0.015491  \n",
            "278  0.034309  0.001144  0.032059  \n",
            "401 -0.076395 -0.042572  0.040343  \n",
            "440  0.026560  0.044528 -0.025930  \n",
            "\n",
            "[88 rows x 10 columns]\n",
            "            0         1         2         3         4         5         6  \\\n",
            "418  0.009016 -0.044642 -0.024529 -0.026328  0.098876  0.094196  0.070730   \n",
            "104 -0.027310 -0.044642  0.064930 -0.002228 -0.024960 -0.017284  0.022869   \n",
            "216  0.012648  0.050680  0.035829  0.049415  0.053469  0.074155 -0.069172   \n",
            "177  0.048974 -0.044642  0.027206 -0.025180  0.023198  0.018414 -0.061809   \n",
            "434  0.016281 -0.044642  0.001339  0.008101  0.005311  0.010899  0.030232   \n",
            "..        ...       ...       ...       ...       ...       ...       ...   \n",
            "441 -0.045472 -0.044642 -0.073030 -0.081414  0.083740  0.027809  0.173816   \n",
            "253  0.081666 -0.044642  0.033673  0.008101  0.052093  0.056619 -0.017629   \n",
            "27  -0.023677 -0.044642  0.059541 -0.040099 -0.042848 -0.043589  0.011824   \n",
            "183  0.045341  0.050680 -0.035307  0.063187 -0.004321 -0.001627 -0.010266   \n",
            "415 -0.005515 -0.044642  0.008883 -0.050428  0.025950  0.047224 -0.043401   \n",
            "\n",
            "            7         8         9  \n",
            "418 -0.002592 -0.021394  0.007207  \n",
            "104 -0.039493 -0.061177 -0.063209  \n",
            "216  0.145012  0.045601  0.048628  \n",
            "177  0.080066  0.072224  0.032059  \n",
            "434 -0.039493 -0.045421  0.032059  \n",
            "..        ...       ...       ...  \n",
            "441 -0.039493 -0.004220  0.003064  \n",
            "253  0.034309  0.034864  0.069338  \n",
            "27  -0.039493 -0.015998  0.040343  \n",
            "183 -0.002592  0.015567  0.056912  \n",
            "415  0.071210  0.014823  0.003064  \n",
            "\n",
            "[88 rows x 10 columns]\n",
            "            0         1         2         3         4         5         6  \\\n",
            "384  0.034443  0.050680 -0.029918  0.004658  0.093372  0.086994  0.033914   \n",
            "181  0.048974 -0.044642 -0.042852 -0.053871  0.045213  0.050042  0.033914   \n",
            "404 -0.016412 -0.044642  0.054152  0.070073 -0.033216 -0.027931  0.008142   \n",
            "192  0.056239  0.050680 -0.030996  0.008101  0.019070  0.021233  0.033914   \n",
            "40   0.005383  0.050680 -0.008362  0.021872  0.054845  0.073215 -0.024993   \n",
            "..        ...       ...       ...       ...       ...       ...       ...   \n",
            "47  -0.078165 -0.044642 -0.073030 -0.057314 -0.084126 -0.074277 -0.024993   \n",
            "75  -0.009147  0.050680 -0.030996 -0.026328 -0.011201 -0.001001 -0.021311   \n",
            "83  -0.038207 -0.044642  0.009961 -0.046985 -0.059359 -0.052983 -0.010266   \n",
            "41  -0.099961 -0.044642 -0.067641 -0.108957 -0.074494 -0.072712  0.015505   \n",
            "58   0.041708 -0.044642 -0.064408  0.035644  0.012191 -0.057994  0.181179   \n",
            "\n",
            "            7         8         9  \n",
            "384 -0.002592  0.024053 -0.038357  \n",
            "181 -0.002592 -0.025952 -0.063209  \n",
            "404 -0.039493 -0.027129 -0.009362  \n",
            "192 -0.039493 -0.029528 -0.059067  \n",
            "40   0.034309  0.012553  0.094191  \n",
            "..        ...       ...       ...  \n",
            "47  -0.039493 -0.018118 -0.083920  \n",
            "75  -0.002592  0.006209  0.027917  \n",
            "83  -0.039493 -0.015998 -0.042499  \n",
            "41  -0.039493 -0.049868 -0.009362  \n",
            "58  -0.076395 -0.000609 -0.050783  \n",
            "\n",
            "[90 rows x 10 columns]\n",
            "88\n",
            "88\n",
            "88\n",
            "88\n",
            "90\n"
          ]
        }
      ],
      "source": [
        "(dict_k_df_x, dict_k_s_y) = partition_data( df_x, s_y, 5 )\n",
        "for i in dict_k_s_y:\n",
        "    print(len(dict_k_df_x[i]))"
      ]
    },
    {
      "cell_type": "markdown",
      "metadata": {
        "id": "kzY7FBmmVMoa"
      },
      "source": [
        "## Q1.4 Define a function that calculates a regression metric\n",
        "This function should accept two series of equal length $n$ numpy arrays, `s_y`, and `s_y_hat`. The metric it should calculate is the mean absolute error, $MAE = \\sum\\limits_{i=1}^n\\frac{|{s\\_y_i - {s\\_y\\_hat}_i}|}{n}$ \n",
        "\n",
        "Test your function by using the vectors:\n",
        "```\n",
        "x = np.array([1,2,3])\n",
        "y = np.array([2,2,3])\n",
        "```\n"
      ]
    },
    {
      "cell_type": "code",
      "execution_count": null,
      "metadata": {
        "id": "TufCz2yAVMob"
      },
      "outputs": [],
      "source": [
        "def get_mae( s_y, s_y_hat):\n",
        "    n = len(s_y)\n",
        "    mae = sum(abs(s_y - s_y_hat))/n\n",
        "    return mae"
      ]
    },
    {
      "cell_type": "code",
      "execution_count": null,
      "metadata": {
        "colab": {
          "base_uri": "https://localhost:8080/"
        },
        "id": "dzw5NuhhVMob",
        "outputId": "cd42259d-2db1-45dc-96f2-a6500c46888d"
      },
      "outputs": [
        {
          "output_type": "execute_result",
          "data": {
            "text/plain": [
              "0.3333333333333333"
            ]
          },
          "metadata": {},
          "execution_count": 9
        }
      ],
      "source": [
        "# Test it \n",
        "x = np.array([1,2,3])\n",
        "y = np.array([2,2,3])\n",
        "get_mae(x,y)"
      ]
    },
    {
      "cell_type": "markdown",
      "metadata": {
        "id": "LW2ut3F6VMoc"
      },
      "source": [
        "## Q1.5 Calculate the $MAE$ for each fold\n",
        "For each fold in your dictionaries, calculate the $MAE$.  Use the partition number key as the test set, and all other partitions as the train set. \n",
        "\n",
        "Print the min, max, and mean $MAE$ of your 5 folds. "
      ]
    },
    {
      "cell_type": "code",
      "source": [
        "def get_train(y_dict, x_dict, k, fold):\n",
        "    x_train = pd.DataFrame()\n",
        "    y_train = pd.DataFrame()\n",
        "\n",
        "    for i in range(1, k + 1):\n",
        "        if i != fold:\n",
        "            x_train = pd.concat([x_train, x_dict[i]], axis=0)\n",
        "            y_train = np.append(y_train, y_dict[i])\n",
        "\n",
        "    return x_train, y_train\n",
        "\n"
      ],
      "metadata": {
        "id": "NrliS-1f0tS0"
      },
      "execution_count": null,
      "outputs": []
    },
    {
      "cell_type": "code",
      "source": [
        "def get_y_hat(model, s_x):\n",
        "    b = model[-1]\n",
        "    x = np.delete(model, -1, 0)\n",
        "\n",
        "    y_hat = np.matmul(s_x, x) + b\n",
        "    \n",
        "    return y_hat"
      ],
      "metadata": {
        "id": "G_4XhmQq16Uh"
      },
      "execution_count": null,
      "outputs": []
    },
    {
      "cell_type": "code",
      "source": [
        "x_train, y_train = get_train(dict_k_s_y, dict_k_df_x, 5, 1)\n",
        "print(x_train.shape, y_train.shape)"
      ],
      "metadata": {
        "colab": {
          "base_uri": "https://localhost:8080/"
        },
        "id": "5qLqEDBR1UbV",
        "outputId": "ec174d22-9561-4235-9c91-92ea68b7bfe3"
      },
      "execution_count": null,
      "outputs": [
        {
          "output_type": "stream",
          "name": "stdout",
          "text": [
            "(354, 10) (354,)\n"
          ]
        }
      ]
    },
    {
      "cell_type": "code",
      "execution_count": null,
      "metadata": {
        "colab": {
          "base_uri": "https://localhost:8080/"
        },
        "id": "1M6BaxexVMoc",
        "outputId": "3ceb1bc6-9236-42a4-dcba-fc8dee318892"
      },
      "outputs": [
        {
          "output_type": "stream",
          "name": "stderr",
          "text": [
            "/usr/local/lib/python3.7/dist-packages/ipykernel_launcher.py:5: FutureWarning: `rcond` parameter will change to the default of machine precision times ``max(M, N)`` where M and N are the input matrix dimensions.\n",
            "To use the future default and silence this warning we advise to pass `rcond=None`, to keep using the old, explicitly pass `rcond=-1`.\n",
            "  \"\"\"\n"
          ]
        }
      ],
      "source": [
        "mae = np.array([])\n",
        "\n",
        "for k in dict_k_df_x.keys():\n",
        "    s_y = dict_k_s_y[k]\n",
        "    s_x = dict_k_df_x[k]\n",
        "\n",
        "    x_train, y_train = get_train(dict_k_s_y, dict_k_df_x, len(dict_k_df_x), k)\n",
        "\n",
        "    model = get_linear_regression_model(x_train, y_train)\n",
        "\n",
        "    s_y_hat = get_y_hat(model, s_x)\n",
        "    \n",
        "    mae = np.append( mae, get_mae(s_y,s_y_hat) )  "
      ]
    },
    {
      "cell_type": "code",
      "execution_count": null,
      "metadata": {
        "colab": {
          "base_uri": "https://localhost:8080/"
        },
        "id": "iJZtJuLTVMoc",
        "outputId": "8af8e9e2-d7a7-47d4-e828-143c51a4d327"
      },
      "outputs": [
        {
          "output_type": "stream",
          "name": "stdout",
          "text": [
            "mean: 220.624797979798\n",
            "min: 193.04444444444445\n",
            "min: 243.07954545454547\n"
          ]
        }
      ],
      "source": [
        "print('mean:', mae.mean())\n",
        "print('min:', mae.min())\n",
        "print('min:', mae.max())"
      ]
    },
    {
      "cell_type": "markdown",
      "metadata": {
        "id": "fsC9KE_KVMoc"
      },
      "source": [
        "# Part 2 - Find the best hyperparameter to use in a Decision Tree "
      ]
    },
    {
      "cell_type": "markdown",
      "metadata": {
        "id": "9mJnY4xWVMod"
      },
      "source": [
        "## Q2.1 Load the iris data in as a pandas dataframe and a series\n",
        "Documentation is [here](https://scikit-learn.org/stable/modules/generated/sklearn.datasets.load_iris.html). Name your features dataframe (the independent variables) `df_X` and your classification target (the dependent variable) series `s_y`"
      ]
    },
    {
      "cell_type": "code",
      "execution_count": null,
      "metadata": {
        "id": "j_Cl9phtVMod"
      },
      "outputs": [],
      "source": [
        "df_x, s_y = load_iris(return_X_y=True)\n",
        "df_x = pd.DataFrame(df_x)\n",
        "s_y = pd.DataFrame(s_y)"
      ]
    },
    {
      "cell_type": "code",
      "source": [
        "df_x"
      ],
      "metadata": {
        "colab": {
          "base_uri": "https://localhost:8080/",
          "height": 424
        },
        "id": "iVzpay9FwXzl",
        "outputId": "9b438e8f-ff23-4064-a113-2c13db0c30ec"
      },
      "execution_count": null,
      "outputs": [
        {
          "output_type": "execute_result",
          "data": {
            "text/plain": [
              "       0    1    2    3\n",
              "0    5.1  3.5  1.4  0.2\n",
              "1    4.9  3.0  1.4  0.2\n",
              "2    4.7  3.2  1.3  0.2\n",
              "3    4.6  3.1  1.5  0.2\n",
              "4    5.0  3.6  1.4  0.2\n",
              "..   ...  ...  ...  ...\n",
              "145  6.7  3.0  5.2  2.3\n",
              "146  6.3  2.5  5.0  1.9\n",
              "147  6.5  3.0  5.2  2.0\n",
              "148  6.2  3.4  5.4  2.3\n",
              "149  5.9  3.0  5.1  1.8\n",
              "\n",
              "[150 rows x 4 columns]"
            ],
            "text/html": [
              "\n",
              "  <div id=\"df-b97c56b3-fdf2-4404-b237-8015836fcd3f\">\n",
              "    <div class=\"colab-df-container\">\n",
              "      <div>\n",
              "<style scoped>\n",
              "    .dataframe tbody tr th:only-of-type {\n",
              "        vertical-align: middle;\n",
              "    }\n",
              "\n",
              "    .dataframe tbody tr th {\n",
              "        vertical-align: top;\n",
              "    }\n",
              "\n",
              "    .dataframe thead th {\n",
              "        text-align: right;\n",
              "    }\n",
              "</style>\n",
              "<table border=\"1\" class=\"dataframe\">\n",
              "  <thead>\n",
              "    <tr style=\"text-align: right;\">\n",
              "      <th></th>\n",
              "      <th>0</th>\n",
              "      <th>1</th>\n",
              "      <th>2</th>\n",
              "      <th>3</th>\n",
              "    </tr>\n",
              "  </thead>\n",
              "  <tbody>\n",
              "    <tr>\n",
              "      <th>0</th>\n",
              "      <td>5.1</td>\n",
              "      <td>3.5</td>\n",
              "      <td>1.4</td>\n",
              "      <td>0.2</td>\n",
              "    </tr>\n",
              "    <tr>\n",
              "      <th>1</th>\n",
              "      <td>4.9</td>\n",
              "      <td>3.0</td>\n",
              "      <td>1.4</td>\n",
              "      <td>0.2</td>\n",
              "    </tr>\n",
              "    <tr>\n",
              "      <th>2</th>\n",
              "      <td>4.7</td>\n",
              "      <td>3.2</td>\n",
              "      <td>1.3</td>\n",
              "      <td>0.2</td>\n",
              "    </tr>\n",
              "    <tr>\n",
              "      <th>3</th>\n",
              "      <td>4.6</td>\n",
              "      <td>3.1</td>\n",
              "      <td>1.5</td>\n",
              "      <td>0.2</td>\n",
              "    </tr>\n",
              "    <tr>\n",
              "      <th>4</th>\n",
              "      <td>5.0</td>\n",
              "      <td>3.6</td>\n",
              "      <td>1.4</td>\n",
              "      <td>0.2</td>\n",
              "    </tr>\n",
              "    <tr>\n",
              "      <th>...</th>\n",
              "      <td>...</td>\n",
              "      <td>...</td>\n",
              "      <td>...</td>\n",
              "      <td>...</td>\n",
              "    </tr>\n",
              "    <tr>\n",
              "      <th>145</th>\n",
              "      <td>6.7</td>\n",
              "      <td>3.0</td>\n",
              "      <td>5.2</td>\n",
              "      <td>2.3</td>\n",
              "    </tr>\n",
              "    <tr>\n",
              "      <th>146</th>\n",
              "      <td>6.3</td>\n",
              "      <td>2.5</td>\n",
              "      <td>5.0</td>\n",
              "      <td>1.9</td>\n",
              "    </tr>\n",
              "    <tr>\n",
              "      <th>147</th>\n",
              "      <td>6.5</td>\n",
              "      <td>3.0</td>\n",
              "      <td>5.2</td>\n",
              "      <td>2.0</td>\n",
              "    </tr>\n",
              "    <tr>\n",
              "      <th>148</th>\n",
              "      <td>6.2</td>\n",
              "      <td>3.4</td>\n",
              "      <td>5.4</td>\n",
              "      <td>2.3</td>\n",
              "    </tr>\n",
              "    <tr>\n",
              "      <th>149</th>\n",
              "      <td>5.9</td>\n",
              "      <td>3.0</td>\n",
              "      <td>5.1</td>\n",
              "      <td>1.8</td>\n",
              "    </tr>\n",
              "  </tbody>\n",
              "</table>\n",
              "<p>150 rows × 4 columns</p>\n",
              "</div>\n",
              "      <button class=\"colab-df-convert\" onclick=\"convertToInteractive('df-b97c56b3-fdf2-4404-b237-8015836fcd3f')\"\n",
              "              title=\"Convert this dataframe to an interactive table.\"\n",
              "              style=\"display:none;\">\n",
              "        \n",
              "  <svg xmlns=\"http://www.w3.org/2000/svg\" height=\"24px\"viewBox=\"0 0 24 24\"\n",
              "       width=\"24px\">\n",
              "    <path d=\"M0 0h24v24H0V0z\" fill=\"none\"/>\n",
              "    <path d=\"M18.56 5.44l.94 2.06.94-2.06 2.06-.94-2.06-.94-.94-2.06-.94 2.06-2.06.94zm-11 1L8.5 8.5l.94-2.06 2.06-.94-2.06-.94L8.5 2.5l-.94 2.06-2.06.94zm10 10l.94 2.06.94-2.06 2.06-.94-2.06-.94-.94-2.06-.94 2.06-2.06.94z\"/><path d=\"M17.41 7.96l-1.37-1.37c-.4-.4-.92-.59-1.43-.59-.52 0-1.04.2-1.43.59L10.3 9.45l-7.72 7.72c-.78.78-.78 2.05 0 2.83L4 21.41c.39.39.9.59 1.41.59.51 0 1.02-.2 1.41-.59l7.78-7.78 2.81-2.81c.8-.78.8-2.07 0-2.86zM5.41 20L4 18.59l7.72-7.72 1.47 1.35L5.41 20z\"/>\n",
              "  </svg>\n",
              "      </button>\n",
              "      \n",
              "  <style>\n",
              "    .colab-df-container {\n",
              "      display:flex;\n",
              "      flex-wrap:wrap;\n",
              "      gap: 12px;\n",
              "    }\n",
              "\n",
              "    .colab-df-convert {\n",
              "      background-color: #E8F0FE;\n",
              "      border: none;\n",
              "      border-radius: 50%;\n",
              "      cursor: pointer;\n",
              "      display: none;\n",
              "      fill: #1967D2;\n",
              "      height: 32px;\n",
              "      padding: 0 0 0 0;\n",
              "      width: 32px;\n",
              "    }\n",
              "\n",
              "    .colab-df-convert:hover {\n",
              "      background-color: #E2EBFA;\n",
              "      box-shadow: 0px 1px 2px rgba(60, 64, 67, 0.3), 0px 1px 3px 1px rgba(60, 64, 67, 0.15);\n",
              "      fill: #174EA6;\n",
              "    }\n",
              "\n",
              "    [theme=dark] .colab-df-convert {\n",
              "      background-color: #3B4455;\n",
              "      fill: #D2E3FC;\n",
              "    }\n",
              "\n",
              "    [theme=dark] .colab-df-convert:hover {\n",
              "      background-color: #434B5C;\n",
              "      box-shadow: 0px 1px 3px 1px rgba(0, 0, 0, 0.15);\n",
              "      filter: drop-shadow(0px 1px 2px rgba(0, 0, 0, 0.3));\n",
              "      fill: #FFFFFF;\n",
              "    }\n",
              "  </style>\n",
              "\n",
              "      <script>\n",
              "        const buttonEl =\n",
              "          document.querySelector('#df-b97c56b3-fdf2-4404-b237-8015836fcd3f button.colab-df-convert');\n",
              "        buttonEl.style.display =\n",
              "          google.colab.kernel.accessAllowed ? 'block' : 'none';\n",
              "\n",
              "        async function convertToInteractive(key) {\n",
              "          const element = document.querySelector('#df-b97c56b3-fdf2-4404-b237-8015836fcd3f');\n",
              "          const dataTable =\n",
              "            await google.colab.kernel.invokeFunction('convertToInteractive',\n",
              "                                                     [key], {});\n",
              "          if (!dataTable) return;\n",
              "\n",
              "          const docLinkHtml = 'Like what you see? Visit the ' +\n",
              "            '<a target=\"_blank\" href=https://colab.research.google.com/notebooks/data_table.ipynb>data table notebook</a>'\n",
              "            + ' to learn more about interactive tables.';\n",
              "          element.innerHTML = '';\n",
              "          dataTable['output_type'] = 'display_data';\n",
              "          await google.colab.output.renderOutput(dataTable, element);\n",
              "          const docLink = document.createElement('div');\n",
              "          docLink.innerHTML = docLinkHtml;\n",
              "          element.appendChild(docLink);\n",
              "        }\n",
              "      </script>\n",
              "    </div>\n",
              "  </div>\n",
              "  "
            ]
          },
          "metadata": {},
          "execution_count": 16
        }
      ]
    },
    {
      "cell_type": "code",
      "source": [
        "s_y"
      ],
      "metadata": {
        "colab": {
          "base_uri": "https://localhost:8080/",
          "height": 424
        },
        "id": "ZbshArtuwY3V",
        "outputId": "e7fc2716-ba26-4dee-dd72-755917ee484e"
      },
      "execution_count": null,
      "outputs": [
        {
          "output_type": "execute_result",
          "data": {
            "text/plain": [
              "     0\n",
              "0    0\n",
              "1    0\n",
              "2    0\n",
              "3    0\n",
              "4    0\n",
              "..  ..\n",
              "145  2\n",
              "146  2\n",
              "147  2\n",
              "148  2\n",
              "149  2\n",
              "\n",
              "[150 rows x 1 columns]"
            ],
            "text/html": [
              "\n",
              "  <div id=\"df-0a4f532f-a608-4742-8d24-48695e982fd1\">\n",
              "    <div class=\"colab-df-container\">\n",
              "      <div>\n",
              "<style scoped>\n",
              "    .dataframe tbody tr th:only-of-type {\n",
              "        vertical-align: middle;\n",
              "    }\n",
              "\n",
              "    .dataframe tbody tr th {\n",
              "        vertical-align: top;\n",
              "    }\n",
              "\n",
              "    .dataframe thead th {\n",
              "        text-align: right;\n",
              "    }\n",
              "</style>\n",
              "<table border=\"1\" class=\"dataframe\">\n",
              "  <thead>\n",
              "    <tr style=\"text-align: right;\">\n",
              "      <th></th>\n",
              "      <th>0</th>\n",
              "    </tr>\n",
              "  </thead>\n",
              "  <tbody>\n",
              "    <tr>\n",
              "      <th>0</th>\n",
              "      <td>0</td>\n",
              "    </tr>\n",
              "    <tr>\n",
              "      <th>1</th>\n",
              "      <td>0</td>\n",
              "    </tr>\n",
              "    <tr>\n",
              "      <th>2</th>\n",
              "      <td>0</td>\n",
              "    </tr>\n",
              "    <tr>\n",
              "      <th>3</th>\n",
              "      <td>0</td>\n",
              "    </tr>\n",
              "    <tr>\n",
              "      <th>4</th>\n",
              "      <td>0</td>\n",
              "    </tr>\n",
              "    <tr>\n",
              "      <th>...</th>\n",
              "      <td>...</td>\n",
              "    </tr>\n",
              "    <tr>\n",
              "      <th>145</th>\n",
              "      <td>2</td>\n",
              "    </tr>\n",
              "    <tr>\n",
              "      <th>146</th>\n",
              "      <td>2</td>\n",
              "    </tr>\n",
              "    <tr>\n",
              "      <th>147</th>\n",
              "      <td>2</td>\n",
              "    </tr>\n",
              "    <tr>\n",
              "      <th>148</th>\n",
              "      <td>2</td>\n",
              "    </tr>\n",
              "    <tr>\n",
              "      <th>149</th>\n",
              "      <td>2</td>\n",
              "    </tr>\n",
              "  </tbody>\n",
              "</table>\n",
              "<p>150 rows × 1 columns</p>\n",
              "</div>\n",
              "      <button class=\"colab-df-convert\" onclick=\"convertToInteractive('df-0a4f532f-a608-4742-8d24-48695e982fd1')\"\n",
              "              title=\"Convert this dataframe to an interactive table.\"\n",
              "              style=\"display:none;\">\n",
              "        \n",
              "  <svg xmlns=\"http://www.w3.org/2000/svg\" height=\"24px\"viewBox=\"0 0 24 24\"\n",
              "       width=\"24px\">\n",
              "    <path d=\"M0 0h24v24H0V0z\" fill=\"none\"/>\n",
              "    <path d=\"M18.56 5.44l.94 2.06.94-2.06 2.06-.94-2.06-.94-.94-2.06-.94 2.06-2.06.94zm-11 1L8.5 8.5l.94-2.06 2.06-.94-2.06-.94L8.5 2.5l-.94 2.06-2.06.94zm10 10l.94 2.06.94-2.06 2.06-.94-2.06-.94-.94-2.06-.94 2.06-2.06.94z\"/><path d=\"M17.41 7.96l-1.37-1.37c-.4-.4-.92-.59-1.43-.59-.52 0-1.04.2-1.43.59L10.3 9.45l-7.72 7.72c-.78.78-.78 2.05 0 2.83L4 21.41c.39.39.9.59 1.41.59.51 0 1.02-.2 1.41-.59l7.78-7.78 2.81-2.81c.8-.78.8-2.07 0-2.86zM5.41 20L4 18.59l7.72-7.72 1.47 1.35L5.41 20z\"/>\n",
              "  </svg>\n",
              "      </button>\n",
              "      \n",
              "  <style>\n",
              "    .colab-df-container {\n",
              "      display:flex;\n",
              "      flex-wrap:wrap;\n",
              "      gap: 12px;\n",
              "    }\n",
              "\n",
              "    .colab-df-convert {\n",
              "      background-color: #E8F0FE;\n",
              "      border: none;\n",
              "      border-radius: 50%;\n",
              "      cursor: pointer;\n",
              "      display: none;\n",
              "      fill: #1967D2;\n",
              "      height: 32px;\n",
              "      padding: 0 0 0 0;\n",
              "      width: 32px;\n",
              "    }\n",
              "\n",
              "    .colab-df-convert:hover {\n",
              "      background-color: #E2EBFA;\n",
              "      box-shadow: 0px 1px 2px rgba(60, 64, 67, 0.3), 0px 1px 3px 1px rgba(60, 64, 67, 0.15);\n",
              "      fill: #174EA6;\n",
              "    }\n",
              "\n",
              "    [theme=dark] .colab-df-convert {\n",
              "      background-color: #3B4455;\n",
              "      fill: #D2E3FC;\n",
              "    }\n",
              "\n",
              "    [theme=dark] .colab-df-convert:hover {\n",
              "      background-color: #434B5C;\n",
              "      box-shadow: 0px 1px 3px 1px rgba(0, 0, 0, 0.15);\n",
              "      filter: drop-shadow(0px 1px 2px rgba(0, 0, 0, 0.3));\n",
              "      fill: #FFFFFF;\n",
              "    }\n",
              "  </style>\n",
              "\n",
              "      <script>\n",
              "        const buttonEl =\n",
              "          document.querySelector('#df-0a4f532f-a608-4742-8d24-48695e982fd1 button.colab-df-convert');\n",
              "        buttonEl.style.display =\n",
              "          google.colab.kernel.accessAllowed ? 'block' : 'none';\n",
              "\n",
              "        async function convertToInteractive(key) {\n",
              "          const element = document.querySelector('#df-0a4f532f-a608-4742-8d24-48695e982fd1');\n",
              "          const dataTable =\n",
              "            await google.colab.kernel.invokeFunction('convertToInteractive',\n",
              "                                                     [key], {});\n",
              "          if (!dataTable) return;\n",
              "\n",
              "          const docLinkHtml = 'Like what you see? Visit the ' +\n",
              "            '<a target=\"_blank\" href=https://colab.research.google.com/notebooks/data_table.ipynb>data table notebook</a>'\n",
              "            + ' to learn more about interactive tables.';\n",
              "          element.innerHTML = '';\n",
              "          dataTable['output_type'] = 'display_data';\n",
              "          await google.colab.output.renderOutput(dataTable, element);\n",
              "          const docLink = document.createElement('div');\n",
              "          docLink.innerHTML = docLinkHtml;\n",
              "          element.appendChild(docLink);\n",
              "        }\n",
              "      </script>\n",
              "    </div>\n",
              "  </div>\n",
              "  "
            ]
          },
          "metadata": {},
          "execution_count": 17
        }
      ]
    },
    {
      "cell_type": "markdown",
      "metadata": {
        "id": "s4Znxe_9VMod"
      },
      "source": [
        "## Q2.2 Partition `df_X` and `s_y` into $5$ partitions of roughly equal size\n",
        "Make 2 dictionaries, with the key of each dictionary the fold number.  The value of the dictionary `dict_k_df_X` is the $k^{th}$ partition of the data, and the value of the dictionary `dict_k_s_y` is the corresponding $k^{th}$ target classification.  Print out the number of rows in each fold.  Check that the number of data points in each partition totals the number of data points in the entire dataset. "
      ]
    },
    {
      "cell_type": "code",
      "execution_count": null,
      "metadata": {
        "colab": {
          "base_uri": "https://localhost:8080/"
        },
        "id": "xq48Y1qoVMod",
        "outputId": "b8789324-7f44-44ce-bef1-bd2bda2b4b45"
      },
      "outputs": [
        {
          "output_type": "stream",
          "name": "stdout",
          "text": [
            "       0    1    2    3\n",
            "128  6.4  2.8  5.6  2.1\n",
            "47   4.6  3.2  1.4  0.2\n",
            "148  6.2  3.4  5.4  2.3\n",
            "86   6.7  3.1  4.7  1.5\n",
            "136  6.3  3.4  5.6  2.4\n",
            "20   5.4  3.4  1.7  0.2\n",
            "140  6.7  3.1  5.6  2.4\n",
            "147  6.5  3.0  5.2  2.0\n",
            "108  6.7  2.5  5.8  1.8\n",
            "94   5.6  2.7  4.2  1.3\n",
            "134  6.1  2.6  5.6  1.4\n",
            "14   5.8  4.0  1.2  0.2\n",
            "33   5.5  4.2  1.4  0.2\n",
            "79   5.7  2.6  3.5  1.0\n",
            "19   5.1  3.8  1.5  0.3\n",
            "91   6.1  3.0  4.6  1.4\n",
            "85   6.0  3.4  4.5  1.6\n",
            "29   4.7  3.2  1.6  0.2\n",
            "132  6.4  2.8  5.6  2.2\n",
            "72   6.3  2.5  4.9  1.5\n",
            "110  6.5  3.2  5.1  2.0\n",
            "74   6.4  2.9  4.3  1.3\n",
            "55   5.7  2.8  4.5  1.3\n",
            "5    5.4  3.9  1.7  0.4\n",
            "100  6.3  3.3  6.0  2.5\n",
            "75   6.6  3.0  4.4  1.4\n",
            "115  6.4  3.2  5.3  2.3\n",
            "80   5.5  2.4  3.8  1.1\n",
            "40   5.0  3.5  1.3  0.3\n",
            "76   6.8  2.8  4.8  1.4\n",
            "       0    1    2    3\n",
            "141  6.9  3.1  5.1  2.3\n",
            "120  6.9  3.2  5.7  2.3\n",
            "17   5.1  3.5  1.4  0.3\n",
            "9    4.9  3.1  1.5  0.1\n",
            "93   5.0  2.3  3.3  1.0\n",
            "25   5.0  3.0  1.6  0.2\n",
            "6    4.6  3.4  1.4  0.3\n",
            "42   4.4  3.2  1.3  0.2\n",
            "2    4.7  3.2  1.3  0.2\n",
            "58   6.6  2.9  4.6  1.3\n",
            "138  6.0  3.0  4.8  1.8\n",
            "64   5.6  2.9  3.6  1.3\n",
            "102  7.1  3.0  5.9  2.1\n",
            "139  6.9  3.1  5.4  2.1\n",
            "103  6.3  2.9  5.6  1.8\n",
            "52   6.9  3.1  4.9  1.5\n",
            "28   5.2  3.4  1.4  0.2\n",
            "109  7.2  3.6  6.1  2.5\n",
            "18   5.7  3.8  1.7  0.3\n",
            "119  6.0  2.2  5.0  1.5\n",
            "149  5.9  3.0  5.1  1.8\n",
            "27   5.2  3.5  1.5  0.2\n",
            "36   5.5  3.5  1.3  0.2\n",
            "97   6.2  2.9  4.3  1.3\n",
            "63   6.1  2.9  4.7  1.4\n",
            "67   5.8  2.7  4.1  1.0\n",
            "65   6.7  3.1  4.4  1.4\n",
            "51   6.4  3.2  4.5  1.5\n",
            "30   4.8  3.1  1.6  0.2\n",
            "82   5.8  2.7  3.9  1.2\n",
            "       0    1    2    3\n",
            "35   5.0  3.2  1.2  0.2\n",
            "45   4.8  3.0  1.4  0.3\n",
            "127  6.1  3.0  4.9  1.8\n",
            "54   6.5  2.8  4.6  1.5\n",
            "113  5.7  2.5  5.0  2.0\n",
            "41   4.5  2.3  1.3  0.3\n",
            "16   5.4  3.9  1.3  0.4\n",
            "31   5.4  3.4  1.5  0.4\n",
            "46   5.1  3.8  1.6  0.2\n",
            "50   7.0  3.2  4.7  1.4\n",
            "105  7.6  3.0  6.6  2.1\n",
            "124  6.7  3.3  5.7  2.1\n",
            "26   5.0  3.4  1.6  0.4\n",
            "81   5.5  2.4  3.7  1.0\n",
            "146  6.3  2.5  5.0  1.9\n",
            "112  6.8  3.0  5.5  2.1\n",
            "137  6.4  3.1  5.5  1.8\n",
            "92   5.8  2.6  4.0  1.2\n",
            "143  6.8  3.2  5.9  2.3\n",
            "21   5.1  3.7  1.5  0.4\n",
            "34   4.9  3.1  1.5  0.2\n",
            "53   5.5  2.3  4.0  1.3\n",
            "118  7.7  2.6  6.9  2.3\n",
            "107  7.3  2.9  6.3  1.8\n",
            "10   5.4  3.7  1.5  0.2\n",
            "59   5.2  2.7  3.9  1.4\n",
            "11   4.8  3.4  1.6  0.2\n",
            "43   5.0  3.5  1.6  0.6\n",
            "68   6.2  2.2  4.5  1.5\n",
            "111  6.4  2.7  5.3  1.9\n",
            "       0    1    2    3\n",
            "69   5.6  2.5  3.9  1.1\n",
            "106  4.9  2.5  4.5  1.7\n",
            "83   6.0  2.7  5.1  1.6\n",
            "1    4.9  3.0  1.4  0.2\n",
            "122  7.7  2.8  6.7  2.0\n",
            "144  6.7  3.3  5.7  2.5\n",
            "87   6.3  2.3  4.4  1.3\n",
            "125  7.2  3.2  6.0  1.8\n",
            "61   5.9  3.0  4.2  1.5\n",
            "13   4.3  3.0  1.1  0.1\n",
            "131  7.9  3.8  6.4  2.0\n",
            "142  5.8  2.7  5.1  1.9\n",
            "84   5.4  3.0  4.5  1.5\n",
            "56   6.3  3.3  4.7  1.6\n",
            "89   5.5  2.5  4.0  1.3\n",
            "8    4.4  2.9  1.4  0.2\n",
            "104  6.5  3.0  5.8  2.2\n",
            "37   4.9  3.6  1.4  0.1\n",
            "15   5.7  4.4  1.5  0.4\n",
            "22   4.6  3.6  1.0  0.2\n",
            "39   5.1  3.4  1.5  0.2\n",
            "78   6.0  2.9  4.5  1.5\n",
            "126  6.2  2.8  4.8  1.8\n",
            "32   5.2  4.1  1.5  0.1\n",
            "0    5.1  3.5  1.4  0.2\n",
            "135  7.7  3.0  6.1  2.3\n",
            "96   5.7  2.9  4.2  1.3\n",
            "38   4.4  3.0  1.3  0.2\n",
            "114  5.8  2.8  5.1  2.4\n",
            "60   5.0  2.0  3.5  1.0\n",
            "       0    1    2    3\n",
            "99   5.7  2.8  4.1  1.3\n",
            "48   5.3  3.7  1.5  0.2\n",
            "4    5.0  3.6  1.4  0.2\n",
            "145  6.7  3.0  5.2  2.3\n",
            "121  5.6  2.8  4.9  2.0\n",
            "88   5.6  3.0  4.1  1.3\n",
            "130  7.4  2.8  6.1  1.9\n",
            "44   5.1  3.8  1.9  0.4\n",
            "73   6.1  2.8  4.7  1.2\n",
            "49   5.0  3.3  1.4  0.2\n",
            "77   6.7  3.0  5.0  1.7\n",
            "66   5.6  3.0  4.5  1.5\n",
            "117  7.7  3.8  6.7  2.2\n",
            "101  5.8  2.7  5.1  1.9\n",
            "133  6.3  2.8  5.1  1.5\n",
            "23   5.1  3.3  1.7  0.5\n",
            "95   5.7  3.0  4.2  1.2\n",
            "24   4.8  3.4  1.9  0.2\n",
            "57   4.9  2.4  3.3  1.0\n",
            "116  6.5  3.0  5.5  1.8\n",
            "3    4.6  3.1  1.5  0.2\n",
            "7    5.0  3.4  1.5  0.2\n",
            "70   5.9  3.2  4.8  1.8\n",
            "90   5.5  2.6  4.4  1.2\n",
            "129  7.2  3.0  5.8  1.6\n",
            "71   6.1  2.8  4.0  1.3\n",
            "123  6.3  2.7  4.9  1.8\n",
            "98   5.1  2.5  3.0  1.1\n",
            "62   6.0  2.2  4.0  1.0\n",
            "12   4.8  3.0  1.4  0.1\n"
          ]
        }
      ],
      "source": [
        "(dict_k_df_x, dict_k_s_y) = partition_data( df_x, s_y, 5 )"
      ]
    },
    {
      "cell_type": "markdown",
      "metadata": {
        "id": "ht7ES09xVMod"
      },
      "source": [
        "## Q2.3 Define a function that calculates accuracy\n",
        "The function should accept two series and compare each element for equality.  The accuracy is the number of equal elements divided by the total number of elements.\n",
        "\n",
        "Test your accuracy function by calling it with the `s_y` loaded from the iris data set and an array of the same length containing all $1$ values. "
      ]
    },
    {
      "cell_type": "code",
      "execution_count": null,
      "metadata": {
        "id": "2MmB0rlrVMod"
      },
      "outputs": [],
      "source": [
        "def get_acc( s_1, s_2 ):\n",
        "    s_1 = s_1[0]\n",
        "    count = np.sum(s_1 == s_2)\n",
        "    acc = count/len(s_1)\n",
        "    return acc\n"
      ]
    },
    {
      "cell_type": "code",
      "execution_count": null,
      "metadata": {
        "colab": {
          "base_uri": "https://localhost:8080/"
        },
        "id": "_pyBJUaXVMoe",
        "outputId": "5c7b9082-d197-4081-c3e6-3aa7dc5127fe"
      },
      "outputs": [
        {
          "output_type": "execute_result",
          "data": {
            "text/plain": [
              "0.3333333333333333"
            ]
          },
          "metadata": {},
          "execution_count": 20
        }
      ],
      "source": [
        "get_acc(s_y, np.ones(len(s_y)))"
      ]
    },
    {
      "cell_type": "markdown",
      "metadata": {
        "id": "NSF0SEEoVMoe"
      },
      "source": [
        "## Q2.4 Using Nested Cross validation, find the best hyperparameter\n",
        "Use the [Decision Tree Classifier](https://scikit-learn.org/stable/modules/tree.html#classification) class to build a decision tree inside of a 5-fold cross validation loop.  The partitions you already created in 2.2 will be the outer loop.  In the inside loop you should use 4-fold cross validation (so you don't have to partition _again_) to find the best value for `min_impurity_decrease`.  Use the Gini Index as your impurity measure. \n",
        "    Calculate the mean accuracy across the 4 folds of your inner loop for all the candidate `min_impurity_decrease` values, and print the value.  Use the array `np.array([0.1,0.25,0.3,0.4])` as the candidates for the best hyperparameter. If there is a tie (two `min_impurity_decrease` values give the same highest accuracy), choose the lowest `min_impurity_decrease` value. \n",
        "\n",
        "For each inner loop, select the best `min_impurity_decrease` and train the outer fold training data on using that value. \n",
        "\n",
        "For each inner loop, your output should look something like this:\n",
        "```\n",
        "Testing 0.10 min impurity decrease\n",
        "\tAverage accuracy over 4 folds is 0.95\n",
        "Testing 0.25 min impurity decrease\n",
        "\tAverage accuracy over 4 folds is 0.86\n",
        "Testing 0.30 min impurity decrease\n",
        "\tAverage accuracy over 4 folds is 0.63\n",
        "Testing 0.40 min impurity decrease\n",
        "\tAverage accuracy over 4 folds is 0.27\n",
        "\n",
        "Best min impurity decrease is 0.1\n",
        "\n",
        "```"
      ]
    },
    {
      "cell_type": "code",
      "source": [
        "def get_folds(x_dict, y_dict, k):\n",
        "  x_dict.pop(k)\n",
        "  y_dict.pop(k)\n",
        "\n",
        "  return x_dict, y_dict"
      ],
      "metadata": {
        "id": "KCUYw9CNNAin"
      },
      "execution_count": null,
      "outputs": []
    },
    {
      "cell_type": "code",
      "execution_count": null,
      "metadata": {
        "colab": {
          "base_uri": "https://localhost:8080/"
        },
        "id": "-5gSPYl2VMoe",
        "outputId": "2565e9dc-cce3-46ab-a0d7-799ab7ef8f10"
      },
      "outputs": [
        {
          "output_type": "stream",
          "name": "stdout",
          "text": [
            "Testing 0.1 min impurity decrease\n",
            "   Average accuracy over 4 folds is 0.3\n",
            "Testing 0.25 min impurity decrease\n",
            "   Average accuracy over 4 folds is 0.3\n",
            "Testing 0.3 min impurity decrease\n",
            "   Average accuracy over 4 folds is 0.3\n",
            "Testing 0.4 min impurity decrease\n",
            "   Average accuracy over 4 folds is 0.3\n",
            "\n",
            " Best min impurity decrease is 0.1 \n",
            "\n",
            "Testing 0.1 min impurity decrease\n",
            "   Average accuracy over 4 folds is 0.3\n",
            "Testing 0.25 min impurity decrease\n",
            "   Average accuracy over 4 folds is 0.3\n",
            "Testing 0.3 min impurity decrease\n",
            "   Average accuracy over 4 folds is 0.3\n",
            "Testing 0.4 min impurity decrease\n",
            "   Average accuracy over 4 folds is 0.3\n",
            "\n",
            " Best min impurity decrease is 0.1 \n",
            "\n",
            "Testing 0.1 min impurity decrease\n",
            "   Average accuracy over 4 folds is 0.3\n",
            "Testing 0.25 min impurity decrease\n",
            "   Average accuracy over 4 folds is 0.3\n",
            "Testing 0.3 min impurity decrease\n",
            "   Average accuracy over 4 folds is 0.3\n",
            "Testing 0.4 min impurity decrease\n",
            "   Average accuracy over 4 folds is 0.3\n",
            "\n",
            " Best min impurity decrease is 0.1 \n",
            "\n",
            "Testing 0.1 min impurity decrease\n",
            "   Average accuracy over 4 folds is 0.3\n",
            "Testing 0.25 min impurity decrease\n",
            "   Average accuracy over 4 folds is 0.3\n",
            "Testing 0.3 min impurity decrease\n",
            "   Average accuracy over 4 folds is 0.3\n",
            "Testing 0.4 min impurity decrease\n",
            "   Average accuracy over 4 folds is 0.3\n",
            "\n",
            " Best min impurity decrease is 0.1 \n",
            "\n",
            "Testing 0.1 min impurity decrease\n",
            "   Average accuracy over 4 folds is 0.3\n",
            "Testing 0.25 min impurity decrease\n",
            "   Average accuracy over 4 folds is 0.3\n",
            "Testing 0.3 min impurity decrease\n",
            "   Average accuracy over 4 folds is 0.3\n",
            "Testing 0.4 min impurity decrease\n",
            "   Average accuracy over 4 folds is 0.3\n",
            "\n",
            " Best min impurity decrease is 0.1 \n",
            "\n"
          ]
        }
      ],
      "source": [
        "possible_min_impurity_decrease = np.array([0.1,0.25,0.3,0.4])\n",
        "\n",
        "# Outer loop\n",
        "this_acc = 0\n",
        "outer_acc = np.array([])\n",
        "for k in dict_k_df_x.keys():\n",
        "    \n",
        "    best_acc = 0\n",
        "    best_min_impurity = 0\n",
        "    for pos_min_impurity in possible_min_impurity_decrease:\n",
        "        \n",
        "        # Inner loop cross validation code here (use 4 folds, where the fold does not include k)\n",
        "        acc = 0\n",
        "        for k in dict_k_df_x.keys():\n",
        "            x_train, y_train = get_train(dict_k_s_y, dict_k_df_x, 5, k)\n",
        "            model = tree.DecisionTreeClassifier(criterion='gini', min_impurity_decrease=pos_min_impurity)\n",
        "            model = model.fit(x_train, y_train)\n",
        "            y_pred = model.predict(dict_k_df_x[k])\n",
        "            acc += get_acc(dict_k_s_y[k], y_pred)\n",
        "\n",
        "        mean_acc = acc/4\n",
        "        print('Testing', pos_min_impurity, 'min impurity decrease')\n",
        "        print('   Average accuracy over 4 folds is', mean_acc)\n",
        "\n",
        "        if mean_acc > best_acc:\n",
        "            best_acc = mean_acc\n",
        "            best_min_impurity = pos_min_impurity\n",
        "\n",
        "    print('\\n Best min impurity decrease is', best_min_impurity, '\\n')\n",
        "\n",
        "    # Use best min impurity decrease to train model\n",
        "    x_train, y_train = get_train(dict_k_s_y, dict_k_df_x, 5, k)\n",
        "    model = tree.DecisionTreeClassifier(criterion='gini', min_impurity_decrease=best_min_impurity)\n",
        "    model = model.fit(x_train, y_train)\n",
        "    y_pred = model.predict(dict_k_df_x[k])\n",
        "    \n",
        "    # outer accuracy calculation \n",
        "    this_acc = get_acc(dict_k_s_y[k], y_pred)\n",
        "    outer_acc = np.append(outer_acc, this_acc) # make sure and calculate this_acc in your loop"
      ]
    },
    {
      "cell_type": "markdown",
      "metadata": {
        "id": "S_JtetxiVMoe"
      },
      "source": [
        "## Q2.5 Show the generalized performance of the classifier \n",
        "Show the generalized performance of the classifier by printing the min, max, and mean accuracy of the outer fold test sets."
      ]
    },
    {
      "cell_type": "code",
      "execution_count": null,
      "metadata": {
        "colab": {
          "base_uri": "https://localhost:8080/"
        },
        "id": "TTbd_d_MVMof",
        "outputId": "68f1ccb5-4a5f-495a-b06d-513d9068cac0"
      },
      "outputs": [
        {
          "output_type": "stream",
          "name": "stdout",
          "text": [
            "min: 0.26666666666666666\n",
            "max: 0.26666666666666666\n",
            "mean: 0.26666666666666666\n"
          ]
        }
      ],
      "source": [
        "print('min:', outer_acc.min())\n",
        "print('max:', outer_acc.max())\n",
        "print('mean:', outer_acc.mean())"
      ]
    }
  ],
  "metadata": {
    "kernelspec": {
      "display_name": "Python 3",
      "language": "python",
      "name": "python3"
    },
    "language_info": {
      "codemirror_mode": {
        "name": "ipython",
        "version": 3
      },
      "file_extension": ".py",
      "mimetype": "text/x-python",
      "name": "python",
      "nbconvert_exporter": "python",
      "pygments_lexer": "ipython3",
      "version": "3.8.3"
    },
    "colab": {
      "provenance": []
    }
  },
  "nbformat": 4,
  "nbformat_minor": 0
}