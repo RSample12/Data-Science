{
  "cells": [
    {
      "cell_type": "markdown",
      "metadata": {
        "id": "blRNZIAv2cQt"
      },
      "source": [
        "# Homework 4\n",
        "\n",
        "## Your Name Here (or your names here if you are pair programming)\n",
        "Riley Sample\n",
        "rcs3396\n",
        "\n",
        "## Linear Regression with Gradient Descent"
      ]
    },
    {
      "cell_type": "markdown",
      "metadata": {
        "id": "MoyoSfUE2cQ5"
      },
      "source": [
        "Your task in this assignment is to implement Multiple Linear Regression. \n",
        "\n",
        "We will use the New York City Taxi trip reports in the Year 2013. \n",
        "The dataset was released under the FOIL (The Freedom of Information Law) and made public by Chris Whong (\\url{https://chriswhong.com/open-data/foil_nyc_taxi/}).\n",
        "\n",
        "\n",
        "\n",
        "# Taxi Data Set\n",
        "The data set itself is a simple text file. Each taxi trip report is a different line in the file. Among other things, each trip report \n",
        "includes the starting point, the drop-off point, corresponding timestamps, and information related to the payment. The data are reported \n",
        "by the time that the trip ended, i.e., upon arriving in the order of the drop-off timestamps. \n",
        "The attributes present on each line of the file are, in order:\n",
        "\n",
        "\n",
        "\n",
        "| index | **Attribute** | **Description** |\n",
        "| --- | --- | --- |\n",
        "| 0 | medallion           |  an md5sum of the identifier of the taxi - vehicle bound (Taxi ID)  | \n",
        "| 1 | hack license       |  an md5sum of the identifier for the taxi license (Driver ID)  |  \n",
        "| 2 | pickup datetime    | time when the passenger(s) were picked up  |  \n",
        "| 3 | dropoff datetime   | time when the passenger(s) were dropped off  | \n",
        "| 4 | trip time in secs | duration of the trip  |  \n",
        "| 5 | trip distance | trip distance in miles  |  \n",
        "| 6 | pickup longitude | longitude coordinate of the pickup location  |  \n",
        "| 7 | pickup latitude | latitude coordinate of the pickup location  |  \n",
        "| 8 | dropoff longitude | longitude coordinate of the drop-off location   |  \n",
        "| 9 | dropoff latitude | latitude coordinate of the drop-off location  | \n",
        "| 10 | payment type | the payment method -credit card or cash  |  \n",
        "| 11 | fare amount | fare amount in dollars  |  \n",
        "| 12 | surcharge | surcharge in dollars  |  \n",
        "| 13 | mta tax | tax in dollars  |  \n",
        "| 14 | tip amount | tip in dollars  |  \n",
        "| 15 | tolls amount | bridge and tunnel tolls in dollars  |  \n",
        "| 16 | total amount | total paid amount in dollars  |  \n",
        "\n",
        "\n",
        "\n",
        "\n",
        "The data files are in comma separated values (CSV) format. Example lines from the file are:\n",
        "\n",
        "07290D3599E7A0D62097A346EFCC1FB5,E7750A37CAB07D0DFF0AF7E3573AC141,\\\\\n",
        "2013-01-01,00:00:00,2013-01-01 00:02:00,120,0.44,-73.956528,40.716976,-73.962440,\\\\\n",
        "40.715008,CSH,3.50,0.50,0.50,0.00,0.00,4.50\n",
        "\n",
        "22D70BF00EEB0ADC83BA8177BB861991,3FF2709163DE7036FCAA4E5A3324E4BF,\\\\\n",
        "2013-01-01,00:02:00,2013-01-01 00:02:00,0,0.00,0.000000,0.000000,0.000000,0.000000,\\\\\n",
        "CSH,27.00,0.00,0.50,0.00,0.00,27.50\n",
        "\n",
        "0EC22AAF491A8BD91F279350C2B010FD,778C92B26AE78A9EBDF96B49C67E4007,\\\\\n",
        "2013-01-01,00:01:00,2013-01-01 00:03:00,120,0.71,-73.973145,40.752827,-73.965897\\\\\n",
        "73.965897,40.760445,CSH,4.00,0.50,0.50,0.00,0.00,5.00\n",
        "\n"
      ]
    },
    {
      "cell_type": "code",
      "execution_count": null,
      "metadata": {
        "id": "0UjKOyNw2cQ9"
      },
      "outputs": [],
      "source": [
        "# Standard Headers\n",
        "# You are welcome to add additional headers here if you wish\n",
        "import pandas as pd\n",
        "from pandas.plotting import scatter_matrix\n",
        "import numpy as np\n",
        "import matplotlib.pyplot as plt\n",
        "\n",
        "# Enable inline mode for matplotlib so that Jupyter displays graphs\n",
        "%matplotlib inline"
      ]
    },
    {
      "cell_type": "code",
      "execution_count": null,
      "metadata": {
        "id": "bjRc7I4Y2cRA"
      },
      "outputs": [],
      "source": [
        "df = pd.read_csv('nyc-taxi-data.csv.bz2')"
      ]
    },
    {
      "cell_type": "markdown",
      "metadata": {
        "id": "AjgLguyj2cRE"
      },
      "source": [
        "## Task - 1\n",
        "The dataset is a real-world dataset and many records are incorrect and wrong. Your task is first to describe at least 4 data clean up tasks and implement them on this data set.\n",
        "\n",
        "For example, you can define to remove lines with the following property, if a taxi trip (one of the data rows) has a travel distance less than 1 mile and total amount of more than 20 dollar, then it is an wrong record. \n",
        "\n",
        "Another example is that you would expect to have a float number (e.g., index 12 to 16) and then you got a String in that position. You can remove such lines from your data. \n",
        "\n",
        "Perform the following cleanup tasks:\n",
        "1. Add column headers based on the description above (no need to describe).\n",
        "2. Drop rows with a travel distance < 1 mile and a total fare > $20 (no need to describe). Both conditions need to be met.\n",
        "3. Your own task (please describe your task in a comment/cell).\n",
        "4. Your own task (please describe your task in a comment/cell).\n",
        "\n",
        "**(4 points)**"
      ]
    },
    {
      "cell_type": "code",
      "execution_count": null,
      "metadata": {
        "id": "NxPpXNJj2cRF"
      },
      "outputs": [],
      "source": [
        "# Your code here\n",
        "df.columns = ['medallion', 'hack license', 'pickup datetime', 'dropoff datetime', 'trip time in secs', \n",
        "              'trip distance', 'pickup longitude', 'pickup latitude', 'dropoff longitude', \n",
        "              'dropoff latitude', 'payment type', 'fare amount', 'surcharge', 'mta tax', 'tip amount', \n",
        "              'tolls amount', 'total amount']"
      ]
    },
    {
      "cell_type": "code",
      "execution_count": null,
      "metadata": {
        "id": "HjxYATRr2cRH"
      },
      "outputs": [],
      "source": [
        "# drop trips with < 1 mile and > $20\n",
        "indexes = df[(df['trip distance'] < 1) & (df['fare amount'] > 20)].index\n",
        "df = df.drop(indexes)"
      ]
    },
    {
      "cell_type": "code",
      "execution_count": null,
      "metadata": {
        "id": "qb4nH11y2cRJ"
      },
      "outputs": [],
      "source": [
        "# drop trips with 0 distance or time travelled\n",
        "indexes = df[df['trip distance'] == 0].index\n",
        "df = df.drop(indexes)\n",
        "\n"
      ]
    },
    {
      "cell_type": "code",
      "execution_count": null,
      "metadata": {
        "id": "GMAnE2uZ2cRK"
      },
      "outputs": [],
      "source": [
        "# drop trips with 0 time travelled\n",
        "indexes = df[df['trip time in secs'] == 0].index\n",
        "df = df.drop(indexes)"
      ]
    },
    {
      "cell_type": "code",
      "source": [
        "df"
      ],
      "metadata": {
        "colab": {
          "base_uri": "https://localhost:8080/",
          "height": 887
        },
        "id": "PV0PAxoV-YAJ",
        "outputId": "74f34fe2-851d-4401-cc2b-7f115bc9d9c4"
      },
      "execution_count": null,
      "outputs": [
        {
          "output_type": "execute_result",
          "data": {
            "text/plain": [
              "                              medallion                      hack license  \\\n",
              "1      0EC22AAF491A8BD91F279350C2B010FD  778C92B26AE78A9EBDF96B49C67E4007   \n",
              "2      1390FB380189DF6BBFDA4DC847CAD14F  BE317B986700F63C43438482792C8654   \n",
              "3      3B4129883A1D05BE89F2C929DE136281  7077F9FD5AD649AEACA4746B2537E3FA   \n",
              "5      DFBFA82ECA8F7059B89C3E8B93DAA377  CF8604E72D83840FBA1978C2D2FC9CDB   \n",
              "7      468244D1361B8A3EB8D206CC394BC9E9  BB899DFEA9CC964B50C540A1D685CCFB   \n",
              "...                                 ...                               ...   \n",
              "49994  A0AFE6B722F15B7A0FDFEEA954BE316A  93D505C96BD248DC390FD47F747D762D   \n",
              "49995  A0DEAEC3D5592AE94B876356F12F8158  6A35995FBD5399AB131B89623C344782   \n",
              "49996  A154EFA0695A29423B078C7F5D5B2CB5  F38E7C3381F28C9B3E51C0B6DDBDF68A   \n",
              "49997  A2B97CECFEA4C8DE45D8FC251E80AF1D  68AE01DDBDEDDFF772905561744A1072   \n",
              "49998  A3162ED937438746E5269909C0E5AAA1  8313CA0A78F4404DCEB35FD6D8CEEB66   \n",
              "\n",
              "           pickup datetime     dropoff datetime  trip time in secs  \\\n",
              "1      2013-01-01 00:01:00  2013-01-01 00:03:00                120   \n",
              "2      2013-01-01 00:01:00  2013-01-01 00:03:00                120   \n",
              "3      2013-01-01 00:01:00  2013-01-01 00:03:00                120   \n",
              "5      2013-01-01 00:02:00  2013-01-01 00:03:00                 60   \n",
              "7      2013-01-01 00:00:00  2013-01-01 00:04:00                240   \n",
              "...                    ...                  ...                ...   \n",
              "49994  2013-01-01 03:44:00  2013-01-01 03:46:00                120   \n",
              "49995  2013-01-01 03:35:00  2013-01-01 03:46:00                660   \n",
              "49996  2013-01-01 03:40:00  2013-01-01 03:46:00                360   \n",
              "49997  2013-01-01 03:34:00  2013-01-01 03:46:00                720   \n",
              "49998  2013-01-01 03:37:00  2013-01-01 03:46:00                540   \n",
              "\n",
              "       trip distance  pickup longitude  pickup latitude  dropoff longitude  \\\n",
              "1               0.71        -73.973145        40.752827         -73.965897   \n",
              "2               0.48        -74.004173        40.720947         -74.003838   \n",
              "3               0.61        -73.987373        40.724861         -73.983772   \n",
              "5               0.39        -73.981544        40.781475         -73.979439   \n",
              "7               1.71        -73.955383        40.779728         -73.967758   \n",
              "...              ...               ...              ...                ...   \n",
              "49994           0.79        -73.963593        40.710941         -74.027779   \n",
              "49995           2.41        -73.955833        40.768272         -73.987724   \n",
              "49996           1.63        -73.963951        40.709934         -73.949364   \n",
              "49997           4.04        -73.952759        40.776524         -73.983093   \n",
              "49998           2.11        -73.904488        40.771713         -73.930023   \n",
              "\n",
              "       dropoff latitude payment type  fare amount  surcharge  mta tax  \\\n",
              "1             40.760445          CSH          4.0        0.5      0.5   \n",
              "2             40.726189          CSH          4.0        0.5      0.5   \n",
              "3             40.730995          CRD          4.0        0.5      0.5   \n",
              "5             40.784386          CRD          3.0        0.5      0.5   \n",
              "7             40.760326          CSH          6.5        0.5      0.5   \n",
              "...                 ...          ...          ...        ...      ...   \n",
              "49994         40.629894          CSH          4.5        0.5      0.5   \n",
              "49995         40.775490          CRD         10.0        0.5      0.5   \n",
              "49996         40.695381          CRD          7.0        0.5      0.5   \n",
              "49997         40.738796          CRD         14.5        0.5      0.5   \n",
              "49998         40.764332          CSH          9.0        0.5      0.5   \n",
              "\n",
              "       tip amount  tolls amount  total amount  \n",
              "1            0.00           0.0          5.00  \n",
              "2            0.00           0.0          5.00  \n",
              "3            0.00           0.0          5.00  \n",
              "5            0.70           0.0          4.70  \n",
              "7            0.00           0.0          7.50  \n",
              "...           ...           ...           ...  \n",
              "49994        0.00           0.0          5.50  \n",
              "49995        2.10           0.0         13.10  \n",
              "49996        2.25           0.0         10.25  \n",
              "49997        3.00           0.0         18.50  \n",
              "49998        0.00           0.0         10.00  \n",
              "\n",
              "[49484 rows x 17 columns]"
            ],
            "text/html": [
              "\n",
              "  <div id=\"df-32b4be3a-2754-483d-b7d0-ec728159541d\">\n",
              "    <div class=\"colab-df-container\">\n",
              "      <div>\n",
              "<style scoped>\n",
              "    .dataframe tbody tr th:only-of-type {\n",
              "        vertical-align: middle;\n",
              "    }\n",
              "\n",
              "    .dataframe tbody tr th {\n",
              "        vertical-align: top;\n",
              "    }\n",
              "\n",
              "    .dataframe thead th {\n",
              "        text-align: right;\n",
              "    }\n",
              "</style>\n",
              "<table border=\"1\" class=\"dataframe\">\n",
              "  <thead>\n",
              "    <tr style=\"text-align: right;\">\n",
              "      <th></th>\n",
              "      <th>medallion</th>\n",
              "      <th>hack license</th>\n",
              "      <th>pickup datetime</th>\n",
              "      <th>dropoff datetime</th>\n",
              "      <th>trip time in secs</th>\n",
              "      <th>trip distance</th>\n",
              "      <th>pickup longitude</th>\n",
              "      <th>pickup latitude</th>\n",
              "      <th>dropoff longitude</th>\n",
              "      <th>dropoff latitude</th>\n",
              "      <th>payment type</th>\n",
              "      <th>fare amount</th>\n",
              "      <th>surcharge</th>\n",
              "      <th>mta tax</th>\n",
              "      <th>tip amount</th>\n",
              "      <th>tolls amount</th>\n",
              "      <th>total amount</th>\n",
              "    </tr>\n",
              "  </thead>\n",
              "  <tbody>\n",
              "    <tr>\n",
              "      <th>1</th>\n",
              "      <td>0EC22AAF491A8BD91F279350C2B010FD</td>\n",
              "      <td>778C92B26AE78A9EBDF96B49C67E4007</td>\n",
              "      <td>2013-01-01 00:01:00</td>\n",
              "      <td>2013-01-01 00:03:00</td>\n",
              "      <td>120</td>\n",
              "      <td>0.71</td>\n",
              "      <td>-73.973145</td>\n",
              "      <td>40.752827</td>\n",
              "      <td>-73.965897</td>\n",
              "      <td>40.760445</td>\n",
              "      <td>CSH</td>\n",
              "      <td>4.0</td>\n",
              "      <td>0.5</td>\n",
              "      <td>0.5</td>\n",
              "      <td>0.00</td>\n",
              "      <td>0.0</td>\n",
              "      <td>5.00</td>\n",
              "    </tr>\n",
              "    <tr>\n",
              "      <th>2</th>\n",
              "      <td>1390FB380189DF6BBFDA4DC847CAD14F</td>\n",
              "      <td>BE317B986700F63C43438482792C8654</td>\n",
              "      <td>2013-01-01 00:01:00</td>\n",
              "      <td>2013-01-01 00:03:00</td>\n",
              "      <td>120</td>\n",
              "      <td>0.48</td>\n",
              "      <td>-74.004173</td>\n",
              "      <td>40.720947</td>\n",
              "      <td>-74.003838</td>\n",
              "      <td>40.726189</td>\n",
              "      <td>CSH</td>\n",
              "      <td>4.0</td>\n",
              "      <td>0.5</td>\n",
              "      <td>0.5</td>\n",
              "      <td>0.00</td>\n",
              "      <td>0.0</td>\n",
              "      <td>5.00</td>\n",
              "    </tr>\n",
              "    <tr>\n",
              "      <th>3</th>\n",
              "      <td>3B4129883A1D05BE89F2C929DE136281</td>\n",
              "      <td>7077F9FD5AD649AEACA4746B2537E3FA</td>\n",
              "      <td>2013-01-01 00:01:00</td>\n",
              "      <td>2013-01-01 00:03:00</td>\n",
              "      <td>120</td>\n",
              "      <td>0.61</td>\n",
              "      <td>-73.987373</td>\n",
              "      <td>40.724861</td>\n",
              "      <td>-73.983772</td>\n",
              "      <td>40.730995</td>\n",
              "      <td>CRD</td>\n",
              "      <td>4.0</td>\n",
              "      <td>0.5</td>\n",
              "      <td>0.5</td>\n",
              "      <td>0.00</td>\n",
              "      <td>0.0</td>\n",
              "      <td>5.00</td>\n",
              "    </tr>\n",
              "    <tr>\n",
              "      <th>5</th>\n",
              "      <td>DFBFA82ECA8F7059B89C3E8B93DAA377</td>\n",
              "      <td>CF8604E72D83840FBA1978C2D2FC9CDB</td>\n",
              "      <td>2013-01-01 00:02:00</td>\n",
              "      <td>2013-01-01 00:03:00</td>\n",
              "      <td>60</td>\n",
              "      <td>0.39</td>\n",
              "      <td>-73.981544</td>\n",
              "      <td>40.781475</td>\n",
              "      <td>-73.979439</td>\n",
              "      <td>40.784386</td>\n",
              "      <td>CRD</td>\n",
              "      <td>3.0</td>\n",
              "      <td>0.5</td>\n",
              "      <td>0.5</td>\n",
              "      <td>0.70</td>\n",
              "      <td>0.0</td>\n",
              "      <td>4.70</td>\n",
              "    </tr>\n",
              "    <tr>\n",
              "      <th>7</th>\n",
              "      <td>468244D1361B8A3EB8D206CC394BC9E9</td>\n",
              "      <td>BB899DFEA9CC964B50C540A1D685CCFB</td>\n",
              "      <td>2013-01-01 00:00:00</td>\n",
              "      <td>2013-01-01 00:04:00</td>\n",
              "      <td>240</td>\n",
              "      <td>1.71</td>\n",
              "      <td>-73.955383</td>\n",
              "      <td>40.779728</td>\n",
              "      <td>-73.967758</td>\n",
              "      <td>40.760326</td>\n",
              "      <td>CSH</td>\n",
              "      <td>6.5</td>\n",
              "      <td>0.5</td>\n",
              "      <td>0.5</td>\n",
              "      <td>0.00</td>\n",
              "      <td>0.0</td>\n",
              "      <td>7.50</td>\n",
              "    </tr>\n",
              "    <tr>\n",
              "      <th>...</th>\n",
              "      <td>...</td>\n",
              "      <td>...</td>\n",
              "      <td>...</td>\n",
              "      <td>...</td>\n",
              "      <td>...</td>\n",
              "      <td>...</td>\n",
              "      <td>...</td>\n",
              "      <td>...</td>\n",
              "      <td>...</td>\n",
              "      <td>...</td>\n",
              "      <td>...</td>\n",
              "      <td>...</td>\n",
              "      <td>...</td>\n",
              "      <td>...</td>\n",
              "      <td>...</td>\n",
              "      <td>...</td>\n",
              "      <td>...</td>\n",
              "    </tr>\n",
              "    <tr>\n",
              "      <th>49994</th>\n",
              "      <td>A0AFE6B722F15B7A0FDFEEA954BE316A</td>\n",
              "      <td>93D505C96BD248DC390FD47F747D762D</td>\n",
              "      <td>2013-01-01 03:44:00</td>\n",
              "      <td>2013-01-01 03:46:00</td>\n",
              "      <td>120</td>\n",
              "      <td>0.79</td>\n",
              "      <td>-73.963593</td>\n",
              "      <td>40.710941</td>\n",
              "      <td>-74.027779</td>\n",
              "      <td>40.629894</td>\n",
              "      <td>CSH</td>\n",
              "      <td>4.5</td>\n",
              "      <td>0.5</td>\n",
              "      <td>0.5</td>\n",
              "      <td>0.00</td>\n",
              "      <td>0.0</td>\n",
              "      <td>5.50</td>\n",
              "    </tr>\n",
              "    <tr>\n",
              "      <th>49995</th>\n",
              "      <td>A0DEAEC3D5592AE94B876356F12F8158</td>\n",
              "      <td>6A35995FBD5399AB131B89623C344782</td>\n",
              "      <td>2013-01-01 03:35:00</td>\n",
              "      <td>2013-01-01 03:46:00</td>\n",
              "      <td>660</td>\n",
              "      <td>2.41</td>\n",
              "      <td>-73.955833</td>\n",
              "      <td>40.768272</td>\n",
              "      <td>-73.987724</td>\n",
              "      <td>40.775490</td>\n",
              "      <td>CRD</td>\n",
              "      <td>10.0</td>\n",
              "      <td>0.5</td>\n",
              "      <td>0.5</td>\n",
              "      <td>2.10</td>\n",
              "      <td>0.0</td>\n",
              "      <td>13.10</td>\n",
              "    </tr>\n",
              "    <tr>\n",
              "      <th>49996</th>\n",
              "      <td>A154EFA0695A29423B078C7F5D5B2CB5</td>\n",
              "      <td>F38E7C3381F28C9B3E51C0B6DDBDF68A</td>\n",
              "      <td>2013-01-01 03:40:00</td>\n",
              "      <td>2013-01-01 03:46:00</td>\n",
              "      <td>360</td>\n",
              "      <td>1.63</td>\n",
              "      <td>-73.963951</td>\n",
              "      <td>40.709934</td>\n",
              "      <td>-73.949364</td>\n",
              "      <td>40.695381</td>\n",
              "      <td>CRD</td>\n",
              "      <td>7.0</td>\n",
              "      <td>0.5</td>\n",
              "      <td>0.5</td>\n",
              "      <td>2.25</td>\n",
              "      <td>0.0</td>\n",
              "      <td>10.25</td>\n",
              "    </tr>\n",
              "    <tr>\n",
              "      <th>49997</th>\n",
              "      <td>A2B97CECFEA4C8DE45D8FC251E80AF1D</td>\n",
              "      <td>68AE01DDBDEDDFF772905561744A1072</td>\n",
              "      <td>2013-01-01 03:34:00</td>\n",
              "      <td>2013-01-01 03:46:00</td>\n",
              "      <td>720</td>\n",
              "      <td>4.04</td>\n",
              "      <td>-73.952759</td>\n",
              "      <td>40.776524</td>\n",
              "      <td>-73.983093</td>\n",
              "      <td>40.738796</td>\n",
              "      <td>CRD</td>\n",
              "      <td>14.5</td>\n",
              "      <td>0.5</td>\n",
              "      <td>0.5</td>\n",
              "      <td>3.00</td>\n",
              "      <td>0.0</td>\n",
              "      <td>18.50</td>\n",
              "    </tr>\n",
              "    <tr>\n",
              "      <th>49998</th>\n",
              "      <td>A3162ED937438746E5269909C0E5AAA1</td>\n",
              "      <td>8313CA0A78F4404DCEB35FD6D8CEEB66</td>\n",
              "      <td>2013-01-01 03:37:00</td>\n",
              "      <td>2013-01-01 03:46:00</td>\n",
              "      <td>540</td>\n",
              "      <td>2.11</td>\n",
              "      <td>-73.904488</td>\n",
              "      <td>40.771713</td>\n",
              "      <td>-73.930023</td>\n",
              "      <td>40.764332</td>\n",
              "      <td>CSH</td>\n",
              "      <td>9.0</td>\n",
              "      <td>0.5</td>\n",
              "      <td>0.5</td>\n",
              "      <td>0.00</td>\n",
              "      <td>0.0</td>\n",
              "      <td>10.00</td>\n",
              "    </tr>\n",
              "  </tbody>\n",
              "</table>\n",
              "<p>49484 rows × 17 columns</p>\n",
              "</div>\n",
              "      <button class=\"colab-df-convert\" onclick=\"convertToInteractive('df-32b4be3a-2754-483d-b7d0-ec728159541d')\"\n",
              "              title=\"Convert this dataframe to an interactive table.\"\n",
              "              style=\"display:none;\">\n",
              "        \n",
              "  <svg xmlns=\"http://www.w3.org/2000/svg\" height=\"24px\"viewBox=\"0 0 24 24\"\n",
              "       width=\"24px\">\n",
              "    <path d=\"M0 0h24v24H0V0z\" fill=\"none\"/>\n",
              "    <path d=\"M18.56 5.44l.94 2.06.94-2.06 2.06-.94-2.06-.94-.94-2.06-.94 2.06-2.06.94zm-11 1L8.5 8.5l.94-2.06 2.06-.94-2.06-.94L8.5 2.5l-.94 2.06-2.06.94zm10 10l.94 2.06.94-2.06 2.06-.94-2.06-.94-.94-2.06-.94 2.06-2.06.94z\"/><path d=\"M17.41 7.96l-1.37-1.37c-.4-.4-.92-.59-1.43-.59-.52 0-1.04.2-1.43.59L10.3 9.45l-7.72 7.72c-.78.78-.78 2.05 0 2.83L4 21.41c.39.39.9.59 1.41.59.51 0 1.02-.2 1.41-.59l7.78-7.78 2.81-2.81c.8-.78.8-2.07 0-2.86zM5.41 20L4 18.59l7.72-7.72 1.47 1.35L5.41 20z\"/>\n",
              "  </svg>\n",
              "      </button>\n",
              "      \n",
              "  <style>\n",
              "    .colab-df-container {\n",
              "      display:flex;\n",
              "      flex-wrap:wrap;\n",
              "      gap: 12px;\n",
              "    }\n",
              "\n",
              "    .colab-df-convert {\n",
              "      background-color: #E8F0FE;\n",
              "      border: none;\n",
              "      border-radius: 50%;\n",
              "      cursor: pointer;\n",
              "      display: none;\n",
              "      fill: #1967D2;\n",
              "      height: 32px;\n",
              "      padding: 0 0 0 0;\n",
              "      width: 32px;\n",
              "    }\n",
              "\n",
              "    .colab-df-convert:hover {\n",
              "      background-color: #E2EBFA;\n",
              "      box-shadow: 0px 1px 2px rgba(60, 64, 67, 0.3), 0px 1px 3px 1px rgba(60, 64, 67, 0.15);\n",
              "      fill: #174EA6;\n",
              "    }\n",
              "\n",
              "    [theme=dark] .colab-df-convert {\n",
              "      background-color: #3B4455;\n",
              "      fill: #D2E3FC;\n",
              "    }\n",
              "\n",
              "    [theme=dark] .colab-df-convert:hover {\n",
              "      background-color: #434B5C;\n",
              "      box-shadow: 0px 1px 3px 1px rgba(0, 0, 0, 0.15);\n",
              "      filter: drop-shadow(0px 1px 2px rgba(0, 0, 0, 0.3));\n",
              "      fill: #FFFFFF;\n",
              "    }\n",
              "  </style>\n",
              "\n",
              "      <script>\n",
              "        const buttonEl =\n",
              "          document.querySelector('#df-32b4be3a-2754-483d-b7d0-ec728159541d button.colab-df-convert');\n",
              "        buttonEl.style.display =\n",
              "          google.colab.kernel.accessAllowed ? 'block' : 'none';\n",
              "\n",
              "        async function convertToInteractive(key) {\n",
              "          const element = document.querySelector('#df-32b4be3a-2754-483d-b7d0-ec728159541d');\n",
              "          const dataTable =\n",
              "            await google.colab.kernel.invokeFunction('convertToInteractive',\n",
              "                                                     [key], {});\n",
              "          if (!dataTable) return;\n",
              "\n",
              "          const docLinkHtml = 'Like what you see? Visit the ' +\n",
              "            '<a target=\"_blank\" href=https://colab.research.google.com/notebooks/data_table.ipynb>data table notebook</a>'\n",
              "            + ' to learn more about interactive tables.';\n",
              "          element.innerHTML = '';\n",
              "          dataTable['output_type'] = 'display_data';\n",
              "          await google.colab.output.renderOutput(dataTable, element);\n",
              "          const docLink = document.createElement('div');\n",
              "          docLink.innerHTML = docLinkHtml;\n",
              "          element.appendChild(docLink);\n",
              "        }\n",
              "      </script>\n",
              "    </div>\n",
              "  </div>\n",
              "  "
            ]
          },
          "metadata": {},
          "execution_count": 7
        }
      ]
    },
    {
      "cell_type": "markdown",
      "metadata": {
        "id": "4OQ0Aaz62cRM"
      },
      "source": [
        "## Task - 2\n",
        "Use the cleaned dataset from task 1.\n",
        "Find out the correlations between trip distance, travel time and fare amount. Visualize the correlations in form of Scatterplot matrix. \n",
        "Describe the correlations between them. **(4 points)**"
      ]
    },
    {
      "cell_type": "code",
      "execution_count": null,
      "metadata": {
        "colab": {
          "base_uri": "https://localhost:8080/"
        },
        "id": "I8aGy7yI2cRN",
        "outputId": "b87f2d77-82e9-42d7-dd75-1eb9f779f82f"
      },
      "outputs": [
        {
          "output_type": "stream",
          "name": "stdout",
          "text": [
            "Distance and time corr: 0.7736107904006128\n",
            "Distance and fare corr: 0.9380393767987177\n",
            "Time and fare corr: 0.847943700514623\n"
          ]
        }
      ],
      "source": [
        "# Your code here\n",
        "trip_distance = df['trip distance']\n",
        "travel_time = df['trip time in secs']\n",
        "fare_amount = df['fare amount']\n",
        "\n",
        "# find correlations\n",
        "print('Distance and time corr:', trip_distance.corr(travel_time, method='pearson'))\n",
        "print('Distance and fare corr:', trip_distance.corr(fare_amount, method='pearson'))\n",
        "print('Time and fare corr:', travel_time.corr(fare_amount, method='pearson'))"
      ]
    },
    {
      "cell_type": "code",
      "source": [
        "# create scatter matrix\n",
        "plot = df[['trip distance', 'trip time in secs', 'fare amount']]\n",
        "scatter_matrix(plot, alpha = 0.2, figsize = (8, 8), diagonal = 'kde')"
      ],
      "metadata": {
        "colab": {
          "base_uri": "https://localhost:8080/",
          "height": 682
        },
        "id": "roXF0pL74Ilm",
        "outputId": "d8e6b3b5-b85d-40b8-f183-56be1a551f41"
      },
      "execution_count": null,
      "outputs": [
        {
          "output_type": "execute_result",
          "data": {
            "text/plain": [
              "array([[<matplotlib.axes._subplots.AxesSubplot object at 0x7ff2b672ce50>,\n",
              "        <matplotlib.axes._subplots.AxesSubplot object at 0x7ff2b672ca50>,\n",
              "        <matplotlib.axes._subplots.AxesSubplot object at 0x7ff2b664ab90>],\n",
              "       [<matplotlib.axes._subplots.AxesSubplot object at 0x7ff2b660d1d0>,\n",
              "        <matplotlib.axes._subplots.AxesSubplot object at 0x7ff2b66447d0>,\n",
              "        <matplotlib.axes._subplots.AxesSubplot object at 0x7ff2b65fbdd0>],\n",
              "       [<matplotlib.axes._subplots.AxesSubplot object at 0x7ff2b65be490>,\n",
              "        <matplotlib.axes._subplots.AxesSubplot object at 0x7ff2b657b9d0>,\n",
              "        <matplotlib.axes._subplots.AxesSubplot object at 0x7ff2b657ba10>]],\n",
              "      dtype=object)"
            ]
          },
          "metadata": {},
          "execution_count": 9
        },
        {
          "output_type": "display_data",
          "data": {
            "text/plain": [
              "<Figure size 576x576 with 9 Axes>"
            ],
            "image/png": "[encoded data removed]"
          },
          "metadata": {
            "needs_background": "light"
          }
        }
      ]
    },
    {
      "cell_type": "code",
      "source": [
        "# Each variable has a positive correlation very close to 1 \n",
        "# indicating that they are all heavily influenced by one another"
      ],
      "metadata": {
        "id": "dt3u2x-i3c78"
      },
      "execution_count": null,
      "outputs": []
    },
    {
      "cell_type": "markdown",
      "metadata": {
        "id": "72CJI8io2cRO"
      },
      "source": [
        "## Task - 3\n",
        "Use the cleaned dataset from task 1.\n",
        "We want to find a simple line to our data (distance, money). \n",
        "We want to use trip distance, and fare amount. Use the **Scikit-learn** library to fit a line into the data. **(2 points)**\n",
        "\n",
        "* Provide the Regression Cofficients of your model\n",
        "* Write down your linear regression equation. \n",
        "* Use your model to predict the fare amount for a 3 miles trip. \n",
        "\n",
        "A visualization of the model is not required, but it would be nice to have and good practice."
      ]
    },
    {
      "cell_type": "code",
      "execution_count": null,
      "metadata": {
        "colab": {
          "base_uri": "https://localhost:8080/"
        },
        "id": "CfczrUMT2cRP",
        "outputId": "25161ecb-a9e5-4733-84fb-9aa9553b7c89"
      },
      "outputs": [
        {
          "output_type": "stream",
          "name": "stdout",
          "text": [
            "coef: [2.86177338]\n",
            "int: 3.74595282817101\n",
            "Fare amount for 3 mile trip: 12.331272968701231\n"
          ]
        }
      ],
      "source": [
        "# Your code here\n",
        "from sklearn.linear_model import LinearRegression\n",
        "trip_distance = df['trip distance']\n",
        "predictor = np.vstack(trip_distance)\n",
        "fare_amount = df['fare amount']\n",
        "\n",
        "# fit line into data\n",
        "reg = LinearRegression().fit(predictor, fare_amount)\n",
        "\n",
        "# print m and b\n",
        "print('coef:', reg.coef_)\n",
        "print('int:', reg.intercept_)\n",
        "\n",
        "# equation is y = 2.862x + 3.746\n",
        "# predict price of 3 mile trip\n",
        "fare = reg.coef_[0] * 3 + reg.intercept_\n",
        "print('Fare amount for 3 mile trip:', fare)\n"
      ]
    },
    {
      "cell_type": "code",
      "source": [
        "fig = plt.figure()\n",
        "plt.title('correlation between trip distance and fare amount')\n",
        "plt.xlabel('trip distance')\n",
        "plt.ylabel('fare amount')\n",
        "plt.scatter(trip_distance, fare_amount, c='blue', alpha=.7, label=\"Fare Amount\")\n",
        "plt.plot(trip_distance, reg.predict(predictor), c='red', alpha=.7, label=\"Prediction of Fare\")"
      ],
      "metadata": {
        "colab": {
          "base_uri": "https://localhost:8080/",
          "height": 312
        },
        "id": "tRMvvSbCK1Bw",
        "outputId": "3057f52e-a5a7-4169-9403-a92984e1d0a8"
      },
      "execution_count": null,
      "outputs": [
        {
          "output_type": "execute_result",
          "data": {
            "text/plain": [
              "[<matplotlib.lines.Line2D at 0x7ff2a0f66ed0>]"
            ]
          },
          "metadata": {},
          "execution_count": 12
        },
        {
          "output_type": "display_data",
          "data": {
            "text/plain": [
              "<Figure size 432x288 with 1 Axes>"
            ],
            "image/png": "[encoded data removed]"
          },
          "metadata": {
            "needs_background": "light"
          }
        }
      ]
    },
    {
      "cell_type": "markdown",
      "metadata": {
        "id": "gnEFLVWm2cRR"
      },
      "source": [
        "## Task - 4\n",
        "Fit a Multiple Linear Regression hyperplane into this data. We are interested to predict total amount out of trip distance, tavel time. **(4 points)**\n",
        "Use the **Scikit-learn** library.\n",
        "\n",
        "* Provide the Regression Cofficients of your model\n",
        "* Write down your Multiple Linear Regression equation. \n",
        "* Use your model to predict the total amount for a 3 miles trip and 6 min travel time. \n",
        "\n",
        "A visualization of the model is not required, but it would be nice to have and good practice."
      ]
    },
    {
      "cell_type": "code",
      "execution_count": null,
      "metadata": {
        "id": "DMnxKwAs2cRS",
        "colab": {
          "base_uri": "https://localhost:8080/"
        },
        "outputId": "62822aa9-7f15-4f6b-9cbd-fa5f0c0b0ffc"
      },
      "outputs": [
        {
          "output_type": "stream",
          "name": "stdout",
          "text": [
            "coef: [2.43066945 0.00554518]\n",
            "int: 3.0681673766396056\n",
            "Total amount for 3 mile trip, 6 min travel time: 10.393446830886418\n"
          ]
        }
      ],
      "source": [
        "# Your code here\n",
        "trip_distance = df['trip distance']\n",
        "travel_time = df['trip time in secs']\n",
        "total_amount = df['total amount']\n",
        "X = np.vstack((trip_distance, travel_time)).T\n",
        "\n",
        "\n",
        "# fit line into data\n",
        "reg = LinearRegression().fit(X, total_amount)\n",
        "\n",
        "# print m and b\n",
        "print('coef:', reg.coef_)\n",
        "print('int:', reg.intercept_)\n",
        "\n",
        "# equation is y = 2.431x1 + .006x2 + 3.068\n",
        "# predict price of 3 mile trip, 6 min travel time\n",
        "total = (reg.coef_[0] * 3) + (reg.coef_[1] * 6) + reg.intercept_\n",
        "print('Total amount for 3 mile trip, 6 min travel time:', total)"
      ]
    },
    {
      "cell_type": "markdown",
      "metadata": {
        "id": "e8kxR1Jo2cRU"
      },
      "source": [
        "## Task - 5 - Gradient Descent\n",
        "Implement the gradient descent optimization to find the optimal parameters for our Simple Linear Regression model of task 3. **(6 points)**\n",
        "\n",
        "* Define and set your learning rate (start with a very small number and increase it if your GC works)\n",
        "* Instantiate all coefficients from zero\n",
        "* Run maximum 400 interations. You can stop if your cost converge with a precision of 0.01 \n",
        "* Print and visualize the optimization costs\n",
        "* Provide the Regression Coefficients of your model after stop or convergance. \n",
        "\n",
        "Please note that a visualization **is** required, unlike in Task 3 and 4."
      ]
    },
    {
      "cell_type": "code",
      "source": [],
      "metadata": {
        "id": "ol-iIUJTq1Qr"
      },
      "execution_count": null,
      "outputs": []
    },
    {
      "cell_type": "code",
      "source": [],
      "metadata": {
        "id": "kSKLWpJsq1Jn"
      },
      "execution_count": null,
      "outputs": []
    },
    {
      "cell_type": "code",
      "source": [
        "# delcare x and y\n",
        "x = df['trip distance']\n",
        "y = df['fare amount']\n",
        "\n",
        "###### fig = plt.figure()\n",
        "fig=plt.figure(figsize=(10,6), dpi= 100, facecolor='w', edgecolor='k')\n",
        "\n",
        "# first subfigure \n",
        "ax1=plt.subplot(1, 2, 1)\n",
        "\n",
        "ax1.set_xlim(left = np.min(x), right=np.max(x))\n",
        "ax1.set_ylim(bottom = np.min(y), top=np.max(y))\n",
        "\n",
        "ax1.plot(x, y, 'o', markersize=2)\n",
        "\n",
        "# second sub-figure \n",
        "plt.subplot(1, 2, 2)\n",
        "ax2 = plt.subplot(1, 2, 2)\n",
        "\n",
        "plt.tight_layout(pad=4.0)"
      ],
      "metadata": {
        "colab": {
          "base_uri": "https://localhost:8080/",
          "height": 562
        },
        "id": "eA-x4rOYiPSr",
        "outputId": "929a424b-dc64-48f1-98de-62edb45d3e6d"
      },
      "execution_count": null,
      "outputs": [
        {
          "output_type": "stream",
          "name": "stderr",
          "text": [
            "/usr/local/lib/python3.7/dist-packages/ipykernel_launcher.py:18: MatplotlibDeprecationWarning: Adding an axes using the same arguments as a previous axes currently reuses the earlier instance.  In a future version, a new instance will always be created and returned.  Meanwhile, this warning can be suppressed, and the future behavior ensured, by passing a unique label to each axes instance.\n"
          ]
        },
        {
          "output_type": "display_data",
          "data": {
            "text/plain": [
              "<Figure size 1000x600 with 2 Axes>"
            ],
            "image/png": "[encoded data removed]"
          },
          "metadata": {}
        }
      ]
    },
    {
      "cell_type": "code",
      "source": [
        "# building model\n",
        "m = 0\n",
        "b = 0\n",
        "\n",
        "learning = 0.0001\n",
        "iteration = 400\n",
        "\n",
        "precision = 0.01\n",
        "\n",
        "n = float(len(y))\n",
        "print('Sample size:', n)\n",
        "\n",
        "oldcost = 0\n",
        "xx, costHist = [], []\n",
        "y_pred = m*x + b\n",
        "initCost = (1/n) * sum((y_pred - y)**2)\n",
        "\n",
        "for i in range(iteration):\n",
        "  # calc prediction\n",
        "  y_pred = m*x + b\n",
        "\n",
        "  # compute cost\n",
        "  cost = (1/n) * sum((y_pred - y)**2)\n",
        "\n",
        "  # gradients\n",
        "  m_gradient = (1/n) * sum(x * (y_pred - y))\n",
        "  b_gradient = (1/n) * sum(y_pred - y)\n",
        "\n",
        "  # update m and b values\n",
        "  m = m - learning * m_gradient\n",
        "  b = b - learning * b_gradient\n",
        "\n",
        "  if (abs(cost - oldcost) <= precision):\n",
        "    print('Stopped at iteration', i)\n",
        "    break\n",
        "\n",
        "  oldcost = cost\n",
        "\n",
        "  # don't understand animation\n",
        "  # visualize\n",
        "  x_vals = np.array(ax1.get_xlim())\n",
        "  y_vals = m * x_vals  + b\n",
        "    \n",
        "  ax1.clear()\n",
        "  ax1.set_xlim(left = np.min(x), right=np.max(x))\n",
        "  ax1.set_ylim(bottom = np.min(y), top=np.max(y))\n",
        "  ax1.plot(x, y, 'o', markersize=2)\n",
        "  ax1.plot(x_vals, y_vals,  '-',  color='red', linewidth=2.0)\n",
        "\n",
        "  # update cost diagram\n",
        "  xx.append(i)\n",
        "  costHist.append(cost)    \n",
        "  ax2.plot(xx, costHist, color='blue')\n",
        "\n",
        "  fig.canvas.draw()\n",
        "\n",
        "  if(i % 100 ==0):\n",
        "        print(\"Iteration No.=\", i ,\" m = \", m, \" b=\", b, \" Cost=\", cost) \n",
        "\n",
        "print(\"m = \", m, \" b=\", b)\n"
      ],
      "metadata": {
        "colab": {
          "base_uri": "https://localhost:8080/"
        },
        "id": "frLFvYnUiO9R",
        "outputId": "92ff0ab6-9be2-4735-faf5-321995296eda"
      },
      "execution_count": null,
      "outputs": [
        {
          "output_type": "stream",
          "name": "stdout",
          "text": [
            "Sample size: 49484.0\n",
            "Iteration No.= 0  m =  0.006233762438565993  b= 0.0012700153382911648  Cost= 234.79670298480315\n",
            "Iteration No.= 100  m =  0.5752482169136481  b= 0.11838330572853549  Cost= 166.92486505913257\n",
            "Iteration No.= 200  m =  1.0488434077962232  b= 0.2181334473679734  Cost= 119.81737128433024\n",
            "Iteration No.= 300  m =  1.4429553998431615  b= 0.30341049316044033  Cost= 87.11836661237032\n",
            "Iteration No.= 400  m =  1.7708590394327508  b= 0.37662191834487335  Cost= 64.41751799021279\n",
            "Iteration No.= 500  m =  2.043612359387738  b= 0.4397732074017987  Cost= 48.654491432825026\n",
            "Iteration No.= 600  m =  2.2704267713118877  b= 0.4945349835128089  Cost= 37.7057182512952\n",
            "Iteration No.= 700  m =  2.4589754384044666  b= 0.5422989278722283  Cost= 30.09765185202793\n",
            "Iteration No.= 800  m =  2.6156501521789517  b= 0.5842243608669597  Cost= 24.80779643089928\n",
            "Iteration No.= 900  m =  2.7457753125724733  b= 0.6212770445269914  Cost= 21.126640646139336\n",
            "Iteration No.= 1000  m =  2.8537861748787465  b= 0.6542615052397568  Cost= 18.561853298198596\n",
            "Iteration No.= 1100  m =  2.943377330694074  b= 0.6838479587988061  Cost= 16.77180464553922\n",
            "Iteration No.= 1200  m =  3.0176263935874115  b= 0.7105947391590655  Cost= 15.519436799520838\n",
            "Stopped at iteration 1213\n",
            "m =  3.0262907749419794  b= 0.7138884436089361\n"
          ]
        }
      ]
    },
    {
      "cell_type": "code",
      "source": [
        "# show line from gradient \n",
        "fig = plt.figure()\n",
        "plt.title('correlation between trip distance and fare amount')\n",
        "plt.xlabel('trip distance')\n",
        "plt.ylabel('fare amount')\n",
        "plt.scatter(x, y, c='blue', alpha=.7, label=\"Fare Amount\")\n",
        "line = m*x + b\n",
        "plt.plot(trip_distance, line, c='red', alpha=.7, label=\"Prediction of Fare\")"
      ],
      "metadata": {
        "colab": {
          "base_uri": "https://localhost:8080/",
          "height": 312
        },
        "id": "-Md-GOLJvCn1",
        "outputId": "1dcb9349-399d-4237-cf6a-4999ce0e76f6"
      },
      "execution_count": null,
      "outputs": [
        {
          "output_type": "execute_result",
          "data": {
            "text/plain": [
              "[<matplotlib.lines.Line2D at 0x7ff2a0121850>]"
            ]
          },
          "metadata": {},
          "execution_count": 20
        },
        {
          "output_type": "display_data",
          "data": {
            "text/plain": [
              "<Figure size 432x288 with 1 Axes>"
            ],
            "image/png": "[encoded data removed]"
          },
          "metadata": {
            "needs_background": "light"
          }
        }
      ]
    }
  ],
  "metadata": {
    "kernelspec": {
      "display_name": "Python 3 (ipykernel)",
      "language": "python",
      "name": "python3"
    },
    "language_info": {
      "codemirror_mode": {
        "name": "ipython",
        "version": 3
      },
      "file_extension": ".py",
      "mimetype": "text/x-python",
      "name": "python",
      "nbconvert_exporter": "python",
      "pygments_lexer": "ipython3",
      "version": "3.9.7"
    },
    "colab": {
      "provenance": []
    }
  },
  "nbformat": 4,
  "nbformat_minor": 0
}