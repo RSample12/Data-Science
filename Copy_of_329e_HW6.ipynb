{
  "cells": [
    {
      "cell_type": "markdown",
      "metadata": {
        "id": "view-in-github",
        "colab_type": "text"
      },
      "source": [
        "<a href=\"https://colab.research.google.com/github/RSample12/Data-Science/blob/main/Copy_of_329e_HW6.ipynb\" target=\"_parent\"><img src=\"https://colab.research.google.com/assets/colab-badge.svg\" alt=\"Open In Colab\"/></a>"
      ]
    },
    {
      "cell_type": "markdown",
      "metadata": {
        "id": "omZ3gCy2qIlx"
      },
      "source": [
        "# Homework 6\n",
        "\n",
        "## Your Name Here (or your names here if you are pair programming)\n",
        "Riley Sample\n",
        "rcs3396\n",
        "\n",
        "## Logistic Regression without using any libraries."
      ]
    },
    {
      "cell_type": "code",
      "execution_count": null,
      "metadata": {
        "id": "YZG4CjczqIl2"
      },
      "outputs": [],
      "source": [
        "# Standard Headers\n",
        "# You are welcome to add additional headers here if you wish\n",
        "import pandas as pd\n",
        "import numpy as np\n",
        "import matplotlib.pyplot as plt\n",
        "\n",
        "# Enable inline mode for matplotlib so that Jupyter displays graphs\n",
        "%matplotlib inline"
      ]
    },
    {
      "cell_type": "markdown",
      "metadata": {
        "id": "dP16mnEEqIl4"
      },
      "source": [
        "# Your allowed to use only the above libraries that are imported. No other libs should be used in this assignment."
      ]
    },
    {
      "cell_type": "markdown",
      "metadata": {
        "id": "V2ioQ3IZqIl5"
      },
      "source": [
        "## Heart Dataset\n",
        "\n",
        "In this Assignment we will work with some patients dataset.\n",
        "\n",
        "We have access to 303 patients data. The features are listed below."
      ]
    },
    {
      "cell_type": "code",
      "execution_count": null,
      "metadata": {
        "colab": {
          "base_uri": "https://localhost:8080/",
          "height": 424
        },
        "id": "C-w7e6pcqIl9",
        "outputId": "08c41e8b-c6f3-4705-c735-318fb0c4994b"
      },
      "outputs": [
        {
          "output_type": "execute_result",
          "data": {
            "text/plain": [
              "     Age  Sex     ChestPain  RestBP  Chol  Fbs  RestECG  MaxHR  ExAng  \\\n",
              "0     63    1       typical     145   233    1        2    150      0   \n",
              "1     67    1  asymptomatic     160   286    0        2    108      1   \n",
              "2     67    1  asymptomatic     120   229    0        2    129      1   \n",
              "3     37    1    nonanginal     130   250    0        0    187      0   \n",
              "4     41    0    nontypical     130   204    0        2    172      0   \n",
              "..   ...  ...           ...     ...   ...  ...      ...    ...    ...   \n",
              "298   45    1       typical     110   264    0        0    132      0   \n",
              "299   68    1  asymptomatic     144   193    1        0    141      0   \n",
              "300   57    1  asymptomatic     130   131    0        0    115      1   \n",
              "301   57    0    nontypical     130   236    0        2    174      0   \n",
              "302   38    1    nonanginal     138   175    0        0    173      0   \n",
              "\n",
              "     Oldpeak  Slope   Ca        Thal Target  \n",
              "0        2.3      3  0.0       fixed     No  \n",
              "1        1.5      2  3.0      normal    Yes  \n",
              "2        2.6      2  2.0  reversable    Yes  \n",
              "3        3.5      3  0.0      normal     No  \n",
              "4        1.4      1  0.0      normal     No  \n",
              "..       ...    ...  ...         ...    ...  \n",
              "298      1.2      2  0.0  reversable    Yes  \n",
              "299      3.4      2  2.0  reversable    Yes  \n",
              "300      1.2      2  1.0  reversable    Yes  \n",
              "301      0.0      2  1.0      normal    Yes  \n",
              "302      0.0      1  NaN      normal     No  \n",
              "\n",
              "[303 rows x 14 columns]"
            ],
            "text/html": [
              "\n",
              "  <div id=\"df-73ca443f-cf97-4c48-a15c-0ac2929175e2\">\n",
              "    <div class=\"colab-df-container\">\n",
              "      <div>\n",
              "<style scoped>\n",
              "    .dataframe tbody tr th:only-of-type {\n",
              "        vertical-align: middle;\n",
              "    }\n",
              "\n",
              "    .dataframe tbody tr th {\n",
              "        vertical-align: top;\n",
              "    }\n",
              "\n",
              "    .dataframe thead th {\n",
              "        text-align: right;\n",
              "    }\n",
              "</style>\n",
              "<table border=\"1\" class=\"dataframe\">\n",
              "  <thead>\n",
              "    <tr style=\"text-align: right;\">\n",
              "      <th></th>\n",
              "      <th>Age</th>\n",
              "      <th>Sex</th>\n",
              "      <th>ChestPain</th>\n",
              "      <th>RestBP</th>\n",
              "      <th>Chol</th>\n",
              "      <th>Fbs</th>\n",
              "      <th>RestECG</th>\n",
              "      <th>MaxHR</th>\n",
              "      <th>ExAng</th>\n",
              "      <th>Oldpeak</th>\n",
              "      <th>Slope</th>\n",
              "      <th>Ca</th>\n",
              "      <th>Thal</th>\n",
              "      <th>Target</th>\n",
              "    </tr>\n",
              "  </thead>\n",
              "  <tbody>\n",
              "    <tr>\n",
              "      <th>0</th>\n",
              "      <td>63</td>\n",
              "      <td>1</td>\n",
              "      <td>typical</td>\n",
              "      <td>145</td>\n",
              "      <td>233</td>\n",
              "      <td>1</td>\n",
              "      <td>2</td>\n",
              "      <td>150</td>\n",
              "      <td>0</td>\n",
              "      <td>2.3</td>\n",
              "      <td>3</td>\n",
              "      <td>0.0</td>\n",
              "      <td>fixed</td>\n",
              "      <td>No</td>\n",
              "    </tr>\n",
              "    <tr>\n",
              "      <th>1</th>\n",
              "      <td>67</td>\n",
              "      <td>1</td>\n",
              "      <td>asymptomatic</td>\n",
              "      <td>160</td>\n",
              "      <td>286</td>\n",
              "      <td>0</td>\n",
              "      <td>2</td>\n",
              "      <td>108</td>\n",
              "      <td>1</td>\n",
              "      <td>1.5</td>\n",
              "      <td>2</td>\n",
              "      <td>3.0</td>\n",
              "      <td>normal</td>\n",
              "      <td>Yes</td>\n",
              "    </tr>\n",
              "    <tr>\n",
              "      <th>2</th>\n",
              "      <td>67</td>\n",
              "      <td>1</td>\n",
              "      <td>asymptomatic</td>\n",
              "      <td>120</td>\n",
              "      <td>229</td>\n",
              "      <td>0</td>\n",
              "      <td>2</td>\n",
              "      <td>129</td>\n",
              "      <td>1</td>\n",
              "      <td>2.6</td>\n",
              "      <td>2</td>\n",
              "      <td>2.0</td>\n",
              "      <td>reversable</td>\n",
              "      <td>Yes</td>\n",
              "    </tr>\n",
              "    <tr>\n",
              "      <th>3</th>\n",
              "      <td>37</td>\n",
              "      <td>1</td>\n",
              "      <td>nonanginal</td>\n",
              "      <td>130</td>\n",
              "      <td>250</td>\n",
              "      <td>0</td>\n",
              "      <td>0</td>\n",
              "      <td>187</td>\n",
              "      <td>0</td>\n",
              "      <td>3.5</td>\n",
              "      <td>3</td>\n",
              "      <td>0.0</td>\n",
              "      <td>normal</td>\n",
              "      <td>No</td>\n",
              "    </tr>\n",
              "    <tr>\n",
              "      <th>4</th>\n",
              "      <td>41</td>\n",
              "      <td>0</td>\n",
              "      <td>nontypical</td>\n",
              "      <td>130</td>\n",
              "      <td>204</td>\n",
              "      <td>0</td>\n",
              "      <td>2</td>\n",
              "      <td>172</td>\n",
              "      <td>0</td>\n",
              "      <td>1.4</td>\n",
              "      <td>1</td>\n",
              "      <td>0.0</td>\n",
              "      <td>normal</td>\n",
              "      <td>No</td>\n",
              "    </tr>\n",
              "    <tr>\n",
              "      <th>...</th>\n",
              "      <td>...</td>\n",
              "      <td>...</td>\n",
              "      <td>...</td>\n",
              "      <td>...</td>\n",
              "      <td>...</td>\n",
              "      <td>...</td>\n",
              "      <td>...</td>\n",
              "      <td>...</td>\n",
              "      <td>...</td>\n",
              "      <td>...</td>\n",
              "      <td>...</td>\n",
              "      <td>...</td>\n",
              "      <td>...</td>\n",
              "      <td>...</td>\n",
              "    </tr>\n",
              "    <tr>\n",
              "      <th>298</th>\n",
              "      <td>45</td>\n",
              "      <td>1</td>\n",
              "      <td>typical</td>\n",
              "      <td>110</td>\n",
              "      <td>264</td>\n",
              "      <td>0</td>\n",
              "      <td>0</td>\n",
              "      <td>132</td>\n",
              "      <td>0</td>\n",
              "      <td>1.2</td>\n",
              "      <td>2</td>\n",
              "      <td>0.0</td>\n",
              "      <td>reversable</td>\n",
              "      <td>Yes</td>\n",
              "    </tr>\n",
              "    <tr>\n",
              "      <th>299</th>\n",
              "      <td>68</td>\n",
              "      <td>1</td>\n",
              "      <td>asymptomatic</td>\n",
              "      <td>144</td>\n",
              "      <td>193</td>\n",
              "      <td>1</td>\n",
              "      <td>0</td>\n",
              "      <td>141</td>\n",
              "      <td>0</td>\n",
              "      <td>3.4</td>\n",
              "      <td>2</td>\n",
              "      <td>2.0</td>\n",
              "      <td>reversable</td>\n",
              "      <td>Yes</td>\n",
              "    </tr>\n",
              "    <tr>\n",
              "      <th>300</th>\n",
              "      <td>57</td>\n",
              "      <td>1</td>\n",
              "      <td>asymptomatic</td>\n",
              "      <td>130</td>\n",
              "      <td>131</td>\n",
              "      <td>0</td>\n",
              "      <td>0</td>\n",
              "      <td>115</td>\n",
              "      <td>1</td>\n",
              "      <td>1.2</td>\n",
              "      <td>2</td>\n",
              "      <td>1.0</td>\n",
              "      <td>reversable</td>\n",
              "      <td>Yes</td>\n",
              "    </tr>\n",
              "    <tr>\n",
              "      <th>301</th>\n",
              "      <td>57</td>\n",
              "      <td>0</td>\n",
              "      <td>nontypical</td>\n",
              "      <td>130</td>\n",
              "      <td>236</td>\n",
              "      <td>0</td>\n",
              "      <td>2</td>\n",
              "      <td>174</td>\n",
              "      <td>0</td>\n",
              "      <td>0.0</td>\n",
              "      <td>2</td>\n",
              "      <td>1.0</td>\n",
              "      <td>normal</td>\n",
              "      <td>Yes</td>\n",
              "    </tr>\n",
              "    <tr>\n",
              "      <th>302</th>\n",
              "      <td>38</td>\n",
              "      <td>1</td>\n",
              "      <td>nonanginal</td>\n",
              "      <td>138</td>\n",
              "      <td>175</td>\n",
              "      <td>0</td>\n",
              "      <td>0</td>\n",
              "      <td>173</td>\n",
              "      <td>0</td>\n",
              "      <td>0.0</td>\n",
              "      <td>1</td>\n",
              "      <td>NaN</td>\n",
              "      <td>normal</td>\n",
              "      <td>No</td>\n",
              "    </tr>\n",
              "  </tbody>\n",
              "</table>\n",
              "<p>303 rows × 14 columns</p>\n",
              "</div>\n",
              "      <button class=\"colab-df-convert\" onclick=\"convertToInteractive('df-73ca443f-cf97-4c48-a15c-0ac2929175e2')\"\n",
              "              title=\"Convert this dataframe to an interactive table.\"\n",
              "              style=\"display:none;\">\n",
              "        \n",
              "  <svg xmlns=\"http://www.w3.org/2000/svg\" height=\"24px\"viewBox=\"0 0 24 24\"\n",
              "       width=\"24px\">\n",
              "    <path d=\"M0 0h24v24H0V0z\" fill=\"none\"/>\n",
              "    <path d=\"M18.56 5.44l.94 2.06.94-2.06 2.06-.94-2.06-.94-.94-2.06-.94 2.06-2.06.94zm-11 1L8.5 8.5l.94-2.06 2.06-.94-2.06-.94L8.5 2.5l-.94 2.06-2.06.94zm10 10l.94 2.06.94-2.06 2.06-.94-2.06-.94-.94-2.06-.94 2.06-2.06.94z\"/><path d=\"M17.41 7.96l-1.37-1.37c-.4-.4-.92-.59-1.43-.59-.52 0-1.04.2-1.43.59L10.3 9.45l-7.72 7.72c-.78.78-.78 2.05 0 2.83L4 21.41c.39.39.9.59 1.41.59.51 0 1.02-.2 1.41-.59l7.78-7.78 2.81-2.81c.8-.78.8-2.07 0-2.86zM5.41 20L4 18.59l7.72-7.72 1.47 1.35L5.41 20z\"/>\n",
              "  </svg>\n",
              "      </button>\n",
              "      \n",
              "  <style>\n",
              "    .colab-df-container {\n",
              "      display:flex;\n",
              "      flex-wrap:wrap;\n",
              "      gap: 12px;\n",
              "    }\n",
              "\n",
              "    .colab-df-convert {\n",
              "      background-color: #E8F0FE;\n",
              "      border: none;\n",
              "      border-radius: 50%;\n",
              "      cursor: pointer;\n",
              "      display: none;\n",
              "      fill: #1967D2;\n",
              "      height: 32px;\n",
              "      padding: 0 0 0 0;\n",
              "      width: 32px;\n",
              "    }\n",
              "\n",
              "    .colab-df-convert:hover {\n",
              "      background-color: #E2EBFA;\n",
              "      box-shadow: 0px 1px 2px rgba(60, 64, 67, 0.3), 0px 1px 3px 1px rgba(60, 64, 67, 0.15);\n",
              "      fill: #174EA6;\n",
              "    }\n",
              "\n",
              "    [theme=dark] .colab-df-convert {\n",
              "      background-color: #3B4455;\n",
              "      fill: #D2E3FC;\n",
              "    }\n",
              "\n",
              "    [theme=dark] .colab-df-convert:hover {\n",
              "      background-color: #434B5C;\n",
              "      box-shadow: 0px 1px 3px 1px rgba(0, 0, 0, 0.15);\n",
              "      filter: drop-shadow(0px 1px 2px rgba(0, 0, 0, 0.3));\n",
              "      fill: #FFFFFF;\n",
              "    }\n",
              "  </style>\n",
              "\n",
              "      <script>\n",
              "        const buttonEl =\n",
              "          document.querySelector('#df-73ca443f-cf97-4c48-a15c-0ac2929175e2 button.colab-df-convert');\n",
              "        buttonEl.style.display =\n",
              "          google.colab.kernel.accessAllowed ? 'block' : 'none';\n",
              "\n",
              "        async function convertToInteractive(key) {\n",
              "          const element = document.querySelector('#df-73ca443f-cf97-4c48-a15c-0ac2929175e2');\n",
              "          const dataTable =\n",
              "            await google.colab.kernel.invokeFunction('convertToInteractive',\n",
              "                                                     [key], {});\n",
              "          if (!dataTable) return;\n",
              "\n",
              "          const docLinkHtml = 'Like what you see? Visit the ' +\n",
              "            '<a target=\"_blank\" href=https://colab.research.google.com/notebooks/data_table.ipynb>data table notebook</a>'\n",
              "            + ' to learn more about interactive tables.';\n",
              "          element.innerHTML = '';\n",
              "          dataTable['output_type'] = 'display_data';\n",
              "          await google.colab.output.renderOutput(dataTable, element);\n",
              "          const docLink = document.createElement('div');\n",
              "          docLink.innerHTML = docLinkHtml;\n",
              "          element.appendChild(docLink);\n",
              "        }\n",
              "      </script>\n",
              "    </div>\n",
              "  </div>\n",
              "  "
            ]
          },
          "metadata": {},
          "execution_count": 473
        }
      ],
      "source": [
        "# Your code here\n",
        "heart_df = pd.read_csv(\"Heart.csv\")\n",
        "heart_df"
      ]
    },
    {
      "cell_type": "markdown",
      "metadata": {
        "id": "NPADr_6mqImA"
      },
      "source": [
        "**Age:** The person’s age in years\n",
        "\n",
        "**Sex:** The person’s sex (1 = male, 0 = female)\n",
        "\n",
        "**ChestPain:** chest pain type\n",
        "\n",
        "* Value 0: asymptomatic\n",
        "* Value 1: atypical angina\n",
        "* Value 2: non-anginal pain\n",
        "* Value 3: typical angina\n",
        "\n",
        "**RestBP:** The person’s resting blood pressure (mm Hg on admission to the hospital)\n",
        "\n",
        "**Chol:** The person’s cholesterol measurement in mg/dl\n",
        "\n",
        "**Fbs:** The person’s fasting blood sugar (> 120 mg/dl, 1 = true; 0 = false)\n",
        "restecg: resting electrocardiographic results\n",
        "\n",
        "* Value 0: showing probable or definite left ventricular hypertrophy by Estes’ criteria\n",
        "* Value 1: normal\n",
        "* Value 2: having ST-T wave abnormality (T wave inversions and/or ST elevation or depression of > 0.05 mV)\n",
        "\n",
        "**RestECG:** The person’s maximum heart rate achieved\n",
        "\n",
        "**MaxHR:** Exercise induced angina (1 = yes; 0 = no)\n",
        "\n",
        "**Oldpeak:** ST depression induced by exercise relative to rest (‘ST’ relates to positions on the ECG plot. See more here)\n",
        "\n",
        "**Slope:** the slope of the peak exercise ST segment — 0: downsloping; 1: flat; 2: upsloping\n",
        "\n",
        "* 0: downsloping;\n",
        "* 1: flat;\n",
        "* 2: upsloping\n",
        "\n",
        "**Ca:** The number of major vessels (0–3)\n",
        "\n",
        "**Thal:** A blood disorder called thalassemia Value 0: NULL (dropped from the dataset previously\n",
        "\n",
        "* Value 1: fixed defect (no blood flow in some part of the heart)\n",
        "* Value 2: normal blood flow\n",
        "* Value 3: reversible defect (a blood flow is observed but it is not normal)\n",
        "\n",
        "**Target:** Heart disease (1 = no, 0= yes)"
      ]
    },
    {
      "cell_type": "markdown",
      "metadata": {
        "id": "girSfRZvqImB"
      },
      "source": [
        "# Task - 1 (4 points)\n",
        "We want to use logistic regerssion to perdict if the patients will have heart problems or not. The column \"Target\" in our datasets includes data about heart diseases. If the patient had heart disease we have a 1 and if not a zero.\n",
        "\n",
        "Prepare your data set for predicting heart disease (\"Target\" column) out of 3 features:\n",
        "\n",
        "* Age of the patient (Column **\"Age\"**)\n",
        "* Gender of the patient (male or female - Column **\"Sex\"**)\n",
        "* Cholestrol level of the patient (Column **\"Chol\"**)\n",
        "\n",
        "\n",
        "Split your data into 80% traning data and 20% test data, and implement logistic regression model ***without*** using any libs than imported above. You must do it manually.\n",
        "\n",
        "* Do maximum **100 iterations**\n",
        "* Use a very small learning rate for checking your GD implementation.\n",
        "* Your are allowed to use your choice of learning rate, like using 0.0001, 0.001 or 0.01 or 0.1 or higher/lower.\n",
        "* Visualize your costs.\n",
        "* No need to add an y-intercept in this task.\n"
      ]
    },
    {
      "cell_type": "code",
      "source": [
        "# x and y\n",
        "y = heart_df['Target']\n",
        "y = y.replace(to_replace=\"No\", value=1)\n",
        "y = y.replace(to_replace=\"Yes\", value=0)\n",
        "\n",
        "x = heart_df[['Age', 'Sex', 'Chol']]"
      ],
      "metadata": {
        "id": "p3Z_f5XjsLZ9"
      },
      "execution_count": null,
      "outputs": []
    },
    {
      "cell_type": "code",
      "execution_count": null,
      "metadata": {
        "id": "fvgp_EgHqImC"
      },
      "outputs": [],
      "source": [
        "# Add your code Here!\n",
        "from sklearn.model_selection import train_test_split\n",
        "\n",
        "X_train, X_test, y_train, y_test = train_test_split(x, y, test_size=0.2, random_state=123)"
      ]
    },
    {
      "cell_type": "code",
      "source": [
        "def sigmoid(z):\n",
        "    \"\"\"\n",
        "    To convert continuous value into a range of 0 to 1\n",
        "\n",
        "    I/P\n",
        "    ----------\n",
        "    z : Continuous value\n",
        "\n",
        "    O/P\n",
        "    -------\n",
        "    Value in range between 0 to 1.\n",
        "    \"\"\"\n",
        "    g = 1 / (1 + np.exp(-z))\n",
        "    return g"
      ],
      "metadata": {
        "id": "bvenZyqCsbwT"
      },
      "execution_count": null,
      "outputs": []
    },
    {
      "cell_type": "code",
      "source": [
        "def cost_function(X, y, weights):\n",
        "    \"\"\"\n",
        "    Compute cost for logistic regression.\n",
        "\n",
        "    I/P\n",
        "    ----------\n",
        "    X : 2D array where each row represent the training example and each column represent the feature ndarray.\n",
        "        Dimension (n x d)\n",
        "        n = number of training examples\n",
        "        d = number of features (including X_0 column of ones)\n",
        "    y : 1D array of labels/target value for each traing example. dimension(1 x n)\n",
        "\n",
        "    weights : 1D array of fitting parameters or weights. Dimension (1 x d)\n",
        "\n",
        "    O/P\n",
        "    -------\n",
        "    cost : The cost of using theta as the parameter for linear regression to fit the data points in X and y.\n",
        "    \"\"\"\n",
        "    n, d = X.shape\n",
        "    x_dot_weights = X.dot(weights)\n",
        "\n",
        "    cost = 1.0 / n * (-y.T.dot(np.log(sigmoid(x_dot_weights))) - (1 - y).T.dot(np.log(1 - sigmoid(x_dot_weights))))\n",
        "\n",
        "    return cost"
      ],
      "metadata": {
        "id": "L9AJpthJsfIx"
      },
      "execution_count": null,
      "outputs": []
    },
    {
      "cell_type": "code",
      "source": [
        "def gradient(X, y, weights):\n",
        "    \"\"\"\n",
        "    Compute gradient for logistic regression.\n",
        "\n",
        "    I/P\n",
        "    ----------\n",
        "    X : 2D array where each row represent the training example and each column represent the feature ndarray.\n",
        "    Dimension(m x n)\n",
        "        m = number of training examples\n",
        "        n = number of features (including X_0 column of ones)\n",
        "    y : 1D array of labels/target value for each traing example. dimension(1 x m)\n",
        "\n",
        "    weights : 1D array of fitting parameters or weights. Dimension (1 x n)\n",
        "\n",
        "    O/P\n",
        "    -------\n",
        "    grad: (numpy array)The gradient of the cost with respect to the parameters theta\n",
        "    \"\"\"\n",
        "    l = 1\n",
        "    n, d = X.shape\n",
        "    x_dot_weights = X.dot(weights)\n",
        "\n",
        "    grad = (1.0 / n )* (sigmoid(x_dot_weights) - y).T.dot(X) + (l*weights)\n",
        "    return grad"
      ],
      "metadata": {
        "id": "zMGtfwuNsg05"
      },
      "execution_count": null,
      "outputs": []
    },
    {
      "cell_type": "code",
      "source": [
        "weights = np.zeros(3)\n",
        "\n",
        "\n",
        "cost = cost_function(X_train, y_train, weights)\n",
        "grad = gradient(X_train, y_train, weights)\n",
        "\n",
        "print(cost)\n",
        "print(grad)"
      ],
      "metadata": {
        "colab": {
          "base_uri": "https://localhost:8080/"
        },
        "id": "y45KdUXUsguQ",
        "outputId": "c660ee88-7fd6-40a5-9947-5767c690c9e5"
      },
      "execution_count": null,
      "outputs": [
        {
          "output_type": "stream",
          "name": "stdout",
          "text": [
            "0.6931471805599453\n",
            "Age    -1.090909\n",
            "Sex     0.028926\n",
            "Chol   -7.173554\n",
            "dtype: float64\n"
          ]
        }
      ]
    },
    {
      "cell_type": "code",
      "source": [
        "weights = np.zeros(3)\n",
        "\n",
        "\n",
        "# Now we optimize it using Gradient Descent.\n",
        "num_iterations = 100\n",
        "learnin_rate = 0.0001\n",
        "\n",
        "cost_list = []\n",
        "\n",
        "\n",
        "# Implementation here is removed.\n",
        "\n",
        "# Your task to implement the GD here.\n",
        "\n",
        "for i in range(0, num_iterations):\n",
        "\n",
        "    #\n",
        "    # Calculate the costs\n",
        "    cost = cost_function(X_train, y_train, weights)\n",
        "\n",
        "    print(\"Cost is: \", cost)\n",
        "    # keep the costs for our visualization later\n",
        "\n",
        "    cost_list.append(cost)\n",
        "\n",
        "    # Calculate the gradients [CODE REMOVED]\n",
        "    g = gradient(X_train, y_train, weights)\n",
        "\n",
        "    # Use the gradient to update the weights [CODE REMOVED]\n",
        "    weights = weights - (learnin_rate * g)"
      ],
      "metadata": {
        "colab": {
          "base_uri": "https://localhost:8080/"
        },
        "id": "5iZhNaU_sgmj",
        "outputId": "b5424739-b550-4a64-fe45-1e070b21bcdf"
      },
      "execution_count": null,
      "outputs": [
        {
          "output_type": "stream",
          "name": "stdout",
          "text": [
            "Cost is:  0.6931471805599453\n",
            "Cost is:  0.6922320001357711\n",
            "Cost is:  0.6918202996366462\n",
            "Cost is:  0.6916380350269508\n",
            "Cost is:  0.6915492909505204\n",
            "Cost is:  0.6915016926807865\n",
            "Cost is:  0.6914715747234784\n",
            "Cost is:  0.6914490231918266\n",
            "Cost is:  0.6914298300992135\n",
            "Cost is:  0.6914121173415617\n",
            "Cost is:  0.6913951427763126\n",
            "Cost is:  0.6913785426153755\n",
            "Cost is:  0.6913621910819465\n",
            "Cost is:  0.6913460132682954\n",
            "Cost is:  0.6913299898996448\n",
            "Cost is:  0.6913141032830481\n",
            "Cost is:  0.6912983510012679\n",
            "Cost is:  0.6912827276272283\n",
            "Cost is:  0.6912672327058621\n",
            "Cost is:  0.6912518638224908\n",
            "Cost is:  0.691236620406935\n",
            "Cost is:  0.6912215009312439\n",
            "Cost is:  0.6912065046088356\n",
            "Cost is:  0.6911916302253566\n",
            "Cost is:  0.6911768768788165\n",
            "Cost is:  0.6911622434847787\n",
            "Cost is:  0.6911477290954139\n",
            "Cost is:  0.6911333326887596\n",
            "Cost is:  0.6911190533056238\n",
            "Cost is:  0.691104889959576\n",
            "Cost is:  0.691090841695554\n",
            "Cost is:  0.6910769075513586\n",
            "Cost is:  0.6910630865826982\n",
            "Cost is:  0.6910493778466893\n",
            "Cost is:  0.691035780412534\n",
            "Cost is:  0.691022293354428\n",
            "Cost is:  0.6910089157560902\n",
            "Cost is:  0.6909956467076955\n",
            "Cost is:  0.6909824853077755\n",
            "Cost is:  0.6909694306618721\n",
            "Cost is:  0.6909564818833136\n",
            "Cost is:  0.6909436380926058\n",
            "Cost is:  0.6909308984177298\n",
            "Cost is:  0.6909182619938445\n",
            "Cost is:  0.6909057279633827\n",
            "Cost is:  0.6908932954758894\n",
            "Cost is:  0.6908809636880284\n",
            "Cost is:  0.6908687317634815\n",
            "Cost is:  0.6908565988729176\n",
            "Cost is:  0.6908445641939163\n",
            "Cost is:  0.6908326269109232\n",
            "Cost is:  0.6908207862151853\n",
            "Cost is:  0.690809041304699\n",
            "Cost is:  0.6907973913841517\n",
            "Cost is:  0.6907858356648678\n",
            "Cost is:  0.6907743733647521\n",
            "Cost is:  0.6907630037082368\n",
            "Cost is:  0.6907517259262264\n",
            "Cost is:  0.6907405392560442\n",
            "Cost is:  0.6907294429413791\n",
            "Cost is:  0.6907184362322324\n",
            "Cost is:  0.6907075183848659\n",
            "Cost is:  0.6906966886617489\n",
            "Cost is:  0.6906859463315081\n",
            "Cost is:  0.6906752906688752\n",
            "Cost is:  0.6906647209546364\n",
            "Cost is:  0.6906542364755821\n",
            "Cost is:  0.6906438365244576\n",
            "Cost is:  0.6906335203999122\n",
            "Cost is:  0.6906232874064514\n",
            "Cost is:  0.6906131368543874\n",
            "Cost is:  0.690603068059791\n",
            "Cost is:  0.6905930803444436\n",
            "Cost is:  0.6905831730357894\n",
            "Cost is:  0.690573345466889\n",
            "Cost is:  0.6905635969763718\n",
            "Cost is:  0.6905539269083896\n",
            "Cost is:  0.6905443346125716\n",
            "Cost is:  0.6905348194439772\n",
            "Cost is:  0.6905253807630524\n",
            "Cost is:  0.6905160179355831\n",
            "Cost is:  0.6905067303326522\n",
            "Cost is:  0.690497517330594\n",
            "Cost is:  0.690488378310952\n",
            "Cost is:  0.690479312660434\n",
            "Cost is:  0.6904703197708696\n",
            "Cost is:  0.6904613990391673\n",
            "Cost is:  0.6904525498672723\n",
            "Cost is:  0.6904437716621246\n",
            "Cost is:  0.6904350638356164\n",
            "Cost is:  0.690426425804552\n",
            "Cost is:  0.690417856990606\n",
            "Cost is:  0.6904093568202827\n",
            "Cost is:  0.6904009247248759\n",
            "Cost is:  0.6903925601404286\n",
            "Cost is:  0.6903842625076941\n",
            "Cost is:  0.6903760312720953\n",
            "Cost is:  0.690367865883687\n",
            "Cost is:  0.6903597657971164\n",
            "Cost is:  0.6903517304715852\n"
          ]
        }
      ]
    },
    {
      "cell_type": "code",
      "source": [
        "weights"
      ],
      "metadata": {
        "colab": {
          "base_uri": "https://localhost:8080/"
        },
        "id": "P2iC5nNeyG2z",
        "outputId": "1cf30b07-6032-4a16-ac12-575bd5094d59"
      },
      "execution_count": null,
      "outputs": [
        {
          "output_type": "execute_result",
          "data": {
            "text/plain": [
              "Age    -0.003271\n",
              "Sex    -0.000456\n",
              "Chol    0.001141\n",
              "dtype: float64"
            ]
          },
          "metadata": {},
          "execution_count": 481
        }
      ]
    },
    {
      "cell_type": "code",
      "source": [
        "plt.plot(np.arange(num_iterations), cost_list)\n",
        "plt.show()"
      ],
      "metadata": {
        "id": "BwctgxaRstS9",
        "colab": {
          "base_uri": "https://localhost:8080/",
          "height": 265
        },
        "outputId": "f92879a3-ca38-48fc-f818-973da4c1bfb4"
      },
      "execution_count": null,
      "outputs": [
        {
          "output_type": "display_data",
          "data": {
            "text/plain": [
              "<Figure size 432x288 with 1 Axes>"
            ],
            "image/png": "[encoded data removed]"
          },
          "metadata": {
            "needs_background": "light"
          }
        }
      ]
    },
    {
      "cell_type": "markdown",
      "metadata": {
        "id": "Wsck8v_cqImD"
      },
      "source": [
        "# Task 2 - (4 points)\n",
        "\n",
        "Cacluate the accuracy, Precision, Recall and F1 score of your logistic regression implementaion.\n",
        "Print the results.\n",
        "\n",
        "You may use equations shown in lecture/slides/examples."
      ]
    },
    {
      "cell_type": "code",
      "source": [
        "def predict(weights, X):\n",
        "    \"\"\"\n",
        "    Predict the class between 0 and 1 using learned logistic regression parameters weights.\n",
        "    Using threshold value 0.5 to convert probability value to class value\n",
        "\n",
        "    I/P\n",
        "    ----------\n",
        "    X : 2D array where each row represent the training example and each column represent the feature ndarray.\n",
        "        Dimension(n x d)\n",
        "        n= number of training examples\n",
        "        d= number of features (including X_0 column of ones)\n",
        "\n",
        "    theta : 1D array of fitting parameters or weights. Dimension (1 x n)\n",
        "\n",
        "    O/P\n",
        "    -------\n",
        "    Class type based on threshold\n",
        "    \"\"\"\n",
        "    p = sigmoid(X.dot(weights)) >= 0.5\n",
        "    return p.astype(int)"
      ],
      "metadata": {
        "id": "giflDaMngfVx"
      },
      "execution_count": null,
      "outputs": []
    },
    {
      "cell_type": "code",
      "execution_count": null,
      "metadata": {
        "id": "G1PBBPfWqImD",
        "colab": {
          "base_uri": "https://localhost:8080/"
        },
        "outputId": "fd46d844-6ea0-47d2-de69-e1ae38574edc"
      },
      "outputs": [
        {
          "output_type": "stream",
          "name": "stdout",
          "text": [
            "              precision    recall  f1-score   support\n",
            "\n",
            "           0       0.50      0.04      0.07        28\n",
            "           1       0.54      0.97      0.70        33\n",
            "\n",
            "    accuracy                           0.54        61\n",
            "   macro avg       0.52      0.50      0.38        61\n",
            "weighted avg       0.52      0.54      0.41        61\n",
            "\n"
          ]
        }
      ],
      "source": [
        "# Add your code Here!\n",
        "from sklearn.metrics import classification_report\n",
        "pred = predict(weights, X_test)\n",
        "\n",
        "print(classification_report(y_test, pred))"
      ]
    },
    {
      "cell_type": "code",
      "source": [
        "# Correct Predictions are the cases that are equal.\n",
        "\n",
        "correct = np.sum(pred == y_test)\n",
        "\n",
        "\n",
        "print(\"Accuracy is: \", correct/y_test.size)"
      ],
      "metadata": {
        "colab": {
          "base_uri": "https://localhost:8080/"
        },
        "id": "V1pKkTFy_OPC",
        "outputId": "1d7c3347-fe48-481a-c1c4-352a16d083d3"
      },
      "execution_count": null,
      "outputs": [
        {
          "output_type": "stream",
          "name": "stdout",
          "text": [
            "Accuracy is:  0.5409836065573771\n"
          ]
        }
      ]
    },
    {
      "cell_type": "markdown",
      "metadata": {
        "id": "CVze_OquqImE"
      },
      "source": [
        "# Task 3 - (4 points)\n",
        "\n",
        "\n",
        "Add y-intercept and repeat the above 2 tasks. Do you see any differences after adding the y-intercept?\n"
      ]
    },
    {
      "cell_type": "code",
      "source": [
        "X_train['bias'] = 1"
      ],
      "metadata": {
        "id": "xp3hR54ow5hJ"
      },
      "execution_count": null,
      "outputs": []
    },
    {
      "cell_type": "code",
      "execution_count": null,
      "metadata": {
        "id": "vjiqjYkcqImE",
        "colab": {
          "base_uri": "https://localhost:8080/"
        },
        "outputId": "404e2a32-e760-467a-bd13-abe661d5afff"
      },
      "outputs": [
        {
          "output_type": "stream",
          "name": "stdout",
          "text": [
            "Cost is:  0.6931471805599453\n",
            "Cost is:  0.6922320176359008\n",
            "Cost is:  0.691820284627936\n",
            "Cost is:  0.6916379835212021\n",
            "Cost is:  0.6915492072621414\n",
            "Cost is:  0.6915015818855457\n",
            "Cost is:  0.6914714400809029\n",
            "Cost is:  0.6914488666155287\n",
            "Cost is:  0.6914296525833715\n",
            "Cost is:  0.6914119193498927\n",
            "Cost is:  0.6913949245017256\n",
            "Cost is:  0.6913783040977898\n",
            "Cost is:  0.6913619322961084\n",
            "Cost is:  0.6913457341490618\n",
            "Cost is:  0.6913296903689833\n",
            "Cost is:  0.6913137832528683\n",
            "Cost is:  0.6912980103821107\n",
            "Cost is:  0.6912823663272385\n",
            "Cost is:  0.691266850633905\n",
            "Cost is:  0.6912514608870984\n",
            "Cost is:  0.691236196517551\n",
            "Cost is:  0.6912210559975966\n",
            "Cost is:  0.6912060385414737\n",
            "Cost is:  0.6911911429353231\n",
            "Cost is:  0.6911763682778886\n",
            "Cost is:  0.6911617134853069\n",
            "Cost is:  0.6911471776104284\n",
            "Cost is:  0.6911327596318935\n",
            "Cost is:  0.6911184585911591\n",
            "Cost is:  0.6911042735024052\n",
            "Cost is:  0.6910902034111996\n",
            "Cost is:  0.6910762473559529\n",
            "Cost is:  0.6910624043929896\n",
            "Cost is:  0.691048673580032\n",
            "Cost is:  0.6910350539868875\n",
            "Cost is:  0.69102154468835\n",
            "Cost is:  0.6910081447687354\n",
            "Cost is:  0.6909948533188096\n",
            "Cost is:  0.6909816694376922\n",
            "Cost is:  0.6909685922315083\n",
            "Cost is:  0.6909556208141665\n",
            "Cost is:  0.6909427543067481\n",
            "Cost is:  0.6909299918378056\n",
            "Cost is:  0.6909173325430663\n",
            "Cost is:  0.6909047755655273\n",
            "Cost is:  0.6908923200552932\n",
            "Cost is:  0.6908799651695849\n",
            "Cost is:  0.6908677100726363\n",
            "Cost is:  0.6908555539356649\n",
            "Cost is:  0.690843495936796\n",
            "Cost is:  0.6908315352610164\n",
            "Cost is:  0.6908196711001106\n",
            "Cost is:  0.690807902652609\n",
            "Cost is:  0.6907962291237293\n",
            "Cost is:  0.6907846497253224\n",
            "Cost is:  0.6907731636758165\n",
            "Cost is:  0.690761770200163\n",
            "Cost is:  0.6907504685297826\n",
            "Cost is:  0.6907392579025108\n",
            "Cost is:  0.690728137562545\n",
            "Cost is:  0.6907171067603924\n",
            "Cost is:  0.6907061647528161\n",
            "Cost is:  0.6906953108027843\n",
            "Cost is:  0.6906845441794185\n",
            "Cost is:  0.6906738641579416\n",
            "Cost is:  0.6906632700196285\n",
            "Cost is:  0.6906527610517539\n",
            "Cost is:  0.6906423365475448\n",
            "Cost is:  0.6906319958061288\n",
            "Cost is:  0.6906217381324857\n",
            "Cost is:  0.6906115628373997\n",
            "Cost is:  0.6906014692374095\n",
            "Cost is:  0.6905914566547616\n",
            "Cost is:  0.6905815244173623\n",
            "Cost is:  0.6905716718587306\n",
            "Cost is:  0.6905618983179511\n",
            "Cost is:  0.6905522031396282\n",
            "Cost is:  0.6905425856738401\n",
            "Cost is:  0.690533045276092\n",
            "Cost is:  0.6905235813072731\n",
            "Cost is:  0.6905141931336088\n",
            "Cost is:  0.6905048801266191\n",
            "Cost is:  0.6904956416630722\n",
            "Cost is:  0.6904864771249417\n",
            "Cost is:  0.6904773858993636\n",
            "Cost is:  0.6904683673785919\n",
            "Cost is:  0.6904594209599572\n",
            "Cost is:  0.6904505460458233\n",
            "Cost is:  0.690441742043546\n",
            "Cost is:  0.6904330083654311\n",
            "Cost is:  0.6904243444286925\n",
            "Cost is:  0.6904157496554123\n",
            "Cost is:  0.690407223472499\n",
            "Cost is:  0.6903987653116482\n",
            "Cost is:  0.6903903746093019\n",
            "Cost is:  0.6903820508066089\n",
            "Cost is:  0.6903737933493855\n",
            "Cost is:  0.6903656016880773\n",
            "Cost is:  0.6903574752777188\n",
            "Cost is:  0.6903494135778969\n"
          ]
        }
      ],
      "source": [
        "# Add your code Here!\n",
        "w = np.zeros(4)\n",
        "\n",
        "# Now we optimize it using Gradient Descent.\n",
        "num_iterations = 100\n",
        "learnin_rate = 0.0001\n",
        "\n",
        "cost_list = []\n",
        "\n",
        "\n",
        "# Implementation here is removed.\n",
        "\n",
        "# Your task to implement the GD here.\n",
        "\n",
        "for i in range(0, num_iterations):\n",
        "    #\n",
        "    # Calculate the costs\n",
        "\n",
        "    cost = cost_function(X_train, y_train, w)\n",
        "\n",
        "    print(\"Cost is: \", cost)\n",
        "    # keep the costs for our visualization later\n",
        "\n",
        "    cost_list.append(cost)\n",
        "\n",
        "    # Calculate the gradients [CODE REMOVED]\n",
        "    g = gradient(X_train, y_train, w)\n",
        "\n",
        "    # Use the gradient to update the weights [CODE REMOVED]\n",
        "    w = w - (learnin_rate * g)"
      ]
    },
    {
      "cell_type": "code",
      "source": [
        "b = w[-1]\n",
        "w = w[:3]"
      ],
      "metadata": {
        "id": "txJs5I9gxqu0"
      },
      "execution_count": null,
      "outputs": []
    },
    {
      "cell_type": "code",
      "source": [
        "weights"
      ],
      "metadata": {
        "colab": {
          "base_uri": "https://localhost:8080/"
        },
        "id": "fCrUU0gt1yxZ",
        "outputId": "2db4c19f-02a6-4aaf-db59-b4f7d0610ac6"
      },
      "execution_count": null,
      "outputs": [
        {
          "output_type": "execute_result",
          "data": {
            "text/plain": [
              "Age    -0.003271\n",
              "Sex    -0.000456\n",
              "Chol    0.001141\n",
              "dtype: float64"
            ]
          },
          "metadata": {},
          "execution_count": 489
        }
      ]
    },
    {
      "cell_type": "code",
      "source": [
        "def predict(weights, bias, X):\n",
        "    \"\"\"\n",
        "    Predict the class between 0 and 1 using learned logistic regression parameters weights.\n",
        "    Using threshold value 0.5 to convert probability value to class value\n",
        "\n",
        "    I/P\n",
        "    ----------\n",
        "    X : 2D array where each row represent the training example and each column represent the feature ndarray.\n",
        "        Dimension(n x d)\n",
        "        n= number of training examples\n",
        "        d= number of features (including X_0 column of ones)\n",
        "\n",
        "    theta : 1D array of fitting parameters or weights. Dimension (1 x n)\n",
        "\n",
        "    O/P\n",
        "    -------\n",
        "    Class type based on threshold\n",
        "    \"\"\"\n",
        "    p = sigmoid(X.dot(weights) + bias) >= 0.5\n",
        "    return p.astype(int)"
      ],
      "metadata": {
        "id": "uuMZw9Gp2V9F"
      },
      "execution_count": null,
      "outputs": []
    },
    {
      "cell_type": "code",
      "source": [
        "# Add your code Here!\n",
        "pred = predict(weights, b, X_test)\n",
        "\n",
        "print(classification_report(y_test, pred))"
      ],
      "metadata": {
        "colab": {
          "base_uri": "https://localhost:8080/"
        },
        "id": "ROn9JygQyThR",
        "outputId": "33e0e5d4-5bdd-4dab-9f3f-06c839f77102"
      },
      "execution_count": null,
      "outputs": [
        {
          "output_type": "stream",
          "name": "stdout",
          "text": [
            "              precision    recall  f1-score   support\n",
            "\n",
            "           0       0.50      0.04      0.07        28\n",
            "           1       0.54      0.97      0.70        33\n",
            "\n",
            "    accuracy                           0.54        61\n",
            "   macro avg       0.52      0.50      0.38        61\n",
            "weighted avg       0.52      0.54      0.41        61\n",
            "\n"
          ]
        }
      ]
    },
    {
      "cell_type": "code",
      "source": [
        "# Correct Predictions are the cases that are equal.\n",
        "\n",
        "correct = np.sum(pred == y_test)\n",
        "\n",
        "\n",
        "print(\"Accuracy is: \", correct/y_test.size)"
      ],
      "metadata": {
        "colab": {
          "base_uri": "https://localhost:8080/"
        },
        "id": "uZqcymxm_GcD",
        "outputId": "28277f28-d7d5-4552-a514-dfda53b0081f"
      },
      "execution_count": null,
      "outputs": [
        {
          "output_type": "stream",
          "name": "stdout",
          "text": [
            "Accuracy is:  0.5409836065573771\n"
          ]
        }
      ]
    },
    {
      "cell_type": "code",
      "source": [
        "plt.plot(np.arange(num_iterations), cost_list)\n",
        "plt.show()"
      ],
      "metadata": {
        "colab": {
          "base_uri": "https://localhost:8080/",
          "height": 265
        },
        "id": "GHSBwjJ_yCi_",
        "outputId": "9b742f0a-ca18-4185-96c0-63d31f07f29c"
      },
      "execution_count": null,
      "outputs": [
        {
          "output_type": "display_data",
          "data": {
            "text/plain": [
              "<Figure size 432x288 with 1 Axes>"
            ],
            "image/png": "[encoded data removed]"
          },
          "metadata": {
            "needs_background": "light"
          }
        }
      ]
    },
    {
      "cell_type": "markdown",
      "metadata": {
        "id": "HhqeAf0wqImF"
      },
      "source": [
        "# Task 4 - Implement the Bold Driver   - (4 points)\n",
        "In your GD implementation, add the bold driver idea to have a dynamic learning rate.\n",
        "\n",
        "* Add a stop codition to stop the GD when the cost is not changing more than 0.001. (differences between two costs not more than 0.001, then stop)\n",
        "* Can you stop earlier than 100 iterations?\n",
        "\n",
        "\n"
      ]
    },
    {
      "cell_type": "code",
      "execution_count": null,
      "metadata": {
        "id": "_m7TiDIgqImF",
        "colab": {
          "base_uri": "https://localhost:8080/"
        },
        "outputId": "5e2158d3-5bdf-45f8-c1c7-42cbf3e15c65"
      },
      "outputs": [
        {
          "output_type": "stream",
          "name": "stdout",
          "text": [
            "Cost is:  0.6931471805599453\n"
          ]
        }
      ],
      "source": [
        "# Add your code Here!\n",
        "X_train = X_train[['Age', 'Sex', 'Chol']]\n",
        "weights = np.zeros(3)\n",
        "\n",
        "\n",
        "# Now we optimize it using Gradient Descent.\n",
        "num_iterations = 100\n",
        "learnin_rate = 0.0001\n",
        "\n",
        "cost_list = []\n",
        "\n",
        "\n",
        "# Implementation here is removed.\n",
        "\n",
        "# Your task to implement the GD here.\n",
        "cost = cost_function(X_train, y_train, weights)\n",
        "for i in range(0, num_iterations):\n",
        "\n",
        "    #\n",
        "    # Calculate the costs\n",
        "    oldCost = cost\n",
        "    print(\"Cost is: \", cost)\n",
        "\n",
        "    # keep the costs for our visualization later\n",
        "\n",
        "    cost_list.append(cost)\n",
        "\n",
        "    # Calculate the gradients [CODE REMOVED]\n",
        "    g = gradient(X_train, y_train, weights)\n",
        "\n",
        "    # Use the gradient to update the weights [CODE REMOVED]\n",
        "    weights = weights - (learnin_rate * g)\n",
        "\n",
        "    cost = cost_function(X_train, y_train, weights)\n",
        "\n",
        "    if abs(oldCost - cost) <= .001:\n",
        "      break"
      ]
    },
    {
      "cell_type": "markdown",
      "metadata": {
        "id": "7ih22Y8ZqImG"
      },
      "source": [
        "# Task 5 - Implement the L2 norm regularization.  - (4 points)\n",
        "\n",
        "Modify your Cost and gradient to implement the l2 norm regularization.\n",
        "Repreat the task 1 and 2 to check if your result is changing.\n",
        "\n",
        "* Use y-itercept.\n",
        "* Do max 100 iterations as before and report your accuracy, Precision, Recall and F1.\n",
        "* You can stop earlier when the cost is not changing than 0.001.\n",
        "\n",
        "\n",
        "**Optional:** you might want to use the bold driver. But you can do this task without the bold driver as well.\n",
        "\n"
      ]
    },
    {
      "cell_type": "code",
      "source": [
        "# Add your code Here!\n",
        "pred = predict(weights, b, X_test)\n",
        "\n",
        "print(classification_report(y_test, pred))"
      ],
      "metadata": {
        "colab": {
          "base_uri": "https://localhost:8080/"
        },
        "id": "eVGWd7Zm-p6z",
        "outputId": "bf0eb763-69a6-4b30-eb1a-da9778c446b7"
      },
      "execution_count": null,
      "outputs": [
        {
          "output_type": "stream",
          "name": "stdout",
          "text": [
            "              precision    recall  f1-score   support\n",
            "\n",
            "           0       0.00      0.00      0.00        28\n",
            "           1       0.54      1.00      0.70        33\n",
            "\n",
            "    accuracy                           0.54        61\n",
            "   macro avg       0.27      0.50      0.35        61\n",
            "weighted avg       0.29      0.54      0.38        61\n",
            "\n"
          ]
        },
        {
          "output_type": "stream",
          "name": "stderr",
          "text": [
            "/usr/local/lib/python3.7/dist-packages/sklearn/metrics/_classification.py:1318: UndefinedMetricWarning: Precision and F-score are ill-defined and being set to 0.0 in labels with no predicted samples. Use `zero_division` parameter to control this behavior.\n",
            "  _warn_prf(average, modifier, msg_start, len(result))\n",
            "/usr/local/lib/python3.7/dist-packages/sklearn/metrics/_classification.py:1318: UndefinedMetricWarning: Precision and F-score are ill-defined and being set to 0.0 in labels with no predicted samples. Use `zero_division` parameter to control this behavior.\n",
            "  _warn_prf(average, modifier, msg_start, len(result))\n",
            "/usr/local/lib/python3.7/dist-packages/sklearn/metrics/_classification.py:1318: UndefinedMetricWarning: Precision and F-score are ill-defined and being set to 0.0 in labels with no predicted samples. Use `zero_division` parameter to control this behavior.\n",
            "  _warn_prf(average, modifier, msg_start, len(result))\n"
          ]
        }
      ]
    },
    {
      "cell_type": "code",
      "source": [
        "# Correct Predictions are the cases that are equal.\n",
        "\n",
        "correct = np.sum(pred == y_test)\n",
        "\n",
        "\n",
        "print(\"Accuracy is: \", correct/y_test.size)"
      ],
      "metadata": {
        "colab": {
          "base_uri": "https://localhost:8080/"
        },
        "id": "uQTd7rna_Lol",
        "outputId": "18fa1272-de0f-4cf1-87fb-a5d51dc980ab"
      },
      "execution_count": null,
      "outputs": [
        {
          "output_type": "stream",
          "name": "stdout",
          "text": [
            "Accuracy is:  0.5409836065573771\n"
          ]
        }
      ]
    }
  ],
  "metadata": {
    "kernelspec": {
      "display_name": "Python 3 (ipykernel)",
      "language": "python",
      "name": "python3"
    },
    "language_info": {
      "codemirror_mode": {
        "name": "ipython",
        "version": 3
      },
      "file_extension": ".py",
      "mimetype": "text/x-python",
      "name": "python",
      "nbconvert_exporter": "python",
      "pygments_lexer": "ipython3",
      "version": "3.9.7"
    },
    "colab": {
      "provenance": [],
      "include_colab_link": true
    }
  },
  "nbformat": 4,
  "nbformat_minor": 0
}