{
  "cells": [
    {
      "cell_type": "markdown",
      "metadata": {
        "id": "VzMFt6VzBbMe"
      },
      "source": [
        "# Homework 7\n",
        "\n",
        "## Your Name Here (or your names here if you are pair programming)\n",
        "Riley Sample\n",
        "rcs3396\n",
        "## Supprt Vector Machine "
      ]
    },
    {
      "cell_type": "code",
      "execution_count": null,
      "metadata": {
        "id": "3CAj_uBhBbMk"
      },
      "outputs": [],
      "source": [
        "# Standard Headers\n",
        "# You are welcome to add additional headers here if you wish\n",
        "import pandas as pd\n",
        "import numpy as np\n",
        "import matplotlib.pyplot as plt\n",
        "\n",
        "# Enable inline mode for matplotlib so that Jupyter displays graphs\n",
        "%matplotlib inline"
      ]
    },
    {
      "cell_type": "markdown",
      "metadata": {
        "id": "uLbFyfsdBbMn"
      },
      "source": [
        "# Your allowed to use only the above libraries that are imported. No other libs should be used in this assignment. "
      ]
    },
    {
      "cell_type": "markdown",
      "metadata": {
        "id": "IGXAJOtrBbMp"
      },
      "source": [
        "## Heart Dataset \n",
        "\n",
        "In this Assignment we will work with some patients dataset. \n",
        "\n",
        "We have access to 303 patients data. The features are listed below. "
      ]
    },
    {
      "cell_type": "code",
      "execution_count": null,
      "metadata": {
        "colab": {
          "base_uri": "https://localhost:8080/",
          "height": 424
        },
        "id": "uoXXfsQpBbMp",
        "outputId": "c54b6099-2a5f-41fd-ccdb-acc1944bae5c"
      },
      "outputs": [
        {
          "output_type": "execute_result",
          "data": {
            "text/plain": [
              "     Age  Sex     ChestPain  RestBP  Chol  Fbs  RestECG  MaxHR  ExAng  \\\n",
              "0     63    1       typical     145   233    1        2    150      0   \n",
              "1     67    1  asymptomatic     160   286    0        2    108      1   \n",
              "2     67    1  asymptomatic     120   229    0        2    129      1   \n",
              "3     37    1    nonanginal     130   250    0        0    187      0   \n",
              "4     41    0    nontypical     130   204    0        2    172      0   \n",
              "..   ...  ...           ...     ...   ...  ...      ...    ...    ...   \n",
              "298   45    1       typical     110   264    0        0    132      0   \n",
              "299   68    1  asymptomatic     144   193    1        0    141      0   \n",
              "300   57    1  asymptomatic     130   131    0        0    115      1   \n",
              "301   57    0    nontypical     130   236    0        2    174      0   \n",
              "302   38    1    nonanginal     138   175    0        0    173      0   \n",
              "\n",
              "     Oldpeak  Slope   Ca        Thal Target  \n",
              "0        2.3      3  0.0       fixed     No  \n",
              "1        1.5      2  3.0      normal    Yes  \n",
              "2        2.6      2  2.0  reversable    Yes  \n",
              "3        3.5      3  0.0      normal     No  \n",
              "4        1.4      1  0.0      normal     No  \n",
              "..       ...    ...  ...         ...    ...  \n",
              "298      1.2      2  0.0  reversable    Yes  \n",
              "299      3.4      2  2.0  reversable    Yes  \n",
              "300      1.2      2  1.0  reversable    Yes  \n",
              "301      0.0      2  1.0      normal    Yes  \n",
              "302      0.0      1  NaN      normal     No  \n",
              "\n",
              "[303 rows x 14 columns]"
            ],
            "text/html": [
              "\n",
              "  <div id=\"df-19de07e1-1e58-44a1-8bd7-7e1d0a947323\">\n",
              "    <div class=\"colab-df-container\">\n",
              "      <div>\n",
              "<style scoped>\n",
              "    .dataframe tbody tr th:only-of-type {\n",
              "        vertical-align: middle;\n",
              "    }\n",
              "\n",
              "    .dataframe tbody tr th {\n",
              "        vertical-align: top;\n",
              "    }\n",
              "\n",
              "    .dataframe thead th {\n",
              "        text-align: right;\n",
              "    }\n",
              "</style>\n",
              "<table border=\"1\" class=\"dataframe\">\n",
              "  <thead>\n",
              "    <tr style=\"text-align: right;\">\n",
              "      <th></th>\n",
              "      <th>Age</th>\n",
              "      <th>Sex</th>\n",
              "      <th>ChestPain</th>\n",
              "      <th>RestBP</th>\n",
              "      <th>Chol</th>\n",
              "      <th>Fbs</th>\n",
              "      <th>RestECG</th>\n",
              "      <th>MaxHR</th>\n",
              "      <th>ExAng</th>\n",
              "      <th>Oldpeak</th>\n",
              "      <th>Slope</th>\n",
              "      <th>Ca</th>\n",
              "      <th>Thal</th>\n",
              "      <th>Target</th>\n",
              "    </tr>\n",
              "  </thead>\n",
              "  <tbody>\n",
              "    <tr>\n",
              "      <th>0</th>\n",
              "      <td>63</td>\n",
              "      <td>1</td>\n",
              "      <td>typical</td>\n",
              "      <td>145</td>\n",
              "      <td>233</td>\n",
              "      <td>1</td>\n",
              "      <td>2</td>\n",
              "      <td>150</td>\n",
              "      <td>0</td>\n",
              "      <td>2.3</td>\n",
              "      <td>3</td>\n",
              "      <td>0.0</td>\n",
              "      <td>fixed</td>\n",
              "      <td>No</td>\n",
              "    </tr>\n",
              "    <tr>\n",
              "      <th>1</th>\n",
              "      <td>67</td>\n",
              "      <td>1</td>\n",
              "      <td>asymptomatic</td>\n",
              "      <td>160</td>\n",
              "      <td>286</td>\n",
              "      <td>0</td>\n",
              "      <td>2</td>\n",
              "      <td>108</td>\n",
              "      <td>1</td>\n",
              "      <td>1.5</td>\n",
              "      <td>2</td>\n",
              "      <td>3.0</td>\n",
              "      <td>normal</td>\n",
              "      <td>Yes</td>\n",
              "    </tr>\n",
              "    <tr>\n",
              "      <th>2</th>\n",
              "      <td>67</td>\n",
              "      <td>1</td>\n",
              "      <td>asymptomatic</td>\n",
              "      <td>120</td>\n",
              "      <td>229</td>\n",
              "      <td>0</td>\n",
              "      <td>2</td>\n",
              "      <td>129</td>\n",
              "      <td>1</td>\n",
              "      <td>2.6</td>\n",
              "      <td>2</td>\n",
              "      <td>2.0</td>\n",
              "      <td>reversable</td>\n",
              "      <td>Yes</td>\n",
              "    </tr>\n",
              "    <tr>\n",
              "      <th>3</th>\n",
              "      <td>37</td>\n",
              "      <td>1</td>\n",
              "      <td>nonanginal</td>\n",
              "      <td>130</td>\n",
              "      <td>250</td>\n",
              "      <td>0</td>\n",
              "      <td>0</td>\n",
              "      <td>187</td>\n",
              "      <td>0</td>\n",
              "      <td>3.5</td>\n",
              "      <td>3</td>\n",
              "      <td>0.0</td>\n",
              "      <td>normal</td>\n",
              "      <td>No</td>\n",
              "    </tr>\n",
              "    <tr>\n",
              "      <th>4</th>\n",
              "      <td>41</td>\n",
              "      <td>0</td>\n",
              "      <td>nontypical</td>\n",
              "      <td>130</td>\n",
              "      <td>204</td>\n",
              "      <td>0</td>\n",
              "      <td>2</td>\n",
              "      <td>172</td>\n",
              "      <td>0</td>\n",
              "      <td>1.4</td>\n",
              "      <td>1</td>\n",
              "      <td>0.0</td>\n",
              "      <td>normal</td>\n",
              "      <td>No</td>\n",
              "    </tr>\n",
              "    <tr>\n",
              "      <th>...</th>\n",
              "      <td>...</td>\n",
              "      <td>...</td>\n",
              "      <td>...</td>\n",
              "      <td>...</td>\n",
              "      <td>...</td>\n",
              "      <td>...</td>\n",
              "      <td>...</td>\n",
              "      <td>...</td>\n",
              "      <td>...</td>\n",
              "      <td>...</td>\n",
              "      <td>...</td>\n",
              "      <td>...</td>\n",
              "      <td>...</td>\n",
              "      <td>...</td>\n",
              "    </tr>\n",
              "    <tr>\n",
              "      <th>298</th>\n",
              "      <td>45</td>\n",
              "      <td>1</td>\n",
              "      <td>typical</td>\n",
              "      <td>110</td>\n",
              "      <td>264</td>\n",
              "      <td>0</td>\n",
              "      <td>0</td>\n",
              "      <td>132</td>\n",
              "      <td>0</td>\n",
              "      <td>1.2</td>\n",
              "      <td>2</td>\n",
              "      <td>0.0</td>\n",
              "      <td>reversable</td>\n",
              "      <td>Yes</td>\n",
              "    </tr>\n",
              "    <tr>\n",
              "      <th>299</th>\n",
              "      <td>68</td>\n",
              "      <td>1</td>\n",
              "      <td>asymptomatic</td>\n",
              "      <td>144</td>\n",
              "      <td>193</td>\n",
              "      <td>1</td>\n",
              "      <td>0</td>\n",
              "      <td>141</td>\n",
              "      <td>0</td>\n",
              "      <td>3.4</td>\n",
              "      <td>2</td>\n",
              "      <td>2.0</td>\n",
              "      <td>reversable</td>\n",
              "      <td>Yes</td>\n",
              "    </tr>\n",
              "    <tr>\n",
              "      <th>300</th>\n",
              "      <td>57</td>\n",
              "      <td>1</td>\n",
              "      <td>asymptomatic</td>\n",
              "      <td>130</td>\n",
              "      <td>131</td>\n",
              "      <td>0</td>\n",
              "      <td>0</td>\n",
              "      <td>115</td>\n",
              "      <td>1</td>\n",
              "      <td>1.2</td>\n",
              "      <td>2</td>\n",
              "      <td>1.0</td>\n",
              "      <td>reversable</td>\n",
              "      <td>Yes</td>\n",
              "    </tr>\n",
              "    <tr>\n",
              "      <th>301</th>\n",
              "      <td>57</td>\n",
              "      <td>0</td>\n",
              "      <td>nontypical</td>\n",
              "      <td>130</td>\n",
              "      <td>236</td>\n",
              "      <td>0</td>\n",
              "      <td>2</td>\n",
              "      <td>174</td>\n",
              "      <td>0</td>\n",
              "      <td>0.0</td>\n",
              "      <td>2</td>\n",
              "      <td>1.0</td>\n",
              "      <td>normal</td>\n",
              "      <td>Yes</td>\n",
              "    </tr>\n",
              "    <tr>\n",
              "      <th>302</th>\n",
              "      <td>38</td>\n",
              "      <td>1</td>\n",
              "      <td>nonanginal</td>\n",
              "      <td>138</td>\n",
              "      <td>175</td>\n",
              "      <td>0</td>\n",
              "      <td>0</td>\n",
              "      <td>173</td>\n",
              "      <td>0</td>\n",
              "      <td>0.0</td>\n",
              "      <td>1</td>\n",
              "      <td>NaN</td>\n",
              "      <td>normal</td>\n",
              "      <td>No</td>\n",
              "    </tr>\n",
              "  </tbody>\n",
              "</table>\n",
              "<p>303 rows × 14 columns</p>\n",
              "</div>\n",
              "      <button class=\"colab-df-convert\" onclick=\"convertToInteractive('df-19de07e1-1e58-44a1-8bd7-7e1d0a947323')\"\n",
              "              title=\"Convert this dataframe to an interactive table.\"\n",
              "              style=\"display:none;\">\n",
              "        \n",
              "  <svg xmlns=\"http://www.w3.org/2000/svg\" height=\"24px\"viewBox=\"0 0 24 24\"\n",
              "       width=\"24px\">\n",
              "    <path d=\"M0 0h24v24H0V0z\" fill=\"none\"/>\n",
              "    <path d=\"M18.56 5.44l.94 2.06.94-2.06 2.06-.94-2.06-.94-.94-2.06-.94 2.06-2.06.94zm-11 1L8.5 8.5l.94-2.06 2.06-.94-2.06-.94L8.5 2.5l-.94 2.06-2.06.94zm10 10l.94 2.06.94-2.06 2.06-.94-2.06-.94-.94-2.06-.94 2.06-2.06.94z\"/><path d=\"M17.41 7.96l-1.37-1.37c-.4-.4-.92-.59-1.43-.59-.52 0-1.04.2-1.43.59L10.3 9.45l-7.72 7.72c-.78.78-.78 2.05 0 2.83L4 21.41c.39.39.9.59 1.41.59.51 0 1.02-.2 1.41-.59l7.78-7.78 2.81-2.81c.8-.78.8-2.07 0-2.86zM5.41 20L4 18.59l7.72-7.72 1.47 1.35L5.41 20z\"/>\n",
              "  </svg>\n",
              "      </button>\n",
              "      \n",
              "  <style>\n",
              "    .colab-df-container {\n",
              "      display:flex;\n",
              "      flex-wrap:wrap;\n",
              "      gap: 12px;\n",
              "    }\n",
              "\n",
              "    .colab-df-convert {\n",
              "      background-color: #E8F0FE;\n",
              "      border: none;\n",
              "      border-radius: 50%;\n",
              "      cursor: pointer;\n",
              "      display: none;\n",
              "      fill: #1967D2;\n",
              "      height: 32px;\n",
              "      padding: 0 0 0 0;\n",
              "      width: 32px;\n",
              "    }\n",
              "\n",
              "    .colab-df-convert:hover {\n",
              "      background-color: #E2EBFA;\n",
              "      box-shadow: 0px 1px 2px rgba(60, 64, 67, 0.3), 0px 1px 3px 1px rgba(60, 64, 67, 0.15);\n",
              "      fill: #174EA6;\n",
              "    }\n",
              "\n",
              "    [theme=dark] .colab-df-convert {\n",
              "      background-color: #3B4455;\n",
              "      fill: #D2E3FC;\n",
              "    }\n",
              "\n",
              "    [theme=dark] .colab-df-convert:hover {\n",
              "      background-color: #434B5C;\n",
              "      box-shadow: 0px 1px 3px 1px rgba(0, 0, 0, 0.15);\n",
              "      filter: drop-shadow(0px 1px 2px rgba(0, 0, 0, 0.3));\n",
              "      fill: #FFFFFF;\n",
              "    }\n",
              "  </style>\n",
              "\n",
              "      <script>\n",
              "        const buttonEl =\n",
              "          document.querySelector('#df-19de07e1-1e58-44a1-8bd7-7e1d0a947323 button.colab-df-convert');\n",
              "        buttonEl.style.display =\n",
              "          google.colab.kernel.accessAllowed ? 'block' : 'none';\n",
              "\n",
              "        async function convertToInteractive(key) {\n",
              "          const element = document.querySelector('#df-19de07e1-1e58-44a1-8bd7-7e1d0a947323');\n",
              "          const dataTable =\n",
              "            await google.colab.kernel.invokeFunction('convertToInteractive',\n",
              "                                                     [key], {});\n",
              "          if (!dataTable) return;\n",
              "\n",
              "          const docLinkHtml = 'Like what you see? Visit the ' +\n",
              "            '<a target=\"_blank\" href=https://colab.research.google.com/notebooks/data_table.ipynb>data table notebook</a>'\n",
              "            + ' to learn more about interactive tables.';\n",
              "          element.innerHTML = '';\n",
              "          dataTable['output_type'] = 'display_data';\n",
              "          await google.colab.output.renderOutput(dataTable, element);\n",
              "          const docLink = document.createElement('div');\n",
              "          docLink.innerHTML = docLinkHtml;\n",
              "          element.appendChild(docLink);\n",
              "        }\n",
              "      </script>\n",
              "    </div>\n",
              "  </div>\n",
              "  "
            ]
          },
          "metadata": {},
          "execution_count": 168
        }
      ],
      "source": [
        "# Your code here\n",
        "heart_df = pd.read_csv(\"Heart.csv\")\n",
        "heart_df"
      ]
    },
    {
      "cell_type": "markdown",
      "metadata": {
        "id": "9GcVcclkBbMr"
      },
      "source": [
        "**Age:** The person’s age in years\n",
        "\n",
        "**Sex:** The person’s sex (1 = male, 0 = female)\n",
        "\n",
        "**ChestPain:** chest pain type\n",
        "\n",
        "* Value 0: asymptomatic\n",
        "* Value 1: atypical angina\n",
        "* Value 2: non-anginal pain\n",
        "* Value 3: typical angina\n",
        "\n",
        "**RestBP:** The person’s resting blood pressure (mm Hg on admission to the hospital)\n",
        "\n",
        "**Chol:** The person’s cholesterol measurement in mg/dl\n",
        "\n",
        "**Fbs:** The person’s fasting blood sugar (> 120 mg/dl, 1 = true; 0 = false)\n",
        "restecg: resting electrocardiographic results\n",
        "\n",
        "* Value 0: showing probable or definite left ventricular hypertrophy by Estes’ criteria\n",
        "* Value 1: normal\n",
        "* Value 2: having ST-T wave abnormality (T wave inversions and/or ST elevation or depression of > 0.05 mV)\n",
        "\n",
        "**RestECG:** The person’s maximum heart rate achieved\n",
        "\n",
        "**MaxHR:** Exercise induced angina (1 = yes; 0 = no)\n",
        "\n",
        "**Oldpeak:** ST depression induced by exercise relative to rest (‘ST’ relates to positions on the ECG plot. See more here)\n",
        "\n",
        "**Slope:** the slope of the peak exercise ST segment — 0: downsloping; 1: flat; 2: upsloping\n",
        "\n",
        "* 0: downsloping; \n",
        "* 1: flat; \n",
        "* 2: upsloping\n",
        "\n",
        "**Ca:** The number of major vessels (0–3)\n",
        "\n",
        "**Thal:** A blood disorder called thalassemia Value 0: NULL (dropped from the dataset previously\n",
        "\n",
        "* Value 1: fixed defect (no blood flow in some part of the heart)\n",
        "* Value 2: normal blood flow\n",
        "* Value 3: reversible defect (a blood flow is observed but it is not normal)\n",
        "\n",
        "**Target:** Heart disease (1 = no, 0= yes)"
      ]
    },
    {
      "cell_type": "markdown",
      "metadata": {
        "id": "pJOrSWXUBbMu"
      },
      "source": [
        "# Task - 1 Implement SVM using libraries (4 points)\n",
        "We want to use **Suppert Vector Machine** to perdict if the patients will have heart problems or not. The column \"Target\" in our datasets includes data about heart diseases. If the patient had heart disease we have a 1 and if not a zero. \n",
        "\n",
        "Prepare your data set for predicting heart disease (\"Target\" column) out of 3 features:\n",
        "\n",
        "* Age of the patient (Column **\"Age\"**)\n",
        "* Gender of the patient (male or female - Column **\"Sex\"**)\n",
        "* Cholestrol level of the patient (Column **\"Chol\"**) \n",
        "\n",
        "\n",
        "Split your data into 80% traning data and 20% test data, and implement Support Vector Machine using Scikit-Learn. \n",
        "\n",
        "\n",
        "\n"
      ]
    },
    {
      "cell_type": "code",
      "source": [
        "x = np.asarray(heart_df[['Age', 'Sex', 'Chol']])\n",
        "y = heart_df['Target']\n",
        "y = y.replace(to_replace=\"No\", value=1)\n",
        "y = y.replace(to_replace=\"Yes\", value=0)\n",
        "y = np.asarray(y)"
      ],
      "metadata": {
        "id": "IgGNMgiBFqq1"
      },
      "execution_count": null,
      "outputs": []
    },
    {
      "cell_type": "code",
      "execution_count": null,
      "metadata": {
        "id": "MXW8-NJtBbMv"
      },
      "outputs": [],
      "source": [
        "# Add your code Here! \n",
        "# Create Test/Train\n",
        "from sklearn.model_selection import train_test_split\n",
        "\n",
        "X_train, X_test, y_train, y_test = train_test_split(x, y, test_size=0.2)"
      ]
    },
    {
      "cell_type": "code",
      "source": [
        "from sklearn import svm\n",
        "from sklearn.metrics import accuracy_score\n",
        "\n",
        "\n",
        "model = svm.SVC()\n",
        "model.fit(X_train, y_train)"
      ],
      "metadata": {
        "colab": {
          "base_uri": "https://localhost:8080/",
          "height": 200
        },
        "id": "azGDe_XuFotn",
        "outputId": "7c29094b-7476-4e83-f59f-d6fe9b832ff2"
      },
      "execution_count": null,
      "outputs": [
        {
          "output_type": "error",
          "ename": "NameError",
          "evalue": "ignored",
          "traceback": [
            "\u001b[0;31m---------------------------------------------------------------------------\u001b[0m",
            "\u001b[0;31mNameError\u001b[0m                                 Traceback (most recent call last)",
            "\u001b[0;32m<ipython-input-2-a00783a6108c>\u001b[0m in \u001b[0;36m<module>\u001b[0;34m()\u001b[0m\n\u001b[1;32m      4\u001b[0m \u001b[0;34m\u001b[0m\u001b[0m\n\u001b[1;32m      5\u001b[0m \u001b[0mmodel\u001b[0m \u001b[0;34m=\u001b[0m \u001b[0msvm\u001b[0m\u001b[0;34m.\u001b[0m\u001b[0mSVC\u001b[0m\u001b[0;34m(\u001b[0m\u001b[0mkernel\u001b[0m \u001b[0;34m=\u001b[0m \u001b[0;34m'linear'\u001b[0m\u001b[0;34m)\u001b[0m\u001b[0;34m\u001b[0m\u001b[0;34m\u001b[0m\u001b[0m\n\u001b[0;32m----> 6\u001b[0;31m \u001b[0mmodel\u001b[0m\u001b[0;34m.\u001b[0m\u001b[0mfit\u001b[0m\u001b[0;34m(\u001b[0m\u001b[0mX_train\u001b[0m\u001b[0;34m,\u001b[0m \u001b[0my_train\u001b[0m\u001b[0;34m)\u001b[0m\u001b[0;34m\u001b[0m\u001b[0;34m\u001b[0m\u001b[0m\n\u001b[0m",
            "\u001b[0;31mNameError\u001b[0m: name 'X_train' is not defined"
          ]
        }
      ]
    },
    {
      "cell_type": "markdown",
      "metadata": {
        "id": "qn40glhpBbMx"
      },
      "source": [
        "# Task 2 - (4 points)\n",
        "\n",
        "Cacluate the accuracy, Precision, Recall and F1 score of your **SVM** implementaion from Task 1. \n",
        "Print the results. \n",
        "\n",
        "You may use library methods for this task if you choose to.\n"
      ]
    },
    {
      "cell_type": "code",
      "execution_count": null,
      "metadata": {
        "colab": {
          "base_uri": "https://localhost:8080/"
        },
        "id": "xKQp1RGPBbMy",
        "outputId": "3fe1eaec-dbce-484c-9c45-b6d66396dec9"
      },
      "outputs": [
        {
          "output_type": "stream",
          "name": "stdout",
          "text": [
            "Accuracy Score: 0.5081967213114754\n"
          ]
        }
      ],
      "source": [
        "# Add your code Here! \n",
        "y_pred = model.predict(X_test)\n",
        "\n",
        "print(\"Accuracy Score:\", accuracy_score(y_test, y_pred))\n"
      ]
    },
    {
      "cell_type": "code",
      "source": [
        "from sklearn.metrics import classification_report\n",
        "print(classification_report(y_test,y_pred))"
      ],
      "metadata": {
        "colab": {
          "base_uri": "https://localhost:8080/"
        },
        "id": "cUA-M5h5G_PW",
        "outputId": "4db7ee25-76c7-42b0-f941-e455f01fec2c"
      },
      "execution_count": null,
      "outputs": [
        {
          "output_type": "stream",
          "name": "stdout",
          "text": [
            "              precision    recall  f1-score   support\n",
            "\n",
            "           0       0.00      0.00      0.00        30\n",
            "           1       0.51      1.00      0.67        31\n",
            "\n",
            "    accuracy                           0.51        61\n",
            "   macro avg       0.25      0.50      0.34        61\n",
            "weighted avg       0.26      0.51      0.34        61\n",
            "\n"
          ]
        },
        {
          "output_type": "stream",
          "name": "stderr",
          "text": [
            "/usr/local/lib/python3.7/dist-packages/sklearn/metrics/_classification.py:1318: UndefinedMetricWarning: Precision and F-score are ill-defined and being set to 0.0 in labels with no predicted samples. Use `zero_division` parameter to control this behavior.\n",
            "  _warn_prf(average, modifier, msg_start, len(result))\n",
            "/usr/local/lib/python3.7/dist-packages/sklearn/metrics/_classification.py:1318: UndefinedMetricWarning: Precision and F-score are ill-defined and being set to 0.0 in labels with no predicted samples. Use `zero_division` parameter to control this behavior.\n",
            "  _warn_prf(average, modifier, msg_start, len(result))\n",
            "/usr/local/lib/python3.7/dist-packages/sklearn/metrics/_classification.py:1318: UndefinedMetricWarning: Precision and F-score are ill-defined and being set to 0.0 in labels with no predicted samples. Use `zero_division` parameter to control this behavior.\n",
            "  _warn_prf(average, modifier, msg_start, len(result))\n"
          ]
        }
      ]
    },
    {
      "cell_type": "markdown",
      "metadata": {
        "id": "Wrggrxr8BbMz"
      },
      "source": [
        "# Task 3 - Implement SVM without using libraries  - (4 points)\n",
        "\n",
        "Implement SVM from scratch using Hinge Loss function and Gradient Descent. \n",
        "Try to produce the same result as you get from the libraries. \n",
        "\n",
        "\n",
        "* Do as many iterations as needed \n",
        "* Do maximum **100 iterations**\n",
        "* Use a very small learning rate for checking your GD implementation. \n",
        "* Your are allowed to use your choice of learning rate, like using 0.0001, 0.001 or 0.01 or 0.1 or higher. \n",
        "* Visualize your costs. \n",
        "* No need to add an y-intercept in this task. \n",
        "* You can use libraries to report accuracy, Precision, Recall and F1. \n",
        "\n"
      ]
    },
    {
      "cell_type": "code",
      "source": [
        "def compute_cost(X, y, W, regularization_factor):\n",
        "\n",
        "    n = X.shape[0]\n",
        "    distances = 1 - y * (np.dot(X, W))\n",
        "    \n",
        "    # max\n",
        "    distances[distances < 0] = 0 \n",
        "    \n",
        "    hinge_loss = regularization_factor * (np.sum(distances) / n)\n",
        "\n",
        "    return (1 / 2 * np.dot(W, W) + hinge_loss)"
      ],
      "metadata": {
        "id": "6nX6ybAPIEOZ"
      },
      "execution_count": null,
      "outputs": []
    },
    {
      "cell_type": "code",
      "source": [
        "def calculate_gradient(X, y, W, regularization_factor):\n",
        "      \n",
        "    if type(y) == np.float64:\n",
        "        y = np.array([y])\n",
        "        X = np.array([X])\n",
        "        \n",
        "    distance = 1 - (y * np.dot(X, W))\n",
        "    \n",
        "    dw = np.zeros(len(W))\n",
        "    \n",
        "    for ind, d in enumerate(distance):\n",
        "        \n",
        "        if (d < 0):\n",
        "            di = W\n",
        "        else:\n",
        "            di = W - (regularization_factor * y[ind] * X[ind])\n",
        "            \n",
        "            \n",
        "        dw += di\n",
        "    \n",
        "    # take avg\n",
        "    dw = dw/len(y)\n",
        "    \n",
        "    return dw"
      ],
      "metadata": {
        "id": "pUlsvCguIH2W"
      },
      "execution_count": null,
      "outputs": []
    },
    {
      "cell_type": "code",
      "source": [
        "weights = np.zeros(3)\n",
        "num_iterations = 100\n",
        "learnin_rate = 0.0001\n",
        "\n",
        "regularization = 0.01\n",
        "\n",
        "cost_list = []\n",
        "\n",
        "for i in range(0, num_iterations):\n",
        "    \n",
        "    cost = compute_cost(X_train, y_train, weights, regularization)\n",
        "    \n",
        "    print(\"Epoch\", i, \"Cost is:\", cost, \"weights\", weights)\n",
        "    \n",
        "    cost_list.append(cost)\n",
        "    \n",
        "    grad = calculate_gradient(X_train, y_train, weights, regularization)\n",
        "    \n",
        "    weights = weights - learnin_rate * grad"
      ],
      "metadata": {
        "colab": {
          "base_uri": "https://localhost:8080/"
        },
        "id": "dvTN8Vl6IKAD",
        "outputId": "3e66c4f2-1e76-4e04-f51e-2fb61adfffff"
      },
      "execution_count": null,
      "outputs": [
        {
          "output_type": "stream",
          "name": "stdout",
          "text": [
            "Epoch 0 Cost is: 0.01 weights [0. 0. 0.]\n",
            "Epoch 1 Cost is: 0.009811143243767596 weights [2.91859504e-05 2.93388430e-07 1.34293388e-04]\n",
            "Epoch 2 Cost is: 0.009622324256997872 weights [5.83689822e-05 5.86747521e-07 2.68573348e-04]\n",
            "Epoch 3 Cost is: 0.00943354303213731 weights [8.75490957e-05 8.80077276e-07 4.02839879e-04]\n",
            "Epoch 4 Cost is: 0.00924479956163391 weights [1.16726291e-04 1.17337770e-06 5.37092983e-04]\n",
            "Epoch 5 Cost is: 0.009056093837937174 weights [1.45900569e-04 1.46664879e-06 6.71332662e-04]\n",
            "Epoch 6 Cost is: 0.008867425853498121 weights [1.75071929e-04 1.75989055e-06 8.05558917e-04]\n",
            "Epoch 7 Cost is: 0.008678795600769278 weights [2.04240373e-04 2.05310300e-06 9.39771750e-04]\n",
            "Epoch 8 Cost is: 0.008490203072204676 weights [2.33405899e-04 2.34628611e-06 1.07397116e-03]\n",
            "Epoch 9 Cost is: 0.00830164826025986 weights [2.62568509e-04 2.63943992e-06 1.20815715e-03]\n",
            "Epoch 10 Cost is: 0.008113131157391889 weights [2.91728202e-04 2.93256440e-06 1.34232973e-03]\n",
            "Epoch 11 Cost is: 0.007924651756059315 weights [3.20884980e-04 3.22565957e-06 1.47648888e-03]\n",
            "Epoch 12 Cost is: 0.0077362100487222175 weights [3.50038842e-04 3.51872544e-06 1.61063462e-03]\n",
            "Epoch 13 Cost is: 0.007548196700275331 weights [3.79189788e-04 3.81176200e-06 1.74476695e-03]\n",
            "Epoch 14 Cost is: 0.007366187849217614 weights [4.08060960e-04 4.10476925e-06 1.87655528e-03]\n",
            "Epoch 15 Cost is: 0.0071842153981100205 weights [4.36929245e-04 4.39774720e-06 2.00833043e-03]\n",
            "Epoch 16 Cost is: 0.007002279339672925 weights [4.65794643e-04 4.69069586e-06 2.14009241e-03]\n",
            "Epoch 17 Cost is: 0.006820379666628158 weights [4.94657155e-04 4.98361522e-06 2.27184121e-03]\n",
            "Epoch 18 Cost is: 0.006640017203572505 weights [5.23516780e-04 5.27650529e-06 2.40357684e-03]\n",
            "Epoch 19 Cost is: 0.006464195476051371 weights [5.52104924e-04 5.56936606e-06 2.53357615e-03]\n",
            "Epoch 20 Cost is: 0.006291419578553054 weights [5.80434011e-04 5.86219756e-06 2.66193436e-03]\n",
            "Epoch 21 Cost is: 0.00612142734544711 weights [6.08760265e-04 6.15499977e-06 2.79027974e-03]\n",
            "Epoch 22 Cost is: 0.005958985306968296 weights [6.36579554e-04 6.44777270e-06 2.91566187e-03]\n",
            "Epoch 23 Cost is: 0.005803714310574126 weights [6.63929120e-04 6.74051635e-06 3.03821328e-03]\n",
            "Epoch 24 Cost is: 0.005659450932887471 weights [6.90548677e-04 7.02909850e-06 3.15675243e-03]\n",
            "Epoch 25 Cost is: 0.005535539385988646 weights [7.15839126e-04 7.30525509e-06 3.26761031e-03]\n",
            "Epoch 26 Cost is: 0.005426993872989607 weights [7.39560931e-04 7.56898738e-06 3.36978355e-03]\n",
            "Epoch 27 Cost is: 0.005324783081261512 weights [7.62883669e-04 7.82856106e-06 3.46953748e-03]\n",
            "Epoch 28 Cost is: 0.0052326993293255256 weights [7.85133827e-04 8.08397655e-06 3.56467399e-03]\n",
            "Epoch 29 Cost is: 0.005152752753694353 weights [8.05898289e-04 8.32696980e-06 3.65307786e-03]\n",
            "Epoch 30 Cost is: 0.005081274367906797 weights [8.25586294e-04 8.56167429e-06 3.73598528e-03]\n",
            "Epoch 31 Cost is: 0.005015127170343647 weights [8.44867372e-04 8.78809085e-06 3.81673151e-03]\n",
            "Epoch 32 Cost is: 0.0049563798082103904 weights [8.63109331e-04 9.00622031e-06 3.89221348e-03]\n",
            "Epoch 33 Cost is: 0.0049058726450503755 weights [8.80448640e-04 9.21193126e-06 3.96360111e-03]\n",
            "Epoch 34 Cost is: 0.004867221869846041 weights [8.95571339e-04 9.39282825e-06 4.02496095e-03]\n",
            "Epoch 35 Cost is: 0.004834418111867487 weights [9.09597484e-04 9.55717822e-06 4.08139317e-03]\n",
            "Epoch 36 Cost is: 0.004807096261091293 weights [9.22713136e-04 9.71324730e-06 4.13394784e-03]\n",
            "Epoch 37 Cost is: 0.004784440095621977 weights [9.34546485e-04 9.84863961e-06 4.18073692e-03]\n",
            "Epoch 38 Cost is: 0.004763514836673395 weights [9.45841460e-04 9.97988615e-06 4.22564943e-03]\n",
            "Epoch 39 Cost is: 0.004744165709735547 weights [9.56705553e-04 1.01028551e-05 4.26868554e-03]\n",
            "Epoch 40 Cost is: 0.004727095551391752 weights [9.67171866e-04 1.02175473e-05 4.30986198e-03]\n",
            "Epoch 41 Cost is: 0.004712144431039592 weights [9.76723909e-04 1.03156991e-05 4.34738140e-03]\n",
            "Epoch 42 Cost is: 0.0046979896888674644 weights [9.86068386e-04 1.04138411e-05 4.38399212e-03]\n",
            "Epoch 43 Cost is: 0.004684719076968305 weights [9.95250771e-04 1.05119732e-05 4.41969009e-03]\n",
            "Epoch 44 Cost is: 0.004672453512632136 weights [1.00393224e-03 1.06100956e-05 4.45362002e-03]\n",
            "Epoch 45 Cost is: 0.004660837425211978 weights [1.01261284e-03 1.07082081e-05 4.48754656e-03]\n",
            "Epoch 46 Cost is: 0.004651354172256877 weights [1.02041653e-03 1.07939142e-05 4.51796970e-03]\n",
            "Epoch 47 Cost is: 0.0046427324905601 weights [1.02778557e-03 1.08754794e-05 4.54665014e-03]\n",
            "Epoch 48 Cost is: 0.004634484243968472 weights [1.03497618e-03 1.09529043e-05 4.57445580e-03]\n",
            "Epoch 49 Cost is: 0.004626722329647169 weights [1.04216607e-03 1.10303214e-05 4.60225869e-03]\n",
            "Epoch 50 Cost is: 0.004620051638379624 weights [1.04885524e-03 1.11035985e-05 4.62746788e-03]\n",
            "Epoch 51 Cost is: 0.004613698944609697 weights [1.05532887e-03 1.11727361e-05 4.65182745e-03]\n",
            "Epoch 52 Cost is: 0.004607719193772812 weights [1.06180184e-03 1.12418667e-05 4.67618458e-03]\n",
            "Epoch 53 Cost is: 0.00460314816902915 weights [1.06734029e-03 1.13027260e-05 4.69720870e-03]\n",
            "Epoch 54 Cost is: 0.004599357023989169 weights [1.07248562e-03 1.13635792e-05 4.71655716e-03]\n",
            "Epoch 55 Cost is: 0.004596005738127127 weights [1.07724614e-03 1.14161619e-05 4.73423426e-03]\n",
            "Epoch 56 Cost is: 0.004592766073234927 weights [1.08200619e-03 1.14687393e-05 4.75190960e-03]\n",
            "Epoch 57 Cost is: 0.004590102492353094 weights [1.08643105e-03 1.15130469e-05 4.76791788e-03]\n",
            "Epoch 58 Cost is: 0.00458768139488789 weights [1.09061579e-03 1.15573502e-05 4.78311051e-03]\n",
            "Epoch 59 Cost is: 0.004585702413098774 weights [1.09432078e-03 1.15975168e-05 4.79668179e-03]\n",
            "Epoch 60 Cost is: 0.004583726433691246 weights [1.09802540e-03 1.16376793e-05 4.81025171e-03]\n",
            "Epoch 61 Cost is: 0.004582138251881877 weights [1.10156849e-03 1.16778379e-05 4.82299795e-03]\n",
            "Epoch 62 Cost is: 0.004581160865487664 weights [1.10433023e-03 1.17097279e-05 4.83249086e-03]\n",
            "Epoch 63 Cost is: 0.0045801836745609555 weights [1.10709170e-03 1.17416148e-05 4.84198282e-03]\n",
            "Epoch 64 Cost is: 0.004579206679062661 weights [1.10985289e-03 1.17734985e-05 4.85147383e-03]\n",
            "Epoch 65 Cost is: 0.004578249887560145 weights [1.11261381e-03 1.18053790e-05 4.86096388e-03]\n",
            "Epoch 66 Cost is: 0.00457743051327097 weights [1.11514304e-03 1.18331241e-05 4.86965547e-03]\n",
            "Epoch 67 Cost is: 0.004576626246464689 weights [1.11767202e-03 1.18608664e-05 4.87834619e-03]\n",
            "Epoch 68 Cost is: 0.004575950146163416 weights [1.11996521e-03 1.18844737e-05 4.88624266e-03]\n",
            "Epoch 69 Cost is: 0.004575274181075445 weights [1.12225818e-03 1.19080786e-05 4.89413833e-03]\n",
            "Epoch 70 Cost is: 0.004574598351173731 weights [1.12455091e-03 1.19316812e-05 4.90203321e-03]\n",
            "Epoch 71 Cost is: 0.004573922656431238 weights [1.12684341e-03 1.19552814e-05 4.90992731e-03]\n",
            "Epoch 72 Cost is: 0.004573247096820936 weights [1.12913569e-03 1.19788793e-05 4.91782061e-03]\n",
            "Epoch 73 Cost is: 0.004572571672315802 weights [1.13142773e-03 1.20024748e-05 4.92571313e-03]\n",
            "Epoch 74 Cost is: 0.004571896382888813 weights [1.13371955e-03 1.20260679e-05 4.93360486e-03]\n",
            "Epoch 75 Cost is: 0.004571221228512957 weights [1.13601113e-03 1.20496587e-05 4.94149579e-03]\n",
            "Epoch 76 Cost is: 0.004570546209161226 weights [1.13830249e-03 1.20732471e-05 4.94938594e-03]\n",
            "Epoch 77 Cost is: 0.0045698713248066136 weights [1.14059362e-03 1.20968332e-05 4.95727530e-03]\n",
            "Epoch 78 Cost is: 0.004569196575422124 weights [1.14288452e-03 1.21204169e-05 4.96516387e-03]\n",
            "Epoch 79 Cost is: 0.0045685219609807644 weights [1.14517519e-03 1.21439983e-05 4.97305165e-03]\n",
            "Epoch 80 Cost is: 0.0045678474814555454 weights [1.14746563e-03 1.21675773e-05 4.98093864e-03]\n",
            "Epoch 81 Cost is: 0.004567173136819488 weights [1.14975584e-03 1.21911539e-05 4.98882485e-03]\n",
            "Epoch 82 Cost is: 0.0045664989270456134 weights [1.15204583e-03 1.22147282e-05 4.99671026e-03]\n",
            "Epoch 83 Cost is: 0.004565824852106952 weights [1.15433558e-03 1.22383001e-05 5.00459489e-03]\n",
            "Epoch 84 Cost is: 0.004565150911976539 weights [1.15662511e-03 1.22618696e-05 5.01247873e-03]\n",
            "Epoch 85 Cost is: 0.004564477106627411 weights [1.15891440e-03 1.22854368e-05 5.02036178e-03]\n",
            "Epoch 86 Cost is: 0.004563803436032614 weights [1.16120347e-03 1.23090017e-05 5.02824404e-03]\n",
            "Epoch 87 Cost is: 0.0045631299001652 weights [1.16349231e-03 1.23325642e-05 5.03612551e-03]\n",
            "Epoch 88 Cost is: 0.004562456498998225 weights [1.16578092e-03 1.23561243e-05 5.04400619e-03]\n",
            "Epoch 89 Cost is: 0.004561799876976187 weights [1.16806930e-03 1.23796821e-05 5.05188609e-03]\n",
            "Epoch 90 Cost is: 0.004561251321835836 weights [1.17014257e-03 1.23991053e-05 5.05899661e-03]\n",
            "Epoch 91 Cost is: 0.004560702876401026 weights [1.17221564e-03 1.24185265e-05 5.06610641e-03]\n",
            "Epoch 92 Cost is: 0.0045601545406498195 weights [1.17428850e-03 1.24379458e-05 5.07321550e-03]\n",
            "Epoch 93 Cost is: 0.0045596063145602805 weights [1.17636116e-03 1.24573632e-05 5.08032388e-03]\n",
            "Epoch 94 Cost is: 0.0045590581981104755 weights [1.17843360e-03 1.24767786e-05 5.08743155e-03]\n",
            "Epoch 95 Cost is: 0.00455851019127848 weights [1.18050584e-03 1.24961921e-05 5.09453851e-03]\n",
            "Epoch 96 Cost is: 0.004557962294042371 weights [1.18257787e-03 1.25156036e-05 5.10164476e-03]\n",
            "Epoch 97 Cost is: 0.00455741450638023 weights [1.18464970e-03 1.25350132e-05 5.10875030e-03]\n",
            "Epoch 98 Cost is: 0.004556866828270144 weights [1.18672132e-03 1.25544209e-05 5.11585512e-03]\n",
            "Epoch 99 Cost is: 0.004556319259690203 weights [1.18879273e-03 1.25738266e-05 5.12295924e-03]\n"
          ]
        }
      ]
    },
    {
      "cell_type": "code",
      "source": [
        "plt.plot(np.arange(num_iterations), cost_list)\n",
        "plt.show()"
      ],
      "metadata": {
        "colab": {
          "base_uri": "https://localhost:8080/",
          "height": 265
        },
        "id": "y2FwWrLPrxao",
        "outputId": "55f4cc7b-a46a-4da1-d264-f2689e0300f0"
      },
      "execution_count": null,
      "outputs": [
        {
          "output_type": "display_data",
          "data": {
            "text/plain": [
              "<Figure size 432x288 with 1 Axes>"
            ],
            "image/png": "[encoded data removed]"
          },
          "metadata": {
            "needs_background": "light"
          }
        }
      ]
    },
    {
      "cell_type": "code",
      "source": [
        "def predict_svm(weights, X):\n",
        "    \"\"\"\n",
        "    Predict the class between 0 and 1 using learned SVM parameters weights.\n",
        "    \"\"\"    \n",
        "    return np.where(np.dot(X, weights)<0, -1, 1)"
      ],
      "metadata": {
        "id": "pnQhFMZ2sQrs"
      },
      "execution_count": null,
      "outputs": []
    },
    {
      "cell_type": "code",
      "source": [
        "print(\"Accuracy Score:\", accuracy_score(y_test, predict_svm(weights, X_test)))"
      ],
      "metadata": {
        "colab": {
          "base_uri": "https://localhost:8080/"
        },
        "id": "YB-dCEN3sTF3",
        "outputId": "c878a1cf-2069-455a-a72a-8b8e347bfc89"
      },
      "execution_count": null,
      "outputs": [
        {
          "output_type": "stream",
          "name": "stdout",
          "text": [
            "Accuracy Score: 0.5081967213114754\n"
          ]
        }
      ]
    },
    {
      "cell_type": "code",
      "source": [
        "# classification report\n",
        "from sklearn.metrics import classification_report\n",
        "\n",
        "y_pred = predict_svm(weights, X_test)\n",
        "print(classification_report(y_test, y_pred))"
      ],
      "metadata": {
        "colab": {
          "base_uri": "https://localhost:8080/"
        },
        "id": "93Xz6TPqsgk_",
        "outputId": "a35b032d-dfc3-4bc1-a3b2-a079db745e98"
      },
      "execution_count": null,
      "outputs": [
        {
          "output_type": "stream",
          "name": "stdout",
          "text": [
            "              precision    recall  f1-score   support\n",
            "\n",
            "           0       0.00      0.00      0.00        30\n",
            "           1       0.51      1.00      0.67        31\n",
            "\n",
            "    accuracy                           0.51        61\n",
            "   macro avg       0.25      0.50      0.34        61\n",
            "weighted avg       0.26      0.51      0.34        61\n",
            "\n"
          ]
        },
        {
          "output_type": "stream",
          "name": "stderr",
          "text": [
            "/usr/local/lib/python3.7/dist-packages/sklearn/metrics/_classification.py:1318: UndefinedMetricWarning: Precision and F-score are ill-defined and being set to 0.0 in labels with no predicted samples. Use `zero_division` parameter to control this behavior.\n",
            "  _warn_prf(average, modifier, msg_start, len(result))\n",
            "/usr/local/lib/python3.7/dist-packages/sklearn/metrics/_classification.py:1318: UndefinedMetricWarning: Precision and F-score are ill-defined and being set to 0.0 in labels with no predicted samples. Use `zero_division` parameter to control this behavior.\n",
            "  _warn_prf(average, modifier, msg_start, len(result))\n",
            "/usr/local/lib/python3.7/dist-packages/sklearn/metrics/_classification.py:1318: UndefinedMetricWarning: Precision and F-score are ill-defined and being set to 0.0 in labels with no predicted samples. Use `zero_division` parameter to control this behavior.\n",
            "  _warn_prf(average, modifier, msg_start, len(result))\n"
          ]
        }
      ]
    },
    {
      "cell_type": "markdown",
      "metadata": {
        "id": "hu0cq3IgBbMz"
      },
      "source": [
        "# Task 4 - Compare SVM results with Logistic Regression - (4 points)\n",
        "\n",
        "Which model performs better here? Compare your results wit the logistic regression. You can use libraries for this task, it is not necessary to implement logistic regression from sratch.\n"
      ]
    },
    {
      "cell_type": "code",
      "execution_count": null,
      "metadata": {
        "colab": {
          "base_uri": "https://localhost:8080/"
        },
        "id": "C-gn4nHFBbM0",
        "outputId": "26f16fac-c097-4eeb-9b12-1747801e8e6a"
      },
      "outputs": [
        {
          "output_type": "stream",
          "name": "stdout",
          "text": [
            "0.6885245901639344\n"
          ]
        }
      ],
      "source": [
        "# Add your code Here! \n",
        "from sklearn.linear_model import LogisticRegression\n",
        "\n",
        "# generate Logistic Regression\n",
        "LogReg = LogisticRegression()\n",
        "LogReg.fit(X_train, y_train)\n",
        "\n",
        "y_pred = LogReg.predict(X_test)\n",
        "print(accuracy_score(y_test, y_pred))"
      ]
    },
    {
      "cell_type": "code",
      "source": [
        "print(classification_report(y_test, y_pred))"
      ],
      "metadata": {
        "colab": {
          "base_uri": "https://localhost:8080/"
        },
        "id": "kY6qQosnJmoA",
        "outputId": "e713e0ea-fb54-4ed7-ecad-50f906e2d5f4"
      },
      "execution_count": null,
      "outputs": [
        {
          "output_type": "stream",
          "name": "stdout",
          "text": [
            "              precision    recall  f1-score   support\n",
            "\n",
            "           0       0.72      0.60      0.65        30\n",
            "           1       0.67      0.77      0.72        31\n",
            "\n",
            "    accuracy                           0.69        61\n",
            "   macro avg       0.69      0.69      0.69        61\n",
            "weighted avg       0.69      0.69      0.69        61\n",
            "\n"
          ]
        }
      ]
    },
    {
      "cell_type": "code",
      "source": [
        "# Seems the Logistic Regression model performs better in terms of accuracy"
      ],
      "metadata": {
        "id": "PiSVrV7OtpMA"
      },
      "execution_count": null,
      "outputs": []
    },
    {
      "cell_type": "markdown",
      "metadata": {
        "id": "LZXZvdm2BbM1"
      },
      "source": [
        "# Task 5 - Apply a kernel function to improve SVM performance (4 points)\n",
        "\n",
        "Use the Scikit-learn librariy and apply a kernel function to improve the SVM performance. Check if this is possible. \n"
      ]
    },
    {
      "cell_type": "code",
      "execution_count": null,
      "metadata": {
        "colab": {
          "base_uri": "https://localhost:8080/"
        },
        "id": "O60whfHlBbM2",
        "outputId": "e2ab0787-b9e5-4052-b74e-1edf9fbf8812"
      },
      "outputs": [
        {
          "output_type": "execute_result",
          "data": {
            "text/plain": [
              "SVC(kernel='linear')"
            ]
          },
          "metadata": {},
          "execution_count": 184
        }
      ],
      "source": [
        "# Add your code Here!\n",
        "model = svm.SVC(kernel='linear')\n",
        "model.fit(X_train, y_train)"
      ]
    },
    {
      "cell_type": "code",
      "execution_count": null,
      "metadata": {
        "colab": {
          "base_uri": "https://localhost:8080/"
        },
        "id": "3wOc4bQwBbM2",
        "outputId": "6c7d9cd3-b878-414a-e460-b4a2cc760cde"
      },
      "outputs": [
        {
          "output_type": "stream",
          "name": "stdout",
          "text": [
            "Accuracy Score: 0.6229508196721312\n",
            "              precision    recall  f1-score   support\n",
            "\n",
            "           0       0.61      0.63      0.62        30\n",
            "           1       0.63      0.61      0.62        31\n",
            "\n",
            "    accuracy                           0.62        61\n",
            "   macro avg       0.62      0.62      0.62        61\n",
            "weighted avg       0.62      0.62      0.62        61\n",
            "\n"
          ]
        }
      ],
      "source": [
        "# Add your code Here! \n",
        "y_pred = model.predict(X_test)\n",
        "\n",
        "print(\"Accuracy Score:\", accuracy_score(y_test, y_pred))\n",
        "print(classification_report(y_test,y_pred))"
      ]
    },
    {
      "cell_type": "code",
      "source": [
        "# After applying kernel function, the accuracy and class report \n",
        "# is very similar to logistic regression and performance has improved"
      ],
      "metadata": {
        "id": "UDo7ptY9vEfO"
      },
      "execution_count": null,
      "outputs": []
    }
  ],
  "metadata": {
    "kernelspec": {
      "display_name": "Python 3 (ipykernel)",
      "language": "python",
      "name": "python3"
    },
    "language_info": {
      "codemirror_mode": {
        "name": "ipython",
        "version": 3
      },
      "file_extension": ".py",
      "mimetype": "text/x-python",
      "name": "python",
      "nbconvert_exporter": "python",
      "pygments_lexer": "ipython3",
      "version": "3.9.7"
    },
    "colab": {
      "provenance": []
    }
  },
  "nbformat": 4,
  "nbformat_minor": 0
}